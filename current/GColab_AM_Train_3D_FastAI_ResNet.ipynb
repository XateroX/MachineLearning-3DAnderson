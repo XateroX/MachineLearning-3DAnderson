{
  "nbformat": 4,
  "nbformat_minor": 0,
  "metadata": {
    "kernelspec": {
      "display_name": "Python 3",
      "language": "python",
      "name": "python3"
    },
    "language_info": {
      "codemirror_mode": {
        "name": "ipython",
        "version": 3
      },
      "file_extension": ".py",
      "mimetype": "text/x-python",
      "name": "python",
      "nbconvert_exporter": "python",
      "pygments_lexer": "ipython3",
      "version": "3.7.0"
    },
    "colab": {
      "name": "AM-Train-3D-FastAI-ResNet.ipynb",
      "provenance": [],
      "collapsed_sections": [
        "bKKA-3NSpeKN",
        "H5zBkbnLpeKY"
      ]
    }
  },
  "cells": [
    {
      "cell_type": "markdown",
      "metadata": {
        "id": "L2GhE2tUpeJ2"
      },
      "source": [
        "# Image recognition of Anderson states"
      ]
    },
    {
      "cell_type": "markdown",
      "metadata": {
        "id": "_902jQztpeJ7"
      },
      "source": [
        "## Preliminaries"
      ]
    },
    {
      "cell_type": "code",
      "metadata": {
        "id": "lKzjTI5lpeJ9"
      },
      "source": [
        "%reload_ext autoreload\n",
        "%autoreload 2\n",
        "%matplotlib inline"
      ],
      "execution_count": 2,
      "outputs": []
    },
    {
      "cell_type": "code",
      "metadata": {
        "scrolled": true,
        "id": "BZCnS3VZpeJ-"
      },
      "source": [
        "import torch\n",
        "import fastai\n",
        "from fastai.vision import *\n",
        "#from fastai.metrics import error_rate"
      ],
      "execution_count": 3,
      "outputs": []
    },
    {
      "cell_type": "code",
      "metadata": {
        "id": "0QQfPQJbpeKA"
      },
      "source": [
        "#bs = 64\n",
        "bs = 16  # uncomment this line if you run out of memory even after clicking Kernel->Restart\n",
        "myepoch0 = 4\n",
        "myepoch1 = 2\n",
        "myepoch2 = 2"
      ],
      "execution_count": 4,
      "outputs": []
    },
    {
      "cell_type": "markdown",
      "metadata": {
        "id": "0p08baNGpeKB"
      },
      "source": [
        "## Reading in the image data"
      ]
    },
    {
      "cell_type": "code",
      "metadata": {
        "id": "jVknPhoEpeKB"
      },
      "source": [
        "path = Path(' /storage/disqs/UG-phaseML/data/')"
      ],
      "execution_count": 5,
      "outputs": []
    },
    {
      "cell_type": "code",
      "metadata": {
        "colab": {
          "base_uri": "https://localhost:8080/",
          "height": 306
        },
        "id": "uQrMVJpCpeKC",
        "outputId": "23325f6d-e9b6-4f40-88a3-b39fce3369af"
      },
      "source": [
        "path.ls()"
      ],
      "execution_count": 6,
      "outputs": [
        {
          "output_type": "error",
          "ename": "FileNotFoundError",
          "evalue": "ignored",
          "traceback": [
            "\u001b[0;31m---------------------------------------------------------------------------\u001b[0m",
            "\u001b[0;31mFileNotFoundError\u001b[0m                         Traceback (most recent call last)",
            "\u001b[0;32m<ipython-input-6-4e20bcf9cc48>\u001b[0m in \u001b[0;36m<module>\u001b[0;34m()\u001b[0m\n\u001b[0;32m----> 1\u001b[0;31m \u001b[0mpath\u001b[0m\u001b[0;34m.\u001b[0m\u001b[0mls\u001b[0m\u001b[0;34m(\u001b[0m\u001b[0;34m)\u001b[0m\u001b[0;34m\u001b[0m\u001b[0;34m\u001b[0m\u001b[0m\n\u001b[0m",
            "\u001b[0;32m/usr/local/lib/python3.6/dist-packages/fastai/core.py\u001b[0m in \u001b[0;36m<lambda>\u001b[0;34m(x)\u001b[0m\n\u001b[1;32m    237\u001b[0m     \u001b[0;32mreturn\u001b[0m \u001b[0mnp\u001b[0m\u001b[0;34m.\u001b[0m\u001b[0marange\u001b[0m\u001b[0;34m(\u001b[0m\u001b[0mlen\u001b[0m\u001b[0;34m(\u001b[0m\u001b[0mx\u001b[0m\u001b[0;34m)\u001b[0m\u001b[0;34m)\u001b[0m\u001b[0;34m\u001b[0m\u001b[0;34m\u001b[0m\u001b[0m\n\u001b[1;32m    238\u001b[0m \u001b[0;34m\u001b[0m\u001b[0m\n\u001b[0;32m--> 239\u001b[0;31m \u001b[0mPath\u001b[0m\u001b[0;34m.\u001b[0m\u001b[0mls\u001b[0m \u001b[0;34m=\u001b[0m \u001b[0;32mlambda\u001b[0m \u001b[0mx\u001b[0m\u001b[0;34m:\u001b[0m \u001b[0mlist\u001b[0m\u001b[0;34m(\u001b[0m\u001b[0mx\u001b[0m\u001b[0;34m.\u001b[0m\u001b[0miterdir\u001b[0m\u001b[0;34m(\u001b[0m\u001b[0;34m)\u001b[0m\u001b[0;34m)\u001b[0m\u001b[0;34m\u001b[0m\u001b[0;34m\u001b[0m\u001b[0m\n\u001b[0m\u001b[1;32m    240\u001b[0m \u001b[0;34m\u001b[0m\u001b[0m\n\u001b[1;32m    241\u001b[0m \u001b[0;32mdef\u001b[0m \u001b[0mjoin_path\u001b[0m\u001b[0;34m(\u001b[0m\u001b[0mfname\u001b[0m\u001b[0;34m:\u001b[0m\u001b[0mPathOrStr\u001b[0m\u001b[0;34m,\u001b[0m \u001b[0mpath\u001b[0m\u001b[0;34m:\u001b[0m\u001b[0mPathOrStr\u001b[0m\u001b[0;34m=\u001b[0m\u001b[0;34m'.'\u001b[0m\u001b[0;34m)\u001b[0m\u001b[0;34m->\u001b[0m\u001b[0mPath\u001b[0m\u001b[0;34m:\u001b[0m\u001b[0;34m\u001b[0m\u001b[0;34m\u001b[0m\u001b[0m\n",
            "\u001b[0;32m/usr/lib/python3.6/pathlib.py\u001b[0m in \u001b[0;36miterdir\u001b[0;34m(self)\u001b[0m\n\u001b[1;32m   1079\u001b[0m         \u001b[0;32mif\u001b[0m \u001b[0mself\u001b[0m\u001b[0;34m.\u001b[0m\u001b[0m_closed\u001b[0m\u001b[0;34m:\u001b[0m\u001b[0;34m\u001b[0m\u001b[0;34m\u001b[0m\u001b[0m\n\u001b[1;32m   1080\u001b[0m             \u001b[0mself\u001b[0m\u001b[0;34m.\u001b[0m\u001b[0m_raise_closed\u001b[0m\u001b[0;34m(\u001b[0m\u001b[0;34m)\u001b[0m\u001b[0;34m\u001b[0m\u001b[0;34m\u001b[0m\u001b[0m\n\u001b[0;32m-> 1081\u001b[0;31m         \u001b[0;32mfor\u001b[0m \u001b[0mname\u001b[0m \u001b[0;32min\u001b[0m \u001b[0mself\u001b[0m\u001b[0;34m.\u001b[0m\u001b[0m_accessor\u001b[0m\u001b[0;34m.\u001b[0m\u001b[0mlistdir\u001b[0m\u001b[0;34m(\u001b[0m\u001b[0mself\u001b[0m\u001b[0;34m)\u001b[0m\u001b[0;34m:\u001b[0m\u001b[0;34m\u001b[0m\u001b[0;34m\u001b[0m\u001b[0m\n\u001b[0m\u001b[1;32m   1082\u001b[0m             \u001b[0;32mif\u001b[0m \u001b[0mname\u001b[0m \u001b[0;32min\u001b[0m \u001b[0;34m{\u001b[0m\u001b[0;34m'.'\u001b[0m\u001b[0;34m,\u001b[0m \u001b[0;34m'..'\u001b[0m\u001b[0;34m}\u001b[0m\u001b[0;34m:\u001b[0m\u001b[0;34m\u001b[0m\u001b[0;34m\u001b[0m\u001b[0m\n\u001b[1;32m   1083\u001b[0m                 \u001b[0;31m# Yielding a path object for these makes little sense\u001b[0m\u001b[0;34m\u001b[0m\u001b[0;34m\u001b[0m\u001b[0;34m\u001b[0m\u001b[0m\n",
            "\u001b[0;32m/usr/lib/python3.6/pathlib.py\u001b[0m in \u001b[0;36mwrapped\u001b[0;34m(pathobj, *args)\u001b[0m\n\u001b[1;32m    385\u001b[0m         \u001b[0;34m@\u001b[0m\u001b[0mfunctools\u001b[0m\u001b[0;34m.\u001b[0m\u001b[0mwraps\u001b[0m\u001b[0;34m(\u001b[0m\u001b[0mstrfunc\u001b[0m\u001b[0;34m)\u001b[0m\u001b[0;34m\u001b[0m\u001b[0;34m\u001b[0m\u001b[0m\n\u001b[1;32m    386\u001b[0m         \u001b[0;32mdef\u001b[0m \u001b[0mwrapped\u001b[0m\u001b[0;34m(\u001b[0m\u001b[0mpathobj\u001b[0m\u001b[0;34m,\u001b[0m \u001b[0;34m*\u001b[0m\u001b[0margs\u001b[0m\u001b[0;34m)\u001b[0m\u001b[0;34m:\u001b[0m\u001b[0;34m\u001b[0m\u001b[0;34m\u001b[0m\u001b[0m\n\u001b[0;32m--> 387\u001b[0;31m             \u001b[0;32mreturn\u001b[0m \u001b[0mstrfunc\u001b[0m\u001b[0;34m(\u001b[0m\u001b[0mstr\u001b[0m\u001b[0;34m(\u001b[0m\u001b[0mpathobj\u001b[0m\u001b[0;34m)\u001b[0m\u001b[0;34m,\u001b[0m \u001b[0;34m*\u001b[0m\u001b[0margs\u001b[0m\u001b[0;34m)\u001b[0m\u001b[0;34m\u001b[0m\u001b[0;34m\u001b[0m\u001b[0m\n\u001b[0m\u001b[1;32m    388\u001b[0m         \u001b[0;32mreturn\u001b[0m \u001b[0mstaticmethod\u001b[0m\u001b[0;34m(\u001b[0m\u001b[0mwrapped\u001b[0m\u001b[0;34m)\u001b[0m\u001b[0;34m\u001b[0m\u001b[0;34m\u001b[0m\u001b[0m\n\u001b[1;32m    389\u001b[0m \u001b[0;34m\u001b[0m\u001b[0m\n",
            "\u001b[0;31mFileNotFoundError\u001b[0m: [Errno 2] No such file or directory: ' /storage/disqs/UG-phaseML/data'"
          ]
        }
      ]
    },
    {
      "cell_type": "code",
      "metadata": {
        "id": "j5PsG75M8Kb5"
      },
      "source": [
        "def make_3D_structure(file, system_size):\r\n",
        "    col = 0\r\n",
        "    row = 0\r\n",
        "    lay = 0\r\n",
        "    \r\n",
        "    system = []\r\n",
        "    for i in range(system_size):\r\n",
        "        system.append([])\r\n",
        "        for j in range(system_size):\r\n",
        "            system[-1].append([])\r\n",
        "            for j in range(system_size):\r\n",
        "                system[-1][-1].append([])\r\n",
        "    #print(len(system))\r\n",
        "    #print(len(system[0]))\r\n",
        "    #print(len(system[0][0]))\r\n",
        "    \r\n",
        "    for line in file:\r\n",
        "        if col == system_size:\r\n",
        "            col = 0\r\n",
        "            row += 1\r\n",
        "        if row == system_size:\r\n",
        "            row = 0\r\n",
        "            lay += 1\r\n",
        "        system[col][row][lay].append(float(line))\r\n",
        "        #print(float(line))\r\n",
        "        col += 1\r\n",
        "    return system\r\n",
        "        "
      ],
      "execution_count": null,
      "outputs": []
    },
    {
      "cell_type": "code",
      "metadata": {
        "id": "N9wWj7fM8Gp1"
      },
      "source": [
        "import os\r\n",
        "\r\n",
        "data   = []\r\n",
        "labels = []\r\n",
        "\r\n",
        "datasrc = '/home/epp/phupqr/PX319MLPhases/MachineLearning-Anderson/raw_system_data_refs' #Source of the locations of the data\r\n",
        "\r\n",
        "disorder_systems      = []\r\n",
        "disorder_class_labels = []\r\n",
        "\r\n",
        "for disorder_class_folder in os.scandir(datasrc):                #Go through each of the disorder folders...\r\n",
        "    print(disorder_class_folder.path)\r\n",
        "    disorder_class = disorder_class_folder.path.rsplit('_',1)[1];\r\n",
        "    print(disorder_class)\r\n",
        "    disorder_systems.append([])\r\n",
        "    disorder_class_labels.append(disorder_class)\r\n",
        "    \r\n",
        "    for file in os.scandir(disorder_class_folder.path):          #...find the file in each folder...\r\n",
        "        #print(file)                                             #...\r\n",
        "        the_file = open(file.path, 'r')                          #...open the file to read the locations of the data...\r\n",
        "        \r\n",
        "        number_of_data = 0\r\n",
        "        for line in the_file:                                    #...for each... \r\n",
        "            \r\n",
        "            if (number_of_data < 1):                           #...gather a certain amount of data...\r\n",
        "                print(\" \")\r\n",
        "                number_of_data += 1\r\n",
        "\r\n",
        "                #print(line)\r\n",
        "                line = line.rsplit('\\n',1)[0]\r\n",
        "                raw_data = open(line,'r')\r\n",
        "                system = make_3D_structure(raw_data, 20)\r\n",
        "                #print(system)\r\n",
        "                disorder_systems[-1].append(system)\r\n",
        "                print(\"added system to \" + disorder_class_labels[-1])\r\n",
        "     \r\n"
      ],
      "execution_count": null,
      "outputs": []
    },
    {
      "cell_type": "code",
      "metadata": {
        "id": "HrP-ik6upeKD"
      },
      "source": [
        "class ThreeDDataset(Dataset):\n",
        "    def __init__(self, x, y):\n",
        "        self.x = x\n",
        "        self.y = y\n",
        "        self.c = len(self.y)\n",
        "        self.is_empty=(len(x)==0)\n",
        "    \n",
        "    def __len__(self):\n",
        "        return len(self.x)\n",
        "    \n",
        "    def __getitem__(self, i):\n",
        "        return self.x[i],self.y[i]\n",
        "        "
      ],
      "execution_count": 7,
      "outputs": []
    },
    {
      "cell_type": "code",
      "metadata": {
        "colab": {
          "base_uri": "https://localhost:8080/"
        },
        "id": "Pik8R2VDpeKE",
        "outputId": "1621f3ce-953f-435f-eb2e-660fb2633f16"
      },
      "source": [
        "#Data from the path\n",
        "#np.random.seed(1234567)\n",
        "#data = ImageDataBunch.from_folder(path, train=\".\", valid_pct=0.2,\n",
        "        #ds_tfms=get_transforms(do_flip=False,max_rotate=0.,max_warp=0.,max_zoom=1.0,max_lighting=None), \n",
        "                                  #size=256, num_workers=4).normalize(imagenet_stats)\n",
        "        \n",
        "N = 10    #Number of sample 3D systems\n",
        "tensors = []\n",
        "for i in range(N):\n",
        "    ten = [\n",
        "        [\n",
        "            [1,1,1],    \n",
        "            [1,1,1],    #Layer 0\n",
        "            [1,1,1]\n",
        "        ],\n",
        "        [\n",
        "            [1,1,1],\n",
        "            [1,1,1],    #Layer 1\n",
        "            [1,1,1]\n",
        "        ],\n",
        "        [\n",
        "            [1,1,1],\n",
        "            [1,1,1],    #Layer 2\n",
        "            [1,1,1]\n",
        "        ]\n",
        "    ]\n",
        "    tensors.append(ten)\n",
        "tensors = torch.Tensor(tensors)\n",
        "print(tensors[0])\n",
        "\n",
        "labels = []\n",
        "for i in range(N):\n",
        "  labels.append(random.randint(0,N-1))\n",
        "labels = torch.tensor(labels)\n",
        "print(labels)\n",
        "\n",
        "loader = ThreeDDataset(tensors,labels)\n",
        "\n",
        "databunch = DataBunch.create(loader, loader, bs=2, num_workers=5)"
      ],
      "execution_count": 13,
      "outputs": [
        {
          "output_type": "stream",
          "text": [
            "tensor([[[1., 1., 1.],\n",
            "         [1., 1., 1.],\n",
            "         [1., 1., 1.]],\n",
            "\n",
            "        [[1., 1., 1.],\n",
            "         [1., 1., 1.],\n",
            "         [1., 1., 1.]],\n",
            "\n",
            "        [[1., 1., 1.],\n",
            "         [1., 1., 1.],\n",
            "         [1., 1., 1.]]])\n",
            "tensor([2, 4, 2, 2, 6, 1, 9, 3, 4, 4])\n"
          ],
          "name": "stdout"
        }
      ]
    },
    {
      "cell_type": "markdown",
      "metadata": {
        "id": "swgOgJFBpeKF"
      },
      "source": [
        "## Train model"
      ]
    },
    {
      "cell_type": "code",
      "metadata": {
        "id": "xPdsytzlpeKF"
      },
      "source": [
        "learn = cnn_learner(databunch, models.resnet50, metrics=error_rate, pretrained=False)#.to_fp16()"
      ],
      "execution_count": 14,
      "outputs": []
    },
    {
      "cell_type": "code",
      "metadata": {
        "colab": {
          "base_uri": "https://localhost:8080/"
        },
        "id": "5G2slNP0peKG",
        "outputId": "c4387899-dcee-4599-cae2-505d48969692"
      },
      "source": [
        "learn.model"
      ],
      "execution_count": 15,
      "outputs": [
        {
          "output_type": "execute_result",
          "data": {
            "text/plain": [
              "Sequential(\n",
              "  (0): Sequential(\n",
              "    (0): Conv2d(3, 64, kernel_size=(7, 7), stride=(2, 2), padding=(3, 3), bias=False)\n",
              "    (1): BatchNorm2d(64, eps=1e-05, momentum=0.1, affine=True, track_running_stats=True)\n",
              "    (2): ReLU(inplace=True)\n",
              "    (3): MaxPool2d(kernel_size=3, stride=2, padding=1, dilation=1, ceil_mode=False)\n",
              "    (4): Sequential(\n",
              "      (0): Bottleneck(\n",
              "        (conv1): Conv2d(64, 64, kernel_size=(1, 1), stride=(1, 1), bias=False)\n",
              "        (bn1): BatchNorm2d(64, eps=1e-05, momentum=0.1, affine=True, track_running_stats=True)\n",
              "        (conv2): Conv2d(64, 64, kernel_size=(3, 3), stride=(1, 1), padding=(1, 1), bias=False)\n",
              "        (bn2): BatchNorm2d(64, eps=1e-05, momentum=0.1, affine=True, track_running_stats=True)\n",
              "        (conv3): Conv2d(64, 256, kernel_size=(1, 1), stride=(1, 1), bias=False)\n",
              "        (bn3): BatchNorm2d(256, eps=1e-05, momentum=0.1, affine=True, track_running_stats=True)\n",
              "        (relu): ReLU(inplace=True)\n",
              "        (downsample): Sequential(\n",
              "          (0): Conv2d(64, 256, kernel_size=(1, 1), stride=(1, 1), bias=False)\n",
              "          (1): BatchNorm2d(256, eps=1e-05, momentum=0.1, affine=True, track_running_stats=True)\n",
              "        )\n",
              "      )\n",
              "      (1): Bottleneck(\n",
              "        (conv1): Conv2d(256, 64, kernel_size=(1, 1), stride=(1, 1), bias=False)\n",
              "        (bn1): BatchNorm2d(64, eps=1e-05, momentum=0.1, affine=True, track_running_stats=True)\n",
              "        (conv2): Conv2d(64, 64, kernel_size=(3, 3), stride=(1, 1), padding=(1, 1), bias=False)\n",
              "        (bn2): BatchNorm2d(64, eps=1e-05, momentum=0.1, affine=True, track_running_stats=True)\n",
              "        (conv3): Conv2d(64, 256, kernel_size=(1, 1), stride=(1, 1), bias=False)\n",
              "        (bn3): BatchNorm2d(256, eps=1e-05, momentum=0.1, affine=True, track_running_stats=True)\n",
              "        (relu): ReLU(inplace=True)\n",
              "      )\n",
              "      (2): Bottleneck(\n",
              "        (conv1): Conv2d(256, 64, kernel_size=(1, 1), stride=(1, 1), bias=False)\n",
              "        (bn1): BatchNorm2d(64, eps=1e-05, momentum=0.1, affine=True, track_running_stats=True)\n",
              "        (conv2): Conv2d(64, 64, kernel_size=(3, 3), stride=(1, 1), padding=(1, 1), bias=False)\n",
              "        (bn2): BatchNorm2d(64, eps=1e-05, momentum=0.1, affine=True, track_running_stats=True)\n",
              "        (conv3): Conv2d(64, 256, kernel_size=(1, 1), stride=(1, 1), bias=False)\n",
              "        (bn3): BatchNorm2d(256, eps=1e-05, momentum=0.1, affine=True, track_running_stats=True)\n",
              "        (relu): ReLU(inplace=True)\n",
              "      )\n",
              "    )\n",
              "    (5): Sequential(\n",
              "      (0): Bottleneck(\n",
              "        (conv1): Conv2d(256, 128, kernel_size=(1, 1), stride=(1, 1), bias=False)\n",
              "        (bn1): BatchNorm2d(128, eps=1e-05, momentum=0.1, affine=True, track_running_stats=True)\n",
              "        (conv2): Conv2d(128, 128, kernel_size=(3, 3), stride=(2, 2), padding=(1, 1), bias=False)\n",
              "        (bn2): BatchNorm2d(128, eps=1e-05, momentum=0.1, affine=True, track_running_stats=True)\n",
              "        (conv3): Conv2d(128, 512, kernel_size=(1, 1), stride=(1, 1), bias=False)\n",
              "        (bn3): BatchNorm2d(512, eps=1e-05, momentum=0.1, affine=True, track_running_stats=True)\n",
              "        (relu): ReLU(inplace=True)\n",
              "        (downsample): Sequential(\n",
              "          (0): Conv2d(256, 512, kernel_size=(1, 1), stride=(2, 2), bias=False)\n",
              "          (1): BatchNorm2d(512, eps=1e-05, momentum=0.1, affine=True, track_running_stats=True)\n",
              "        )\n",
              "      )\n",
              "      (1): Bottleneck(\n",
              "        (conv1): Conv2d(512, 128, kernel_size=(1, 1), stride=(1, 1), bias=False)\n",
              "        (bn1): BatchNorm2d(128, eps=1e-05, momentum=0.1, affine=True, track_running_stats=True)\n",
              "        (conv2): Conv2d(128, 128, kernel_size=(3, 3), stride=(1, 1), padding=(1, 1), bias=False)\n",
              "        (bn2): BatchNorm2d(128, eps=1e-05, momentum=0.1, affine=True, track_running_stats=True)\n",
              "        (conv3): Conv2d(128, 512, kernel_size=(1, 1), stride=(1, 1), bias=False)\n",
              "        (bn3): BatchNorm2d(512, eps=1e-05, momentum=0.1, affine=True, track_running_stats=True)\n",
              "        (relu): ReLU(inplace=True)\n",
              "      )\n",
              "      (2): Bottleneck(\n",
              "        (conv1): Conv2d(512, 128, kernel_size=(1, 1), stride=(1, 1), bias=False)\n",
              "        (bn1): BatchNorm2d(128, eps=1e-05, momentum=0.1, affine=True, track_running_stats=True)\n",
              "        (conv2): Conv2d(128, 128, kernel_size=(3, 3), stride=(1, 1), padding=(1, 1), bias=False)\n",
              "        (bn2): BatchNorm2d(128, eps=1e-05, momentum=0.1, affine=True, track_running_stats=True)\n",
              "        (conv3): Conv2d(128, 512, kernel_size=(1, 1), stride=(1, 1), bias=False)\n",
              "        (bn3): BatchNorm2d(512, eps=1e-05, momentum=0.1, affine=True, track_running_stats=True)\n",
              "        (relu): ReLU(inplace=True)\n",
              "      )\n",
              "      (3): Bottleneck(\n",
              "        (conv1): Conv2d(512, 128, kernel_size=(1, 1), stride=(1, 1), bias=False)\n",
              "        (bn1): BatchNorm2d(128, eps=1e-05, momentum=0.1, affine=True, track_running_stats=True)\n",
              "        (conv2): Conv2d(128, 128, kernel_size=(3, 3), stride=(1, 1), padding=(1, 1), bias=False)\n",
              "        (bn2): BatchNorm2d(128, eps=1e-05, momentum=0.1, affine=True, track_running_stats=True)\n",
              "        (conv3): Conv2d(128, 512, kernel_size=(1, 1), stride=(1, 1), bias=False)\n",
              "        (bn3): BatchNorm2d(512, eps=1e-05, momentum=0.1, affine=True, track_running_stats=True)\n",
              "        (relu): ReLU(inplace=True)\n",
              "      )\n",
              "    )\n",
              "    (6): Sequential(\n",
              "      (0): Bottleneck(\n",
              "        (conv1): Conv2d(512, 256, kernel_size=(1, 1), stride=(1, 1), bias=False)\n",
              "        (bn1): BatchNorm2d(256, eps=1e-05, momentum=0.1, affine=True, track_running_stats=True)\n",
              "        (conv2): Conv2d(256, 256, kernel_size=(3, 3), stride=(2, 2), padding=(1, 1), bias=False)\n",
              "        (bn2): BatchNorm2d(256, eps=1e-05, momentum=0.1, affine=True, track_running_stats=True)\n",
              "        (conv3): Conv2d(256, 1024, kernel_size=(1, 1), stride=(1, 1), bias=False)\n",
              "        (bn3): BatchNorm2d(1024, eps=1e-05, momentum=0.1, affine=True, track_running_stats=True)\n",
              "        (relu): ReLU(inplace=True)\n",
              "        (downsample): Sequential(\n",
              "          (0): Conv2d(512, 1024, kernel_size=(1, 1), stride=(2, 2), bias=False)\n",
              "          (1): BatchNorm2d(1024, eps=1e-05, momentum=0.1, affine=True, track_running_stats=True)\n",
              "        )\n",
              "      )\n",
              "      (1): Bottleneck(\n",
              "        (conv1): Conv2d(1024, 256, kernel_size=(1, 1), stride=(1, 1), bias=False)\n",
              "        (bn1): BatchNorm2d(256, eps=1e-05, momentum=0.1, affine=True, track_running_stats=True)\n",
              "        (conv2): Conv2d(256, 256, kernel_size=(3, 3), stride=(1, 1), padding=(1, 1), bias=False)\n",
              "        (bn2): BatchNorm2d(256, eps=1e-05, momentum=0.1, affine=True, track_running_stats=True)\n",
              "        (conv3): Conv2d(256, 1024, kernel_size=(1, 1), stride=(1, 1), bias=False)\n",
              "        (bn3): BatchNorm2d(1024, eps=1e-05, momentum=0.1, affine=True, track_running_stats=True)\n",
              "        (relu): ReLU(inplace=True)\n",
              "      )\n",
              "      (2): Bottleneck(\n",
              "        (conv1): Conv2d(1024, 256, kernel_size=(1, 1), stride=(1, 1), bias=False)\n",
              "        (bn1): BatchNorm2d(256, eps=1e-05, momentum=0.1, affine=True, track_running_stats=True)\n",
              "        (conv2): Conv2d(256, 256, kernel_size=(3, 3), stride=(1, 1), padding=(1, 1), bias=False)\n",
              "        (bn2): BatchNorm2d(256, eps=1e-05, momentum=0.1, affine=True, track_running_stats=True)\n",
              "        (conv3): Conv2d(256, 1024, kernel_size=(1, 1), stride=(1, 1), bias=False)\n",
              "        (bn3): BatchNorm2d(1024, eps=1e-05, momentum=0.1, affine=True, track_running_stats=True)\n",
              "        (relu): ReLU(inplace=True)\n",
              "      )\n",
              "      (3): Bottleneck(\n",
              "        (conv1): Conv2d(1024, 256, kernel_size=(1, 1), stride=(1, 1), bias=False)\n",
              "        (bn1): BatchNorm2d(256, eps=1e-05, momentum=0.1, affine=True, track_running_stats=True)\n",
              "        (conv2): Conv2d(256, 256, kernel_size=(3, 3), stride=(1, 1), padding=(1, 1), bias=False)\n",
              "        (bn2): BatchNorm2d(256, eps=1e-05, momentum=0.1, affine=True, track_running_stats=True)\n",
              "        (conv3): Conv2d(256, 1024, kernel_size=(1, 1), stride=(1, 1), bias=False)\n",
              "        (bn3): BatchNorm2d(1024, eps=1e-05, momentum=0.1, affine=True, track_running_stats=True)\n",
              "        (relu): ReLU(inplace=True)\n",
              "      )\n",
              "      (4): Bottleneck(\n",
              "        (conv1): Conv2d(1024, 256, kernel_size=(1, 1), stride=(1, 1), bias=False)\n",
              "        (bn1): BatchNorm2d(256, eps=1e-05, momentum=0.1, affine=True, track_running_stats=True)\n",
              "        (conv2): Conv2d(256, 256, kernel_size=(3, 3), stride=(1, 1), padding=(1, 1), bias=False)\n",
              "        (bn2): BatchNorm2d(256, eps=1e-05, momentum=0.1, affine=True, track_running_stats=True)\n",
              "        (conv3): Conv2d(256, 1024, kernel_size=(1, 1), stride=(1, 1), bias=False)\n",
              "        (bn3): BatchNorm2d(1024, eps=1e-05, momentum=0.1, affine=True, track_running_stats=True)\n",
              "        (relu): ReLU(inplace=True)\n",
              "      )\n",
              "      (5): Bottleneck(\n",
              "        (conv1): Conv2d(1024, 256, kernel_size=(1, 1), stride=(1, 1), bias=False)\n",
              "        (bn1): BatchNorm2d(256, eps=1e-05, momentum=0.1, affine=True, track_running_stats=True)\n",
              "        (conv2): Conv2d(256, 256, kernel_size=(3, 3), stride=(1, 1), padding=(1, 1), bias=False)\n",
              "        (bn2): BatchNorm2d(256, eps=1e-05, momentum=0.1, affine=True, track_running_stats=True)\n",
              "        (conv3): Conv2d(256, 1024, kernel_size=(1, 1), stride=(1, 1), bias=False)\n",
              "        (bn3): BatchNorm2d(1024, eps=1e-05, momentum=0.1, affine=True, track_running_stats=True)\n",
              "        (relu): ReLU(inplace=True)\n",
              "      )\n",
              "    )\n",
              "    (7): Sequential(\n",
              "      (0): Bottleneck(\n",
              "        (conv1): Conv2d(1024, 512, kernel_size=(1, 1), stride=(1, 1), bias=False)\n",
              "        (bn1): BatchNorm2d(512, eps=1e-05, momentum=0.1, affine=True, track_running_stats=True)\n",
              "        (conv2): Conv2d(512, 512, kernel_size=(3, 3), stride=(2, 2), padding=(1, 1), bias=False)\n",
              "        (bn2): BatchNorm2d(512, eps=1e-05, momentum=0.1, affine=True, track_running_stats=True)\n",
              "        (conv3): Conv2d(512, 2048, kernel_size=(1, 1), stride=(1, 1), bias=False)\n",
              "        (bn3): BatchNorm2d(2048, eps=1e-05, momentum=0.1, affine=True, track_running_stats=True)\n",
              "        (relu): ReLU(inplace=True)\n",
              "        (downsample): Sequential(\n",
              "          (0): Conv2d(1024, 2048, kernel_size=(1, 1), stride=(2, 2), bias=False)\n",
              "          (1): BatchNorm2d(2048, eps=1e-05, momentum=0.1, affine=True, track_running_stats=True)\n",
              "        )\n",
              "      )\n",
              "      (1): Bottleneck(\n",
              "        (conv1): Conv2d(2048, 512, kernel_size=(1, 1), stride=(1, 1), bias=False)\n",
              "        (bn1): BatchNorm2d(512, eps=1e-05, momentum=0.1, affine=True, track_running_stats=True)\n",
              "        (conv2): Conv2d(512, 512, kernel_size=(3, 3), stride=(1, 1), padding=(1, 1), bias=False)\n",
              "        (bn2): BatchNorm2d(512, eps=1e-05, momentum=0.1, affine=True, track_running_stats=True)\n",
              "        (conv3): Conv2d(512, 2048, kernel_size=(1, 1), stride=(1, 1), bias=False)\n",
              "        (bn3): BatchNorm2d(2048, eps=1e-05, momentum=0.1, affine=True, track_running_stats=True)\n",
              "        (relu): ReLU(inplace=True)\n",
              "      )\n",
              "      (2): Bottleneck(\n",
              "        (conv1): Conv2d(2048, 512, kernel_size=(1, 1), stride=(1, 1), bias=False)\n",
              "        (bn1): BatchNorm2d(512, eps=1e-05, momentum=0.1, affine=True, track_running_stats=True)\n",
              "        (conv2): Conv2d(512, 512, kernel_size=(3, 3), stride=(1, 1), padding=(1, 1), bias=False)\n",
              "        (bn2): BatchNorm2d(512, eps=1e-05, momentum=0.1, affine=True, track_running_stats=True)\n",
              "        (conv3): Conv2d(512, 2048, kernel_size=(1, 1), stride=(1, 1), bias=False)\n",
              "        (bn3): BatchNorm2d(2048, eps=1e-05, momentum=0.1, affine=True, track_running_stats=True)\n",
              "        (relu): ReLU(inplace=True)\n",
              "      )\n",
              "    )\n",
              "  )\n",
              "  (1): Sequential(\n",
              "    (0): AdaptiveConcatPool2d(\n",
              "      (ap): AdaptiveAvgPool2d(output_size=1)\n",
              "      (mp): AdaptiveMaxPool2d(output_size=1)\n",
              "    )\n",
              "    (1): Flatten()\n",
              "    (2): BatchNorm1d(4096, eps=1e-05, momentum=0.1, affine=True, track_running_stats=True)\n",
              "    (3): Dropout(p=0.25, inplace=False)\n",
              "    (4): Linear(in_features=4096, out_features=512, bias=True)\n",
              "    (5): ReLU(inplace=True)\n",
              "    (6): BatchNorm1d(512, eps=1e-05, momentum=0.1, affine=True, track_running_stats=True)\n",
              "    (7): Dropout(p=0.5, inplace=False)\n",
              "    (8): Linear(in_features=512, out_features=10, bias=True)\n",
              "  )\n",
              ")"
            ]
          },
          "metadata": {
            "tags": []
          },
          "execution_count": 15
        }
      ]
    },
    {
      "cell_type": "code",
      "metadata": {
        "scrolled": true,
        "colab": {
          "base_uri": "https://localhost:8080/"
        },
        "id": "OFonlJZbpeKH",
        "outputId": "4bd4c0d7-4541-4339-dbfb-72d0975d6f13"
      },
      "source": [
        "print(learn.summary())"
      ],
      "execution_count": 16,
      "outputs": [
        {
          "output_type": "stream",
          "text": [
            "Sequential\n",
            "======================================================================\n",
            "Layer (type)         Output Shape         Param #    Trainable \n",
            "======================================================================\n",
            "Conv2d               [64, 2, 2]           9,408      True      \n",
            "______________________________________________________________________\n",
            "BatchNorm2d          [64, 2, 2]           128        True      \n",
            "______________________________________________________________________\n",
            "ReLU                 [64, 2, 2]           0          False     \n",
            "______________________________________________________________________\n",
            "MaxPool2d            [64, 1, 1]           0          False     \n",
            "______________________________________________________________________\n",
            "Conv2d               [64, 1, 1]           4,096      True      \n",
            "______________________________________________________________________\n",
            "BatchNorm2d          [64, 1, 1]           128        True      \n",
            "______________________________________________________________________\n",
            "Conv2d               [64, 1, 1]           36,864     True      \n",
            "______________________________________________________________________\n",
            "BatchNorm2d          [64, 1, 1]           128        True      \n",
            "______________________________________________________________________\n",
            "Conv2d               [256, 1, 1]          16,384     True      \n",
            "______________________________________________________________________\n",
            "BatchNorm2d          [256, 1, 1]          512        True      \n",
            "______________________________________________________________________\n",
            "ReLU                 [256, 1, 1]          0          False     \n",
            "______________________________________________________________________\n",
            "Conv2d               [256, 1, 1]          16,384     True      \n",
            "______________________________________________________________________\n",
            "BatchNorm2d          [256, 1, 1]          512        True      \n",
            "______________________________________________________________________\n",
            "Conv2d               [64, 1, 1]           16,384     True      \n",
            "______________________________________________________________________\n",
            "BatchNorm2d          [64, 1, 1]           128        True      \n",
            "______________________________________________________________________\n",
            "Conv2d               [64, 1, 1]           36,864     True      \n",
            "______________________________________________________________________\n",
            "BatchNorm2d          [64, 1, 1]           128        True      \n",
            "______________________________________________________________________\n",
            "Conv2d               [256, 1, 1]          16,384     True      \n",
            "______________________________________________________________________\n",
            "BatchNorm2d          [256, 1, 1]          512        True      \n",
            "______________________________________________________________________\n",
            "ReLU                 [256, 1, 1]          0          False     \n",
            "______________________________________________________________________\n",
            "Conv2d               [64, 1, 1]           16,384     True      \n",
            "______________________________________________________________________\n",
            "BatchNorm2d          [64, 1, 1]           128        True      \n",
            "______________________________________________________________________\n",
            "Conv2d               [64, 1, 1]           36,864     True      \n",
            "______________________________________________________________________\n",
            "BatchNorm2d          [64, 1, 1]           128        True      \n",
            "______________________________________________________________________\n",
            "Conv2d               [256, 1, 1]          16,384     True      \n",
            "______________________________________________________________________\n",
            "BatchNorm2d          [256, 1, 1]          512        True      \n",
            "______________________________________________________________________\n",
            "ReLU                 [256, 1, 1]          0          False     \n",
            "______________________________________________________________________\n",
            "Conv2d               [128, 1, 1]          32,768     True      \n",
            "______________________________________________________________________\n",
            "BatchNorm2d          [128, 1, 1]          256        True      \n",
            "______________________________________________________________________\n",
            "Conv2d               [128, 1, 1]          147,456    True      \n",
            "______________________________________________________________________\n",
            "BatchNorm2d          [128, 1, 1]          256        True      \n",
            "______________________________________________________________________\n",
            "Conv2d               [512, 1, 1]          65,536     True      \n",
            "______________________________________________________________________\n",
            "BatchNorm2d          [512, 1, 1]          1,024      True      \n",
            "______________________________________________________________________\n",
            "ReLU                 [512, 1, 1]          0          False     \n",
            "______________________________________________________________________\n",
            "Conv2d               [512, 1, 1]          131,072    True      \n",
            "______________________________________________________________________\n",
            "BatchNorm2d          [512, 1, 1]          1,024      True      \n",
            "______________________________________________________________________\n",
            "Conv2d               [128, 1, 1]          65,536     True      \n",
            "______________________________________________________________________\n",
            "BatchNorm2d          [128, 1, 1]          256        True      \n",
            "______________________________________________________________________\n",
            "Conv2d               [128, 1, 1]          147,456    True      \n",
            "______________________________________________________________________\n",
            "BatchNorm2d          [128, 1, 1]          256        True      \n",
            "______________________________________________________________________\n",
            "Conv2d               [512, 1, 1]          65,536     True      \n",
            "______________________________________________________________________\n",
            "BatchNorm2d          [512, 1, 1]          1,024      True      \n",
            "______________________________________________________________________\n",
            "ReLU                 [512, 1, 1]          0          False     \n",
            "______________________________________________________________________\n",
            "Conv2d               [128, 1, 1]          65,536     True      \n",
            "______________________________________________________________________\n",
            "BatchNorm2d          [128, 1, 1]          256        True      \n",
            "______________________________________________________________________\n",
            "Conv2d               [128, 1, 1]          147,456    True      \n",
            "______________________________________________________________________\n",
            "BatchNorm2d          [128, 1, 1]          256        True      \n",
            "______________________________________________________________________\n",
            "Conv2d               [512, 1, 1]          65,536     True      \n",
            "______________________________________________________________________\n",
            "BatchNorm2d          [512, 1, 1]          1,024      True      \n",
            "______________________________________________________________________\n",
            "ReLU                 [512, 1, 1]          0          False     \n",
            "______________________________________________________________________\n",
            "Conv2d               [128, 1, 1]          65,536     True      \n",
            "______________________________________________________________________\n",
            "BatchNorm2d          [128, 1, 1]          256        True      \n",
            "______________________________________________________________________\n",
            "Conv2d               [128, 1, 1]          147,456    True      \n",
            "______________________________________________________________________\n",
            "BatchNorm2d          [128, 1, 1]          256        True      \n",
            "______________________________________________________________________\n",
            "Conv2d               [512, 1, 1]          65,536     True      \n",
            "______________________________________________________________________\n",
            "BatchNorm2d          [512, 1, 1]          1,024      True      \n",
            "______________________________________________________________________\n",
            "ReLU                 [512, 1, 1]          0          False     \n",
            "______________________________________________________________________\n",
            "Conv2d               [256, 1, 1]          131,072    True      \n",
            "______________________________________________________________________\n",
            "BatchNorm2d          [256, 1, 1]          512        True      \n",
            "______________________________________________________________________\n",
            "Conv2d               [256, 1, 1]          589,824    True      \n",
            "______________________________________________________________________\n",
            "BatchNorm2d          [256, 1, 1]          512        True      \n",
            "______________________________________________________________________\n",
            "Conv2d               [1024, 1, 1]         262,144    True      \n",
            "______________________________________________________________________\n",
            "BatchNorm2d          [1024, 1, 1]         2,048      True      \n",
            "______________________________________________________________________\n",
            "ReLU                 [1024, 1, 1]         0          False     \n",
            "______________________________________________________________________\n",
            "Conv2d               [1024, 1, 1]         524,288    True      \n",
            "______________________________________________________________________\n",
            "BatchNorm2d          [1024, 1, 1]         2,048      True      \n",
            "______________________________________________________________________\n",
            "Conv2d               [256, 1, 1]          262,144    True      \n",
            "______________________________________________________________________\n",
            "BatchNorm2d          [256, 1, 1]          512        True      \n",
            "______________________________________________________________________\n",
            "Conv2d               [256, 1, 1]          589,824    True      \n",
            "______________________________________________________________________\n",
            "BatchNorm2d          [256, 1, 1]          512        True      \n",
            "______________________________________________________________________\n",
            "Conv2d               [1024, 1, 1]         262,144    True      \n",
            "______________________________________________________________________\n",
            "BatchNorm2d          [1024, 1, 1]         2,048      True      \n",
            "______________________________________________________________________\n",
            "ReLU                 [1024, 1, 1]         0          False     \n",
            "______________________________________________________________________\n",
            "Conv2d               [256, 1, 1]          262,144    True      \n",
            "______________________________________________________________________\n",
            "BatchNorm2d          [256, 1, 1]          512        True      \n",
            "______________________________________________________________________\n",
            "Conv2d               [256, 1, 1]          589,824    True      \n",
            "______________________________________________________________________\n",
            "BatchNorm2d          [256, 1, 1]          512        True      \n",
            "______________________________________________________________________\n",
            "Conv2d               [1024, 1, 1]         262,144    True      \n",
            "______________________________________________________________________\n",
            "BatchNorm2d          [1024, 1, 1]         2,048      True      \n",
            "______________________________________________________________________\n",
            "ReLU                 [1024, 1, 1]         0          False     \n",
            "______________________________________________________________________\n",
            "Conv2d               [256, 1, 1]          262,144    True      \n",
            "______________________________________________________________________\n",
            "BatchNorm2d          [256, 1, 1]          512        True      \n",
            "______________________________________________________________________\n",
            "Conv2d               [256, 1, 1]          589,824    True      \n",
            "______________________________________________________________________\n",
            "BatchNorm2d          [256, 1, 1]          512        True      \n",
            "______________________________________________________________________\n",
            "Conv2d               [1024, 1, 1]         262,144    True      \n",
            "______________________________________________________________________\n",
            "BatchNorm2d          [1024, 1, 1]         2,048      True      \n",
            "______________________________________________________________________\n",
            "ReLU                 [1024, 1, 1]         0          False     \n",
            "______________________________________________________________________\n",
            "Conv2d               [256, 1, 1]          262,144    True      \n",
            "______________________________________________________________________\n",
            "BatchNorm2d          [256, 1, 1]          512        True      \n",
            "______________________________________________________________________\n",
            "Conv2d               [256, 1, 1]          589,824    True      \n",
            "______________________________________________________________________\n",
            "BatchNorm2d          [256, 1, 1]          512        True      \n",
            "______________________________________________________________________\n",
            "Conv2d               [1024, 1, 1]         262,144    True      \n",
            "______________________________________________________________________\n",
            "BatchNorm2d          [1024, 1, 1]         2,048      True      \n",
            "______________________________________________________________________\n",
            "ReLU                 [1024, 1, 1]         0          False     \n",
            "______________________________________________________________________\n",
            "Conv2d               [256, 1, 1]          262,144    True      \n",
            "______________________________________________________________________\n",
            "BatchNorm2d          [256, 1, 1]          512        True      \n",
            "______________________________________________________________________\n",
            "Conv2d               [256, 1, 1]          589,824    True      \n",
            "______________________________________________________________________\n",
            "BatchNorm2d          [256, 1, 1]          512        True      \n",
            "______________________________________________________________________\n",
            "Conv2d               [1024, 1, 1]         262,144    True      \n",
            "______________________________________________________________________\n",
            "BatchNorm2d          [1024, 1, 1]         2,048      True      \n",
            "______________________________________________________________________\n",
            "ReLU                 [1024, 1, 1]         0          False     \n",
            "______________________________________________________________________\n",
            "Conv2d               [512, 1, 1]          524,288    True      \n",
            "______________________________________________________________________\n",
            "BatchNorm2d          [512, 1, 1]          1,024      True      \n",
            "______________________________________________________________________\n",
            "Conv2d               [512, 1, 1]          2,359,296  True      \n",
            "______________________________________________________________________\n",
            "BatchNorm2d          [512, 1, 1]          1,024      True      \n",
            "______________________________________________________________________\n",
            "Conv2d               [2048, 1, 1]         1,048,576  True      \n",
            "______________________________________________________________________\n",
            "BatchNorm2d          [2048, 1, 1]         4,096      True      \n",
            "______________________________________________________________________\n",
            "ReLU                 [2048, 1, 1]         0          False     \n",
            "______________________________________________________________________\n",
            "Conv2d               [2048, 1, 1]         2,097,152  True      \n",
            "______________________________________________________________________\n",
            "BatchNorm2d          [2048, 1, 1]         4,096      True      \n",
            "______________________________________________________________________\n",
            "Conv2d               [512, 1, 1]          1,048,576  True      \n",
            "______________________________________________________________________\n",
            "BatchNorm2d          [512, 1, 1]          1,024      True      \n",
            "______________________________________________________________________\n",
            "Conv2d               [512, 1, 1]          2,359,296  True      \n",
            "______________________________________________________________________\n",
            "BatchNorm2d          [512, 1, 1]          1,024      True      \n",
            "______________________________________________________________________\n",
            "Conv2d               [2048, 1, 1]         1,048,576  True      \n",
            "______________________________________________________________________\n",
            "BatchNorm2d          [2048, 1, 1]         4,096      True      \n",
            "______________________________________________________________________\n",
            "ReLU                 [2048, 1, 1]         0          False     \n",
            "______________________________________________________________________\n",
            "Conv2d               [512, 1, 1]          1,048,576  True      \n",
            "______________________________________________________________________\n",
            "BatchNorm2d          [512, 1, 1]          1,024      True      \n",
            "______________________________________________________________________\n",
            "Conv2d               [512, 1, 1]          2,359,296  True      \n",
            "______________________________________________________________________\n",
            "BatchNorm2d          [512, 1, 1]          1,024      True      \n",
            "______________________________________________________________________\n",
            "Conv2d               [2048, 1, 1]         1,048,576  True      \n",
            "______________________________________________________________________\n",
            "BatchNorm2d          [2048, 1, 1]         4,096      True      \n",
            "______________________________________________________________________\n",
            "ReLU                 [2048, 1, 1]         0          False     \n",
            "______________________________________________________________________\n",
            "AdaptiveAvgPool2d    [2048, 1, 1]         0          False     \n",
            "______________________________________________________________________\n",
            "AdaptiveMaxPool2d    [2048, 1, 1]         0          False     \n",
            "______________________________________________________________________\n",
            "Flatten              [4096]               0          False     \n",
            "______________________________________________________________________\n",
            "BatchNorm1d          [4096]               8,192      True      \n",
            "______________________________________________________________________\n",
            "Dropout              [4096]               0          False     \n",
            "______________________________________________________________________\n",
            "Linear               [512]                2,097,664  True      \n",
            "______________________________________________________________________\n",
            "ReLU                 [512]                0          False     \n",
            "______________________________________________________________________\n",
            "BatchNorm1d          [512]                1,024      True      \n",
            "______________________________________________________________________\n",
            "Dropout              [512]                0          False     \n",
            "______________________________________________________________________\n",
            "Linear               [10]                 5,130      True      \n",
            "______________________________________________________________________\n",
            "\n",
            "Total params: 25,620,042\n",
            "Total trainable params: 25,620,042\n",
            "Total non-trainable params: 0\n",
            "Optimized with 'torch.optim.adam.Adam', betas=(0.9, 0.99)\n",
            "Using true weight decay as discussed in https://www.fast.ai/2018/07/02/adam-weight-decay/ \n",
            "Loss function : function\n",
            "======================================================================\n",
            "Callbacks functions applied \n",
            "\n"
          ],
          "name": "stdout"
        }
      ]
    },
    {
      "cell_type": "code",
      "metadata": {
        "colab": {
          "base_uri": "https://localhost:8080/",
          "height": 647
        },
        "id": "cjHzzrzhpeKI",
        "outputId": "3e903683-8563-4f5b-859b-9fa011a87fd6"
      },
      "source": [
        "learn.lr_find()\n",
        "learn.recorder.plot()\n",
        "learn.recorder.plot_lr()"
      ],
      "execution_count": 17,
      "outputs": [
        {
          "output_type": "display_data",
          "data": {
            "text/html": [
              "\n",
              "    <div>\n",
              "        <style>\n",
              "            /* Turns off some styling */\n",
              "            progress {\n",
              "                /* gets rid of default border in Firefox and Opera. */\n",
              "                border: none;\n",
              "                /* Needs to be in here for Safari polyfill so background images work as expected. */\n",
              "                background-size: auto;\n",
              "            }\n",
              "            .progress-bar-interrupted, .progress-bar-interrupted::-webkit-progress-bar {\n",
              "                background: #F44336;\n",
              "            }\n",
              "        </style>\n",
              "      <progress value='0' class='' max='20' style='width:300px; height:20px; vertical-align: middle;'></progress>\n",
              "      0.00% [0/20 00:00<00:00]\n",
              "    </div>\n",
              "    \n",
              "<table border=\"1\" class=\"dataframe\">\n",
              "  <thead>\n",
              "    <tr style=\"text-align: left;\">\n",
              "      <th>epoch</th>\n",
              "      <th>train_loss</th>\n",
              "      <th>valid_loss</th>\n",
              "      <th>error_rate</th>\n",
              "      <th>time</th>\n",
              "    </tr>\n",
              "  </thead>\n",
              "  <tbody>\n",
              "  </tbody>\n",
              "</table><p>\n",
              "\n",
              "    <div>\n",
              "        <style>\n",
              "            /* Turns off some styling */\n",
              "            progress {\n",
              "                /* gets rid of default border in Firefox and Opera. */\n",
              "                border: none;\n",
              "                /* Needs to be in here for Safari polyfill so background images work as expected. */\n",
              "                background-size: auto;\n",
              "            }\n",
              "            .progress-bar-interrupted, .progress-bar-interrupted::-webkit-progress-bar {\n",
              "                background: #F44336;\n",
              "            }\n",
              "        </style>\n",
              "      <progress value='1' class='' max='5' style='width:300px; height:20px; vertical-align: middle;'></progress>\n",
              "      20.00% [1/5 00:01<00:05 0.0000]\n",
              "    </div>\n",
              "    "
            ],
            "text/plain": [
              "<IPython.core.display.HTML object>"
            ]
          },
          "metadata": {
            "tags": []
          }
        },
        {
          "output_type": "stream",
          "text": [
            "LR Finder is complete, type {learner_name}.recorder.plot() to see the graph.\n"
          ],
          "name": "stdout"
        },
        {
          "output_type": "display_data",
          "data": {
            "image/png": "[encoded data removed]",
            "text/plain": [
              "<Figure size 432x288 with 1 Axes>"
            ]
          },
          "metadata": {
            "tags": [],
            "needs_background": "light"
          }
        },
        {
          "output_type": "display_data",
          "data": {
            "image/png": "[encoded data removed]",
            "text/plain": [
              "<Figure size 432x288 with 1 Axes>"
            ]
          },
          "metadata": {
            "tags": [],
            "needs_background": "light"
          }
        }
      ]
    },
    {
      "cell_type": "code",
      "metadata": {
        "id": "KDd21nKTpeKI"
      },
      "source": [
        "lr=1.e-2"
      ],
      "execution_count": 18,
      "outputs": []
    },
    {
      "cell_type": "code",
      "metadata": {
        "colab": {
          "base_uri": "https://localhost:8080/",
          "height": 173
        },
        "id": "nZJ1frbopeKJ",
        "outputId": "ba823070-ac92-49a4-880b-9f9cea6ade9c"
      },
      "source": [
        "learn.fit_one_cycle(myepoch0,lr)"
      ],
      "execution_count": 19,
      "outputs": [
        {
          "output_type": "display_data",
          "data": {
            "text/html": [
              "<table border=\"1\" class=\"dataframe\">\n",
              "  <thead>\n",
              "    <tr style=\"text-align: left;\">\n",
              "      <th>epoch</th>\n",
              "      <th>train_loss</th>\n",
              "      <th>valid_loss</th>\n",
              "      <th>error_rate</th>\n",
              "      <th>time</th>\n",
              "    </tr>\n",
              "  </thead>\n",
              "  <tbody>\n",
              "    <tr>\n",
              "      <td>0</td>\n",
              "      <td>-0.013009</td>\n",
              "      <td>-12.634160</td>\n",
              "      <td>0.700000</td>\n",
              "      <td>00:05</td>\n",
              "    </tr>\n",
              "    <tr>\n",
              "      <td>1</td>\n",
              "      <td>-0.128510</td>\n",
              "      <td>-127876.703125</td>\n",
              "      <td>0.700000</td>\n",
              "      <td>00:05</td>\n",
              "    </tr>\n",
              "    <tr>\n",
              "      <td>2</td>\n",
              "      <td>-0.375466</td>\n",
              "      <td>-4541098496.000000</td>\n",
              "      <td>0.900000</td>\n",
              "      <td>00:05</td>\n",
              "    </tr>\n",
              "    <tr>\n",
              "      <td>3</td>\n",
              "      <td>-0.648592</td>\n",
              "      <td>-308629169242112.000000</td>\n",
              "      <td>0.900000</td>\n",
              "      <td>00:05</td>\n",
              "    </tr>\n",
              "  </tbody>\n",
              "</table>"
            ],
            "text/plain": [
              "<IPython.core.display.HTML object>"
            ]
          },
          "metadata": {
            "tags": []
          }
        }
      ]
    },
    {
      "cell_type": "code",
      "metadata": {
        "id": "pAyuQRDNpeKK"
      },
      "source": [
        "learn.save('stage-0')"
      ],
      "execution_count": 20,
      "outputs": []
    },
    {
      "cell_type": "code",
      "metadata": {
        "colab": {
          "base_uri": "https://localhost:8080/",
          "height": 282
        },
        "id": "NT_5S1w1peKK",
        "outputId": "4c448abc-73ef-4f0a-db9f-00ef3bb4c3b6"
      },
      "source": [
        "learn.show_results()"
      ],
      "execution_count": 21,
      "outputs": [
        {
          "output_type": "error",
          "ename": "AttributeError",
          "evalue": "ignored",
          "traceback": [
            "\u001b[0;31m---------------------------------------------------------------------------\u001b[0m",
            "\u001b[0;31mAttributeError\u001b[0m                            Traceback (most recent call last)",
            "\u001b[0;32m<ipython-input-21-c3b657dcc9ae>\u001b[0m in \u001b[0;36m<module>\u001b[0;34m()\u001b[0m\n\u001b[0;32m----> 1\u001b[0;31m \u001b[0mlearn\u001b[0m\u001b[0;34m.\u001b[0m\u001b[0mshow_results\u001b[0m\u001b[0;34m(\u001b[0m\u001b[0;34m)\u001b[0m\u001b[0;34m\u001b[0m\u001b[0;34m\u001b[0m\u001b[0m\n\u001b[0m",
            "\u001b[0;32m/usr/local/lib/python3.6/dist-packages/fastai/basic_train.py\u001b[0m in \u001b[0;36mshow_results\u001b[0;34m(self, ds_type, rows, **kwargs)\u001b[0m\n\u001b[1;32m    397\u001b[0m         \u001b[0;31m#TODO: get read of has_arg x and split_kwargs_by_func if possible\u001b[0m\u001b[0;34m\u001b[0m\u001b[0;34m\u001b[0m\u001b[0;34m\u001b[0m\u001b[0m\n\u001b[1;32m    398\u001b[0m         \u001b[0;31m#TODO: simplify this and refactor with pred_batch(...reconstruct=True)\u001b[0m\u001b[0;34m\u001b[0m\u001b[0;34m\u001b[0m\u001b[0;34m\u001b[0m\u001b[0m\n\u001b[0;32m--> 399\u001b[0;31m         \u001b[0mn_items\u001b[0m \u001b[0;34m=\u001b[0m \u001b[0mrows\u001b[0m \u001b[0;34m**\u001b[0m \u001b[0;36m2\u001b[0m \u001b[0;32mif\u001b[0m \u001b[0mself\u001b[0m\u001b[0;34m.\u001b[0m\u001b[0mdata\u001b[0m\u001b[0;34m.\u001b[0m\u001b[0mtrain_ds\u001b[0m\u001b[0;34m.\u001b[0m\u001b[0mx\u001b[0m\u001b[0;34m.\u001b[0m\u001b[0m_square_show_res\u001b[0m \u001b[0;32melse\u001b[0m \u001b[0mrows\u001b[0m\u001b[0;34m\u001b[0m\u001b[0;34m\u001b[0m\u001b[0m\n\u001b[0m\u001b[1;32m    400\u001b[0m         \u001b[0;32mif\u001b[0m \u001b[0mself\u001b[0m\u001b[0;34m.\u001b[0m\u001b[0mdl\u001b[0m\u001b[0;34m(\u001b[0m\u001b[0mds_type\u001b[0m\u001b[0;34m)\u001b[0m\u001b[0;34m.\u001b[0m\u001b[0mbatch_size\u001b[0m \u001b[0;34m<\u001b[0m \u001b[0mn_items\u001b[0m\u001b[0;34m:\u001b[0m \u001b[0mn_items\u001b[0m \u001b[0;34m=\u001b[0m \u001b[0mself\u001b[0m\u001b[0;34m.\u001b[0m\u001b[0mdl\u001b[0m\u001b[0;34m(\u001b[0m\u001b[0mds_type\u001b[0m\u001b[0;34m)\u001b[0m\u001b[0;34m.\u001b[0m\u001b[0mbatch_size\u001b[0m\u001b[0;34m\u001b[0m\u001b[0;34m\u001b[0m\u001b[0m\n\u001b[1;32m    401\u001b[0m         \u001b[0mds\u001b[0m \u001b[0;34m=\u001b[0m \u001b[0mself\u001b[0m\u001b[0;34m.\u001b[0m\u001b[0mdl\u001b[0m\u001b[0;34m(\u001b[0m\u001b[0mds_type\u001b[0m\u001b[0;34m)\u001b[0m\u001b[0;34m.\u001b[0m\u001b[0mdataset\u001b[0m\u001b[0;34m\u001b[0m\u001b[0;34m\u001b[0m\u001b[0m\n",
            "\u001b[0;31mAttributeError\u001b[0m: 'Tensor' object has no attribute '_square_show_res'"
          ]
        }
      ]
    },
    {
      "cell_type": "code",
      "metadata": {
        "colab": {
          "base_uri": "https://localhost:8080/",
          "height": 647
        },
        "id": "hZtAGKCcpeKN",
        "outputId": "bb28ccd1-f290-4669-bcdc-a648f16c635d"
      },
      "source": [
        "learn.lr_find()\n",
        "learn.recorder.plot()\n",
        "learn.recorder.plot_lr()"
      ],
      "execution_count": 22,
      "outputs": [
        {
          "output_type": "display_data",
          "data": {
            "text/html": [
              "\n",
              "    <div>\n",
              "        <style>\n",
              "            /* Turns off some styling */\n",
              "            progress {\n",
              "                /* gets rid of default border in Firefox and Opera. */\n",
              "                border: none;\n",
              "                /* Needs to be in here for Safari polyfill so background images work as expected. */\n",
              "                background-size: auto;\n",
              "            }\n",
              "            .progress-bar-interrupted, .progress-bar-interrupted::-webkit-progress-bar {\n",
              "                background: #F44336;\n",
              "            }\n",
              "        </style>\n",
              "      <progress value='0' class='' max='20' style='width:300px; height:20px; vertical-align: middle;'></progress>\n",
              "      0.00% [0/20 00:00<00:00]\n",
              "    </div>\n",
              "    \n",
              "<table border=\"1\" class=\"dataframe\">\n",
              "  <thead>\n",
              "    <tr style=\"text-align: left;\">\n",
              "      <th>epoch</th>\n",
              "      <th>train_loss</th>\n",
              "      <th>valid_loss</th>\n",
              "      <th>error_rate</th>\n",
              "      <th>time</th>\n",
              "    </tr>\n",
              "  </thead>\n",
              "  <tbody>\n",
              "  </tbody>\n",
              "</table><p>\n",
              "\n",
              "    <div>\n",
              "        <style>\n",
              "            /* Turns off some styling */\n",
              "            progress {\n",
              "                /* gets rid of default border in Firefox and Opera. */\n",
              "                border: none;\n",
              "                /* Needs to be in here for Safari polyfill so background images work as expected. */\n",
              "                background-size: auto;\n",
              "            }\n",
              "            .progress-bar-interrupted, .progress-bar-interrupted::-webkit-progress-bar {\n",
              "                background: #F44336;\n",
              "            }\n",
              "        </style>\n",
              "      <progress value='0' class='' max='5' style='width:300px; height:20px; vertical-align: middle;'></progress>\n",
              "      0.00% [0/5 00:00<00:00]\n",
              "    </div>\n",
              "    "
            ],
            "text/plain": [
              "<IPython.core.display.HTML object>"
            ]
          },
          "metadata": {
            "tags": []
          }
        },
        {
          "output_type": "stream",
          "text": [
            "LR Finder is complete, type {learner_name}.recorder.plot() to see the graph.\n"
          ],
          "name": "stdout"
        },
        {
          "output_type": "display_data",
          "data": {
            "image/png": "[encoded data removed]",
            "text/plain": [
              "<Figure size 432x288 with 1 Axes>"
            ]
          },
          "metadata": {
            "tags": [],
            "needs_background": "light"
          }
        },
        {
          "output_type": "display_data",
          "data": {
            "image/png": "[encoded data removed]",
            "text/plain": [
              "<Figure size 432x288 with 1 Axes>"
            ]
          },
          "metadata": {
            "tags": [],
            "needs_background": "light"
          }
        }
      ]
    },
    {
      "cell_type": "markdown",
      "metadata": {
        "id": "bKKA-3NSpeKN"
      },
      "source": [
        "## Heatmap"
      ]
    },
    {
      "cell_type": "code",
      "metadata": {
        "colab": {
          "base_uri": "https://localhost:8080/",
          "height": 214
        },
        "id": "iHZe4iNXpeKO",
        "outputId": "5eb06b6a-e6ca-4e51-8262-7720d66654b2"
      },
      "source": [
        "idx=0\n",
        "x,y = loader.valid_ds[idx]\n",
        "x.show()\n",
        "data.valid_ds.y[idx]"
      ],
      "execution_count": 26,
      "outputs": [
        {
          "output_type": "error",
          "ename": "AttributeError",
          "evalue": "ignored",
          "traceback": [
            "\u001b[0;31m---------------------------------------------------------------------------\u001b[0m",
            "\u001b[0;31mAttributeError\u001b[0m                            Traceback (most recent call last)",
            "\u001b[0;32m<ipython-input-26-1850adf39dc9>\u001b[0m in \u001b[0;36m<module>\u001b[0;34m()\u001b[0m\n\u001b[1;32m      1\u001b[0m \u001b[0midx\u001b[0m\u001b[0;34m=\u001b[0m\u001b[0;36m0\u001b[0m\u001b[0;34m\u001b[0m\u001b[0;34m\u001b[0m\u001b[0m\n\u001b[0;32m----> 2\u001b[0;31m \u001b[0mx\u001b[0m\u001b[0;34m,\u001b[0m\u001b[0my\u001b[0m \u001b[0;34m=\u001b[0m \u001b[0mloader\u001b[0m\u001b[0;34m.\u001b[0m\u001b[0mvalid_ds\u001b[0m\u001b[0;34m[\u001b[0m\u001b[0midx\u001b[0m\u001b[0;34m]\u001b[0m\u001b[0;34m\u001b[0m\u001b[0;34m\u001b[0m\u001b[0m\n\u001b[0m\u001b[1;32m      3\u001b[0m \u001b[0mx\u001b[0m\u001b[0;34m.\u001b[0m\u001b[0mshow\u001b[0m\u001b[0;34m(\u001b[0m\u001b[0;34m)\u001b[0m\u001b[0;34m\u001b[0m\u001b[0;34m\u001b[0m\u001b[0m\n\u001b[1;32m      4\u001b[0m \u001b[0mdata\u001b[0m\u001b[0;34m.\u001b[0m\u001b[0mvalid_ds\u001b[0m\u001b[0;34m.\u001b[0m\u001b[0my\u001b[0m\u001b[0;34m[\u001b[0m\u001b[0midx\u001b[0m\u001b[0;34m]\u001b[0m\u001b[0;34m\u001b[0m\u001b[0;34m\u001b[0m\u001b[0m\n",
            "\u001b[0;31mAttributeError\u001b[0m: 'ThreeDDataset' object has no attribute 'valid_ds'"
          ]
        }
      ]
    },
    {
      "cell_type": "code",
      "metadata": {
        "id": "AXPQJ22EpeKP"
      },
      "source": [
        "m = learn.model.eval();"
      ],
      "execution_count": 27,
      "outputs": []
    },
    {
      "cell_type": "code",
      "metadata": {
        "colab": {
          "base_uri": "https://localhost:8080/",
          "height": 197
        },
        "id": "81o3t7U2peKQ",
        "outputId": "b8075866-f439-4a32-e0c8-40e76e437eaf"
      },
      "source": [
        "xb,_ = data.one_item(x)\n",
        "xb_im = Image(data.denorm(xb)[0])\n",
        "xb = xb.cuda()"
      ],
      "execution_count": 25,
      "outputs": [
        {
          "output_type": "error",
          "ename": "NameError",
          "evalue": "ignored",
          "traceback": [
            "\u001b[0;31m---------------------------------------------------------------------------\u001b[0m",
            "\u001b[0;31mNameError\u001b[0m                                 Traceback (most recent call last)",
            "\u001b[0;32m<ipython-input-25-992856257555>\u001b[0m in \u001b[0;36m<module>\u001b[0;34m()\u001b[0m\n\u001b[0;32m----> 1\u001b[0;31m \u001b[0mxb\u001b[0m\u001b[0;34m,\u001b[0m\u001b[0m_\u001b[0m \u001b[0;34m=\u001b[0m \u001b[0mdata\u001b[0m\u001b[0;34m.\u001b[0m\u001b[0mone_item\u001b[0m\u001b[0;34m(\u001b[0m\u001b[0mx\u001b[0m\u001b[0;34m)\u001b[0m\u001b[0;34m\u001b[0m\u001b[0;34m\u001b[0m\u001b[0m\n\u001b[0m\u001b[1;32m      2\u001b[0m \u001b[0mxb_im\u001b[0m \u001b[0;34m=\u001b[0m \u001b[0mImage\u001b[0m\u001b[0;34m(\u001b[0m\u001b[0mdata\u001b[0m\u001b[0;34m.\u001b[0m\u001b[0mdenorm\u001b[0m\u001b[0;34m(\u001b[0m\u001b[0mxb\u001b[0m\u001b[0;34m)\u001b[0m\u001b[0;34m[\u001b[0m\u001b[0;36m0\u001b[0m\u001b[0;34m]\u001b[0m\u001b[0;34m)\u001b[0m\u001b[0;34m\u001b[0m\u001b[0;34m\u001b[0m\u001b[0m\n\u001b[1;32m      3\u001b[0m \u001b[0mxb\u001b[0m \u001b[0;34m=\u001b[0m \u001b[0mxb\u001b[0m\u001b[0;34m.\u001b[0m\u001b[0mcuda\u001b[0m\u001b[0;34m(\u001b[0m\u001b[0;34m)\u001b[0m\u001b[0;34m\u001b[0m\u001b[0;34m\u001b[0m\u001b[0m\n",
            "\u001b[0;31mNameError\u001b[0m: name 'data' is not defined"
          ]
        }
      ]
    },
    {
      "cell_type": "code",
      "metadata": {
        "id": "czToEiH3peKQ"
      },
      "source": [
        "from fastai.callbacks.hooks import *"
      ],
      "execution_count": null,
      "outputs": []
    },
    {
      "cell_type": "code",
      "metadata": {
        "id": "jq35wV0upeKR"
      },
      "source": [
        "def hooked_backward(cat=y):\n",
        "    with hook_output(m[0]) as hook_a: \n",
        "        with hook_output(m[0], grad=True) as hook_g:\n",
        "            preds = m(xb)\n",
        "            preds[0,int(cat)].backward()\n",
        "    return hook_a,hook_g"
      ],
      "execution_count": null,
      "outputs": []
    },
    {
      "cell_type": "code",
      "metadata": {
        "id": "ozTPGNaOpeKS"
      },
      "source": [
        "hook_a,hook_g = hooked_backward()"
      ],
      "execution_count": null,
      "outputs": []
    },
    {
      "cell_type": "code",
      "metadata": {
        "id": "WePWvFMnpeKS"
      },
      "source": [
        "acts  = hook_a.stored[0].cpu()\n",
        "acts.shape"
      ],
      "execution_count": null,
      "outputs": []
    },
    {
      "cell_type": "code",
      "metadata": {
        "id": "px4IUkp0peKT"
      },
      "source": [
        "avg_acts = acts.mean(0)\n",
        "avg_acts.shape"
      ],
      "execution_count": null,
      "outputs": []
    },
    {
      "cell_type": "code",
      "metadata": {
        "id": "fFyklJqypeKT"
      },
      "source": [
        "def show_heatmap(hm):\n",
        "    _,ax = plt.subplots()\n",
        "    xb_im.show(ax)\n",
        "    ax.imshow(hm, alpha=0.6, extent=(0,256,256,0),\n",
        "              interpolation='bilinear', cmap='magma');"
      ],
      "execution_count": null,
      "outputs": []
    },
    {
      "cell_type": "code",
      "metadata": {
        "id": "wWkwWe9opeKU"
      },
      "source": [
        "show_heatmap(avg_acts)"
      ],
      "execution_count": null,
      "outputs": []
    },
    {
      "cell_type": "markdown",
      "metadata": {
        "id": "Z_tKVxRBpeKU"
      },
      "source": [
        "## refining the model - stage 1"
      ]
    },
    {
      "cell_type": "code",
      "metadata": {
        "id": "kVNI-mHFpeKV"
      },
      "source": [
        "learn.load('stage-0');"
      ],
      "execution_count": 28,
      "outputs": []
    },
    {
      "cell_type": "code",
      "metadata": {
        "id": "2KOd15xxpeKV"
      },
      "source": [
        "learn.unfreeze()"
      ],
      "execution_count": 29,
      "outputs": []
    },
    {
      "cell_type": "code",
      "metadata": {
        "colab": {
          "base_uri": "https://localhost:8080/",
          "height": 112
        },
        "id": "HxwQp1BGpeKV",
        "outputId": "691dca61-a435-4e5b-d862-c4e352fcf31a"
      },
      "source": [
        "learn.lr_find()"
      ],
      "execution_count": 30,
      "outputs": [
        {
          "output_type": "display_data",
          "data": {
            "text/html": [
              "\n",
              "    <div>\n",
              "        <style>\n",
              "            /* Turns off some styling */\n",
              "            progress {\n",
              "                /* gets rid of default border in Firefox and Opera. */\n",
              "                border: none;\n",
              "                /* Needs to be in here for Safari polyfill so background images work as expected. */\n",
              "                background-size: auto;\n",
              "            }\n",
              "            .progress-bar-interrupted, .progress-bar-interrupted::-webkit-progress-bar {\n",
              "                background: #F44336;\n",
              "            }\n",
              "        </style>\n",
              "      <progress value='0' class='' max='20' style='width:300px; height:20px; vertical-align: middle;'></progress>\n",
              "      0.00% [0/20 00:00<00:00]\n",
              "    </div>\n",
              "    \n",
              "<table border=\"1\" class=\"dataframe\">\n",
              "  <thead>\n",
              "    <tr style=\"text-align: left;\">\n",
              "      <th>epoch</th>\n",
              "      <th>train_loss</th>\n",
              "      <th>valid_loss</th>\n",
              "      <th>error_rate</th>\n",
              "      <th>time</th>\n",
              "    </tr>\n",
              "  </thead>\n",
              "  <tbody>\n",
              "  </tbody>\n",
              "</table><p>\n",
              "\n",
              "    <div>\n",
              "        <style>\n",
              "            /* Turns off some styling */\n",
              "            progress {\n",
              "                /* gets rid of default border in Firefox and Opera. */\n",
              "                border: none;\n",
              "                /* Needs to be in here for Safari polyfill so background images work as expected. */\n",
              "                background-size: auto;\n",
              "            }\n",
              "            .progress-bar-interrupted, .progress-bar-interrupted::-webkit-progress-bar {\n",
              "                background: #F44336;\n",
              "            }\n",
              "        </style>\n",
              "      <progress value='0' class='' max='5' style='width:300px; height:20px; vertical-align: middle;'></progress>\n",
              "      0.00% [0/5 00:00<00:00]\n",
              "    </div>\n",
              "    "
            ],
            "text/plain": [
              "<IPython.core.display.HTML object>"
            ]
          },
          "metadata": {
            "tags": []
          }
        },
        {
          "output_type": "stream",
          "text": [
            "LR Finder is complete, type {learner_name}.recorder.plot() to see the graph.\n"
          ],
          "name": "stdout"
        }
      ]
    },
    {
      "cell_type": "code",
      "metadata": {
        "colab": {
          "base_uri": "https://localhost:8080/",
          "height": 279
        },
        "id": "CyAwSb0hpeKW",
        "outputId": "89a627af-0578-4840-ec82-054d66a30fae"
      },
      "source": [
        "learn.recorder.plot()\n",
        "#learn.recorder.plot_losses()\n",
        "# learn.recorder.plot_lr()"
      ],
      "execution_count": 31,
      "outputs": [
        {
          "output_type": "display_data",
          "data": {
            "image/png": "[encoded data removed]",
            "text/plain": [
              "<Figure size 432x288 with 1 Axes>"
            ]
          },
          "metadata": {
            "tags": [],
            "needs_background": "light"
          }
        }
      ]
    },
    {
      "cell_type": "code",
      "metadata": {
        "colab": {
          "base_uri": "https://localhost:8080/",
          "height": 111
        },
        "id": "zyri1vLwpeKX",
        "outputId": "b8f3b011-bebe-4ec5-acf7-037db2ae0b46"
      },
      "source": [
        "learn.fit_one_cycle(myepoch1, max_lr=slice(3e-6,3e-4))"
      ],
      "execution_count": 32,
      "outputs": [
        {
          "output_type": "display_data",
          "data": {
            "text/html": [
              "<table border=\"1\" class=\"dataframe\">\n",
              "  <thead>\n",
              "    <tr style=\"text-align: left;\">\n",
              "      <th>epoch</th>\n",
              "      <th>train_loss</th>\n",
              "      <th>valid_loss</th>\n",
              "      <th>error_rate</th>\n",
              "      <th>time</th>\n",
              "    </tr>\n",
              "  </thead>\n",
              "  <tbody>\n",
              "    <tr>\n",
              "      <td>0</td>\n",
              "      <td>-1.349319</td>\n",
              "      <td>-31214378648560730112.000000</td>\n",
              "      <td>0.900000</td>\n",
              "      <td>00:07</td>\n",
              "    </tr>\n",
              "    <tr>\n",
              "      <td>1</td>\n",
              "      <td>-1.406805</td>\n",
              "      <td>-15166418374078517001322496.000000</td>\n",
              "      <td>0.900000</td>\n",
              "      <td>00:05</td>\n",
              "    </tr>\n",
              "  </tbody>\n",
              "</table>"
            ],
            "text/plain": [
              "<IPython.core.display.HTML object>"
            ]
          },
          "metadata": {
            "tags": []
          }
        }
      ]
    },
    {
      "cell_type": "code",
      "metadata": {
        "id": "YjwH2I1BpeKX"
      },
      "source": [
        "learn.save('stage-1')"
      ],
      "execution_count": null,
      "outputs": []
    },
    {
      "cell_type": "markdown",
      "metadata": {
        "id": "H5zBkbnLpeKY"
      },
      "source": [
        "## refining the model further - stage 2"
      ]
    },
    {
      "cell_type": "code",
      "metadata": {
        "id": "Val8XHzJpeKa"
      },
      "source": [
        "learn.load('stage-1');\n",
        "learn.unfreeze();\n",
        "learn.lr_find()\n",
        "learn.recorder.plot()"
      ],
      "execution_count": null,
      "outputs": []
    },
    {
      "cell_type": "code",
      "metadata": {
        "id": "ivmJgYaSpeKb"
      },
      "source": [
        "learn.fit_one_cycle(myepoch2, max_lr=slice(3e-6,1e-5))"
      ],
      "execution_count": null,
      "outputs": []
    },
    {
      "cell_type": "code",
      "metadata": {
        "id": "TF5XjzXLpeKc"
      },
      "source": [
        "learn.save('stage-2')"
      ],
      "execution_count": null,
      "outputs": []
    },
    {
      "cell_type": "markdown",
      "metadata": {
        "id": "s2iP569WpeKc"
      },
      "source": [
        "## Interpretation"
      ]
    },
    {
      "cell_type": "code",
      "metadata": {
        "id": "tOXsaUPdpeKd"
      },
      "source": [
        "learn.load('stage-0');"
      ],
      "execution_count": null,
      "outputs": []
    },
    {
      "cell_type": "code",
      "metadata": {
        "colab": {
          "base_uri": "https://localhost:8080/",
          "height": 17
        },
        "id": "XCR9JMB9peKd",
        "outputId": "31dd1a08-b6ea-4740-ba72-86c24d971abc"
      },
      "source": [
        "interp = ClassificationInterpretation.from_learner(learn)"
      ],
      "execution_count": 34,
      "outputs": [
        {
          "output_type": "display_data",
          "data": {
            "text/html": [
              ""
            ],
            "text/plain": [
              "<IPython.core.display.HTML object>"
            ]
          },
          "metadata": {
            "tags": []
          }
        }
      ]
    },
    {
      "cell_type": "code",
      "metadata": {
        "colab": {
          "base_uri": "https://localhost:8080/",
          "height": 872
        },
        "id": "baBrBABvpeKd",
        "outputId": "3221c5ab-55f4-421d-f407-a526ddc54467"
      },
      "source": [
        "interp.plot_confusion_matrix(figsize=(10,10))"
      ],
      "execution_count": 35,
      "outputs": [
        {
          "output_type": "error",
          "ename": "AttributeError",
          "evalue": "ignored",
          "traceback": [
            "\u001b[0;31m---------------------------------------------------------------------------\u001b[0m",
            "\u001b[0;31mAttributeError\u001b[0m                            Traceback (most recent call last)",
            "\u001b[0;32m<ipython-input-35-cfaef3b744f2>\u001b[0m in \u001b[0;36m<module>\u001b[0;34m()\u001b[0m\n\u001b[0;32m----> 1\u001b[0;31m \u001b[0minterp\u001b[0m\u001b[0;34m.\u001b[0m\u001b[0mplot_confusion_matrix\u001b[0m\u001b[0;34m(\u001b[0m\u001b[0mfigsize\u001b[0m\u001b[0;34m=\u001b[0m\u001b[0;34m(\u001b[0m\u001b[0;36m10\u001b[0m\u001b[0;34m,\u001b[0m\u001b[0;36m10\u001b[0m\u001b[0;34m)\u001b[0m\u001b[0;34m)\u001b[0m\u001b[0;34m\u001b[0m\u001b[0;34m\u001b[0m\u001b[0m\n\u001b[0m",
            "\u001b[0;32m/usr/local/lib/python3.6/dist-packages/fastai/train.py\u001b[0m in \u001b[0;36mplot_confusion_matrix\u001b[0;34m(self, normalize, title, cmap, slice_size, norm_dec, plot_txt, return_fig, **kwargs)\u001b[0m\n\u001b[1;32m    199\u001b[0m         \u001b[0mplt\u001b[0m\u001b[0;34m.\u001b[0m\u001b[0mtitle\u001b[0m\u001b[0;34m(\u001b[0m\u001b[0mtitle\u001b[0m\u001b[0;34m)\u001b[0m\u001b[0;34m\u001b[0m\u001b[0;34m\u001b[0m\u001b[0m\n\u001b[1;32m    200\u001b[0m         \u001b[0mtick_marks\u001b[0m \u001b[0;34m=\u001b[0m \u001b[0mnp\u001b[0m\u001b[0;34m.\u001b[0m\u001b[0marange\u001b[0m\u001b[0;34m(\u001b[0m\u001b[0mself\u001b[0m\u001b[0;34m.\u001b[0m\u001b[0mdata\u001b[0m\u001b[0;34m.\u001b[0m\u001b[0mc\u001b[0m\u001b[0;34m)\u001b[0m\u001b[0;34m\u001b[0m\u001b[0;34m\u001b[0m\u001b[0m\n\u001b[0;32m--> 201\u001b[0;31m         \u001b[0mplt\u001b[0m\u001b[0;34m.\u001b[0m\u001b[0mxticks\u001b[0m\u001b[0;34m(\u001b[0m\u001b[0mtick_marks\u001b[0m\u001b[0;34m,\u001b[0m \u001b[0mself\u001b[0m\u001b[0;34m.\u001b[0m\u001b[0mdata\u001b[0m\u001b[0;34m.\u001b[0m\u001b[0my\u001b[0m\u001b[0;34m.\u001b[0m\u001b[0mclasses\u001b[0m\u001b[0;34m,\u001b[0m \u001b[0mrotation\u001b[0m\u001b[0;34m=\u001b[0m\u001b[0;36m90\u001b[0m\u001b[0;34m)\u001b[0m\u001b[0;34m\u001b[0m\u001b[0;34m\u001b[0m\u001b[0m\n\u001b[0m\u001b[1;32m    202\u001b[0m         \u001b[0mplt\u001b[0m\u001b[0;34m.\u001b[0m\u001b[0myticks\u001b[0m\u001b[0;34m(\u001b[0m\u001b[0mtick_marks\u001b[0m\u001b[0;34m,\u001b[0m \u001b[0mself\u001b[0m\u001b[0;34m.\u001b[0m\u001b[0mdata\u001b[0m\u001b[0;34m.\u001b[0m\u001b[0my\u001b[0m\u001b[0;34m.\u001b[0m\u001b[0mclasses\u001b[0m\u001b[0;34m,\u001b[0m \u001b[0mrotation\u001b[0m\u001b[0;34m=\u001b[0m\u001b[0;36m0\u001b[0m\u001b[0;34m)\u001b[0m\u001b[0;34m\u001b[0m\u001b[0;34m\u001b[0m\u001b[0m\n\u001b[1;32m    203\u001b[0m \u001b[0;34m\u001b[0m\u001b[0m\n",
            "\u001b[0;31mAttributeError\u001b[0m: 'Tensor' object has no attribute 'classes'"
          ]
        },
        {
          "output_type": "display_data",
          "data": {
            "image/png": "[encoded data removed]",
            "text/plain": [
              "<Figure size 720x720 with 1 Axes>"
            ]
          },
          "metadata": {
            "tags": [],
            "needs_background": "light"
          }
        }
      ]
    },
    {
      "cell_type": "code",
      "metadata": {
        "id": "mp7aWj0VpeKe"
      },
      "source": [
        "learn.load('stage-1');"
      ],
      "execution_count": null,
      "outputs": []
    },
    {
      "cell_type": "code",
      "metadata": {
        "id": "Pt0VwdgSpeKe"
      },
      "source": [
        "interp = ClassificationInterpretation.from_learner(learn)"
      ],
      "execution_count": null,
      "outputs": []
    },
    {
      "cell_type": "code",
      "metadata": {
        "id": "XTBrNXX6peKf"
      },
      "source": [
        "interp.plot_confusion_matrix(figsize=(10,10))"
      ],
      "execution_count": null,
      "outputs": []
    },
    {
      "cell_type": "code",
      "metadata": {
        "id": "dpvzts8upeKf"
      },
      "source": [
        "learn.load('stage-2');"
      ],
      "execution_count": null,
      "outputs": []
    },
    {
      "cell_type": "code",
      "metadata": {
        "id": "NpkeQdzVpeKf"
      },
      "source": [
        "interp = ClassificationInterpretation.from_learner(learn)"
      ],
      "execution_count": null,
      "outputs": []
    },
    {
      "cell_type": "code",
      "metadata": {
        "id": "BgLcBBbEpeKg"
      },
      "source": [
        "interp.plot_confusion_matrix(figsize=(10,10))"
      ],
      "execution_count": null,
      "outputs": []
    },
    {
      "cell_type": "code",
      "metadata": {
        "id": "II9S72AJpeKg"
      },
      "source": [
        ""
      ],
      "execution_count": null,
      "outputs": []
    }
  ]
}