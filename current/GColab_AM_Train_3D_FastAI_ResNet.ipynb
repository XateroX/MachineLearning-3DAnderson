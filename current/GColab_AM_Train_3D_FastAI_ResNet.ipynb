{
  "nbformat": 4,
  "nbformat_minor": 0,
  "metadata": {
    "kernelspec": {
      "display_name": "Python 3",
      "language": "python",
      "name": "python3"
    },
    "language_info": {
      "codemirror_mode": {
        "name": "ipython",
        "version": 3
      },
      "file_extension": ".py",
      "mimetype": "text/x-python",
      "name": "python",
      "nbconvert_exporter": "python",
      "pygments_lexer": "ipython3",
      "version": "3.7.0"
    },
    "colab": {
      "name": "GColab_AM_Train_3D_FastAI_ResNet.ipynb",
      "provenance": [],
      "collapsed_sections": [
        "_902jQztpeJ7",
        "h-pqPbXCzjOP",
        "b4JNeT1F0Tg0",
        "0p08baNGpeKB",
        "Z4VMQWV5gDeh",
        "mXOqlfwnvOVS",
        "j_RrTfIRX1tp",
        "m4I8X_KUvDQk",
        "s2iP569WpeKc",
        "fdXDS-clMNXq"
      ],
      "toc_visible": true
    }
  },
  "cells": [
    {
      "cell_type": "markdown",
      "metadata": {
        "id": "L2GhE2tUpeJ2"
      },
      "source": [
        "# Image recognition of Anderson states"
      ]
    },
    {
      "cell_type": "markdown",
      "metadata": {
        "id": "_902jQztpeJ7"
      },
      "source": [
        "## Preliminaries"
      ]
    },
    {
      "cell_type": "code",
      "metadata": {
        "id": "lKzjTI5lpeJ9"
      },
      "source": [
        "%reload_ext autoreload\n",
        "%autoreload 2\n",
        "%matplotlib inline"
      ],
      "execution_count": null,
      "outputs": []
    },
    {
      "cell_type": "markdown",
      "metadata": {
        "id": "K6CB7zxkqOQE"
      },
      "source": [
        "Checking for GPU"
      ]
    },
    {
      "cell_type": "code",
      "metadata": {
        "id": "y6wqhy4IqNXl"
      },
      "source": [
        "#import tensorflow as tf\r\n",
        "#from tensorflow.python.client import device_lib\r\n",
        "\r\n",
        "#print(tf.test.gpu_device_name())\r\n",
        "#print(device_lib.list_local_devices())\r\n",
        "\r\n",
        "#!cat /proc/meminfo"
      ],
      "execution_count": null,
      "outputs": []
    },
    {
      "cell_type": "markdown",
      "metadata": {
        "id": "PhA7iijKy51s"
      },
      "source": [
        "Checking for TPU"
      ]
    },
    {
      "cell_type": "code",
      "metadata": {
        "id": "XAPEEIDCyxDM"
      },
      "source": [
        "#import os\r\n",
        "#assert os.environ['COLAB_TPU_ADDR']\r\n",
        "#Path = 'grpc://'+os.environ['COLAB_TPU_ADDR']\r\n",
        "#print('TPU Address:', Path)"
      ],
      "execution_count": null,
      "outputs": []
    },
    {
      "cell_type": "code",
      "metadata": {
        "scrolled": true,
        "id": "BZCnS3VZpeJ-",
        "colab": {
          "base_uri": "https://localhost:8080/"
        },
        "outputId": "e435676c-60a5-4900-fbc9-99fb01f25204"
      },
      "source": [
        "import torch\n",
        "import torch.nn\n",
        "torch.__version__\n",
        "from torch.utils.data import Dataset, DataLoader\n",
        "#from torchvision import transforms, utils\n",
        "#!pip install torch=='1.7.0'\n",
        "#!pip install torchvision=='0.8.1'\n",
        "import torch\n",
        "import torchvision\n",
        "print(torchvision.__version__)\n",
        "print(torch.__version__)"
      ],
      "execution_count": null,
      "outputs": [
        {
          "output_type": "stream",
          "text": [
            "0.8.1+cu101\n",
            "1.7.0+cu101\n"
          ],
          "name": "stdout"
        }
      ]
    },
    {
      "cell_type": "code",
      "metadata": {
        "id": "3xWHU6aoazUo"
      },
      "source": [
        "import random\r\n",
        "import math"
      ],
      "execution_count": null,
      "outputs": []
    },
    {
      "cell_type": "code",
      "metadata": {
        "colab": {
          "base_uri": "https://localhost:8080/"
        },
        "id": "8L1ptKV1lydV",
        "outputId": "889c364d-ce66-4fb0-8d06-8f05276721c8"
      },
      "source": [
        "#!pip install fastai==1.0.61\r\n",
        "import fastai\r\n",
        "from fastai.collab import *\r\n",
        "#!pip install --upgrade fastai\r\n",
        "#!pip uninstall fastai -y\r\n",
        "print(fastai.__version__)\r\n",
        "from fastai.vision import *\r\n"
      ],
      "execution_count": null,
      "outputs": [
        {
          "output_type": "stream",
          "text": [
            "1.0.61\n"
          ],
          "name": "stdout"
        }
      ]
    },
    {
      "cell_type": "code",
      "metadata": {
        "colab": {
          "base_uri": "https://localhost:8080/"
        },
        "id": "Bx87JLJOWBI-",
        "outputId": "b0ed477a-927c-4538-b95c-7ffe0884b1a9"
      },
      "source": [
        "from google.colab import drive\n",
        "drive.mount('/content/drive', force_remount=True)"
      ],
      "execution_count": null,
      "outputs": [
        {
          "output_type": "stream",
          "text": [
            "Mounted at /content/drive\n"
          ],
          "name": "stdout"
        }
      ]
    },
    {
      "cell_type": "markdown",
      "metadata": {
        "id": "h-pqPbXCzjOP"
      },
      "source": [
        "##Functions and definition of parameters\r\n"
      ]
    },
    {
      "cell_type": "code",
      "metadata": {
        "id": "y3keJI43Yb6M"
      },
      "source": [
        "def get_files(folder):\r\n",
        "  dir = '/content/drive/MyDrive/csvdata/'+folder+'/'\r\n",
        "  N = 1    #Desired number of input systems per class\r\n",
        "  files = !ls -l {dir}\r\n",
        "  print(files)\r\n",
        "  files.reverse()\r\n",
        "  files.pop()\r\n",
        "  for i in range(len(files)):\r\n",
        "    files[i] = files[i].rsplit(' ',1)[1]\r\n",
        "    print(files[i])\r\n",
        "  return dir,files"
      ],
      "execution_count": null,
      "outputs": []
    },
    {
      "cell_type": "code",
      "metadata": {
        "id": "0QQfPQJbpeKA"
      },
      "source": [
        "d_type_opt = ('training', 'validation')\n",
        "\n",
        "bs = 25\n",
        "epoch_chunk = 3\n",
        "t_f_default = 0.65\n",
        "v_f_default = 0.25\n",
        "training_fraction   = t_f_default\n",
        "validation_fraction = v_f_default"
      ],
      "execution_count": null,
      "outputs": []
    },
    {
      "cell_type": "code",
      "metadata": {
        "id": "SAFNQ9PiXeDr"
      },
      "source": [
        "def to_list(list):\r\n",
        "  py_list = []\r\n",
        "  for i in list:\r\n",
        "    py_list.append(float(i))\r\n",
        "  return py_list"
      ],
      "execution_count": null,
      "outputs": []
    },
    {
      "cell_type": "markdown",
      "metadata": {
        "id": "b4JNeT1F0Tg0"
      },
      "source": [
        "##Object definitions"
      ]
    },
    {
      "cell_type": "markdown",
      "metadata": {
        "id": "M5sO9ug8f111"
      },
      "source": [
        "**Definition of our custom Dataset and label_list class for confusion matrix**"
      ]
    },
    {
      "cell_type": "code",
      "metadata": {
        "id": "HrP-ik6upeKD"
      },
      "source": [
        "class label_list():\n",
        "  def __init__(self, data, label_names):\n",
        "    self.classes = label_names\n",
        "    self.items = data\n",
        "  def get(self,i):\n",
        "    return self.items[i]\n",
        "  def len(self):\n",
        "    return len(self.classes)\n",
        "        "
      ],
      "execution_count": null,
      "outputs": []
    },
    {
      "cell_type": "code",
      "metadata": {
        "id": "3j7EqTKRw8b4"
      },
      "source": [
        "class ThreeDDataset(Dataset):\r\n",
        "    def __init__(self, x, y):\r\n",
        "        self.x = []\r\n",
        "        self.y = []\r\n",
        "        class_ind = 0\r\n",
        "        for dis_class in x:\r\n",
        "          for item in dis_class:\r\n",
        "            self.x.append(item)\r\n",
        "            self.y.append(class_ind)\r\n",
        "          class_ind+=1\r\n",
        "        self.y = label_list(self.y, y)\r\n",
        "        print(\"data: \", len(self.x))\r\n",
        "        print(\"labels: \", self.y.len(), \" \", self.y.items)\r\n",
        "        self.c = len(self.y.classes)\r\n",
        "\r\n",
        "        t = True\r\n",
        "        for dis_class in self.x:\r\n",
        "          t = t and len(dis_class)==0\r\n",
        "        self.is_empty=t\r\n",
        "    \r\n",
        "    def __len__(self):\r\n",
        "        return len(self.x)\r\n",
        "    \r\n",
        "    def __getitem__(self, i):\r\n",
        "        return self.x[i],self.y.get(i)"
      ],
      "execution_count": null,
      "outputs": []
    },
    {
      "cell_type": "markdown",
      "metadata": {
        "id": "eC9aWxpqf98Z"
      },
      "source": [
        "**Definition of our custom Neural Network Model (not yet in use) **"
      ]
    },
    {
      "cell_type": "code",
      "metadata": {
        "id": "x0HvC38sfz-x"
      },
      "source": [
        "class NNet(nn.Module):\r\n",
        "    def __init__(self, num_classes=10):\r\n",
        "        super(ConvNet, self).__init__()\r\n",
        "        self.layer1 = nn.Sequential(\r\n",
        "            nn.Conv3d(1,30,kernel_size=5,stride=2),\r\n",
        "            nn.BatchNorm3d(30),\r\n",
        "            nn.ReLU(),\r\n",
        "            nn.MaxPool3d(kernel_size=2, stride=2))\r\n",
        "        self.layer2 = nn.Sequential(\r\n",
        "            nn.Conv3d(1, 30, kernel_size=5, stride=1, padding=2),\r\n",
        "            nn.BatchNorm3d(30),\r\n",
        "            nn.ReLU(),\r\n",
        "            nn.MaxPool3d(kernel_size=2, stride=2))\r\n",
        "        self.fc = nn.Linear(7 * 7 * 32, num_classes)\r\n",
        "\r\n",
        "    def forward(self, x):\r\n",
        "        out = self.layer1(x)\r\n",
        "        out = self.layer2(out)\r\n",
        "        out = out.reshape(out.size(0), -1)\r\n",
        "        out = self.fc(out)\r\n",
        "        return out\r\n"
      ],
      "execution_count": null,
      "outputs": []
    },
    {
      "cell_type": "markdown",
      "metadata": {
        "id": "0p08baNGpeKB"
      },
      "source": [
        "## Reading in the image data"
      ]
    },
    {
      "cell_type": "code",
      "metadata": {
        "id": "N9wWj7fM8Gp1",
        "colab": {
          "base_uri": "https://localhost:8080/"
        },
        "cellView": "code",
        "outputId": "dc98f7df-12a0-4434-f04c-697e7aedee27"
      },
      "source": [
        "\"\"\"\n",
        "\n",
        "#@title Default title text\n",
        "import os\n",
        "\n",
        "data   = []\n",
        "labels = []\n",
        "\n",
        "datasrc = '/home/epp/phupqr/PX319MLPhases/MachineLearning-Anderson/raw_system_data_refs' #Source of the locations of the data\n",
        "\n",
        "disorder_systems      = []\n",
        "disorder_class_labels = []\n",
        "\n",
        "for disorder_class_folder in os.scandir(datasrc):                #Go through each of the disorder folders...\n",
        "    print(disorder_class_folder.path)\n",
        "    disorder_class = disorder_class_folder.path.rsplit('_',1)[1]\n",
        "    print(disorder_class)\n",
        "    disorder_systems.append([])\n",
        "    disorder_class_labels.append(disorder_class)\n",
        "    \n",
        "    for file in os.scandir(disorder_class_folder.path):          #...find the file in each folder...\n",
        "        #print(file)                                             #...\n",
        "        the_file = open(file.path, 'r')                          #...open the file to read the locations of the data...\n",
        "        \n",
        "        number_of_data = 0\n",
        "        for line in the_file:                                    #...for each... \n",
        "            \n",
        "            if (number_of_data < 1):                           #...gather a certain amount of data...\n",
        "                print(\" \")\n",
        "                number_of_data += 1\n",
        "\n",
        "                #print(line)\n",
        "                line = line.rsplit('\\n',1)[0]\n",
        "                raw_data = open(line,'r')\n",
        "                system = make_3D_structure(raw_data, 20)\n",
        "                #print(system)\n",
        "                disorder_systems[-1].append(system)\n",
        "                print(\"added system to \" + disorder_class_labels[-1])\n",
        "     \n",
        "\"\"\""
      ],
      "execution_count": null,
      "outputs": [
        {
          "output_type": "execute_result",
          "data": {
            "application/vnd.google.colaboratory.intrinsic+json": {
              "type": "string"
            },
            "text/plain": [
              "'\\n\\n#@title Default title text\\nimport os\\n\\ndata   = []\\nlabels = []\\n\\ndatasrc = \\'/home/epp/phupqr/PX319MLPhases/MachineLearning-Anderson/raw_system_data_refs\\' #Source of the locations of the data\\n\\ndisorder_systems      = []\\ndisorder_class_labels = []\\n\\nfor disorder_class_folder in os.scandir(datasrc):                #Go through each of the disorder folders...\\n    print(disorder_class_folder.path)\\n    disorder_class = disorder_class_folder.path.rsplit(\\'_\\',1)[1]\\n    print(disorder_class)\\n    disorder_systems.append([])\\n    disorder_class_labels.append(disorder_class)\\n    \\n    for file in os.scandir(disorder_class_folder.path):          #...find the file in each folder...\\n        #print(file)                                             #...\\n        the_file = open(file.path, \\'r\\')                          #...open the file to read the locations of the data...\\n        \\n        number_of_data = 0\\n        for line in the_file:                                    #...for each... \\n            \\n            if (number_of_data < 1):                           #...gather a certain amount of data...\\n                print(\" \")\\n                number_of_data += 1\\n\\n                #print(line)\\n                line = line.rsplit(\\'\\n\\',1)[0]\\n                raw_data = open(line,\\'r\\')\\n                system = make_3D_structure(raw_data, 20)\\n                #print(system)\\n                disorder_systems[-1].append(system)\\n                print(\"added system to \" + disorder_class_labels[-1])\\n     \\n'"
            ]
          },
          "metadata": {
            "tags": []
          },
          "execution_count": 154
        }
      ]
    },
    {
      "cell_type": "code",
      "metadata": {
        "id": "j5PsG75M8Kb5"
      },
      "source": [
        "def make_3D_structure(file, system_size):\r\n",
        "    col = 0\r\n",
        "    row = 0\r\n",
        "    lay = 0\r\n",
        "    \r\n",
        "    real_3d_with_channel_system = []\r\n",
        "    system = []\r\n",
        "    for i in range(system_size):\r\n",
        "        system.append([])\r\n",
        "        for j in range(system_size):\r\n",
        "            system[-1].append([])\r\n",
        "            for j in range(system_size):\r\n",
        "                system[-1][-1].append([])\r\n",
        "    #print(len(system))\r\n",
        "    #print(len(system[0]))\r\n",
        "    #print(len(system[0][0]))\r\n",
        "    \r\n",
        "    for line in file:\r\n",
        "        if col == system_size:\r\n",
        "            col = 0\r\n",
        "            row += 1\r\n",
        "        if row == system_size:\r\n",
        "            row = 0\r\n",
        "            lay += 1\r\n",
        "        system[col][row][lay] = float(line)\r\n",
        "        #print(float(line))\r\n",
        "        col += 1\r\n",
        "    real_3d_with_channel_system.append(system)\r\n",
        "    return system\r\n",
        "        "
      ],
      "execution_count": null,
      "outputs": []
    },
    {
      "cell_type": "markdown",
      "metadata": {
        "id": "Z4VMQWV5gDeh"
      },
      "source": [
        "##Primary code that loads data and sends it to correct object"
      ]
    },
    {
      "cell_type": "code",
      "metadata": {
        "id": "vfJuOKV1UjD5"
      },
      "source": [
        "global loaded_training\r\n",
        "global loaded_validation\r\n",
        "global loaded_testing\r\n",
        "global loaded_labels\r\n",
        "loaded_training   = {}\r\n",
        "loaded_validation = {}\r\n",
        "loaded_testing    = {}\r\n",
        "loaded_labels     = {}"
      ],
      "execution_count": null,
      "outputs": []
    },
    {
      "cell_type": "code",
      "metadata": {
        "id": "Pik8R2VDpeKE"
      },
      "source": [
        "import pandas as pd\n",
        "import io\n",
        "\n",
        "def prepare_datasets(folder,d_type, batch_size=1, binning=True,bin_size=1, skip_amount=0):\n",
        "  folder = folder + d_type\n",
        "  loaded = False\n",
        "  class_skipping = (skip_amount>0)\n",
        "\n",
        "  if str(folder) in loaded_training.keys():\n",
        "    print(\"Found pre-loaded data \" + folder)\n",
        "    tensors_training   = loaded_training[str(folder)]\n",
        "    tensors_validation = loaded_validation[str(folder)]\n",
        "    tensors_testing    = loaded_testing[str(folder)]\n",
        "    labels             = loaded_labels[str(folder)]\n",
        "    loaded = True\n",
        "\n",
        "  if not loaded:\n",
        "    if d_type=='validation':\n",
        "      training_fraction  =0.1\n",
        "      validation_fraction=0.99\n",
        "    elif d_type=='training':\n",
        "      training_fraction  =t_f_default\n",
        "      validation_fraction=v_f_default\n",
        "\n",
        "    dir = '/content/drive/MyDrive/csvdata/'+folder+'/'\n",
        "    files = !ls -l {dir}\n",
        "    files.reverse()\n",
        "    files.pop()\n",
        "    for i in range(len(files)):\n",
        "      files[i] = files[i].rsplit(' ',1)[1]\n",
        "\n",
        "\n",
        "    tensors_training   = []  #Each list in this list is a seperate label list\n",
        "    tensors_validation = []  #\n",
        "    tensors_testing    = []  #\n",
        "    global n_labels\n",
        "    n_labels = len(files)    #Defined by the number of data csv files\n",
        "    print(\"Number of classes: \", n_labels)\n",
        "\n",
        "    labels = []\n",
        "    class_val = 0\n",
        "    for class_file in files:\n",
        "      \"\"\"\n",
        "      Add new class to the tensors list, read the systems one by one out \n",
        "      of the data file then add that data to the correct class list in tensors\n",
        "      and add the name of the disorder class to the labels list   \n",
        "      \"\"\"\n",
        "      tensors_training.append([])\n",
        "      tensors_validation.append([])\n",
        "      tensors_testing.append([])\n",
        "      print(class_file)\n",
        "      disorder_class = class_file.rsplit('-',1)[0]\n",
        "      disorder_class = disorder_class.rsplit('W',1)[1]\n",
        "      labels.append(disorder_class)\n",
        "\n",
        "      with open(dir+class_file, 'r') as f:\n",
        "        df = pd.read_csv(f)\n",
        "\n",
        "      for i in range(len(df.transpose())-1):         \n",
        "        \"\"\"\n",
        "        Go through each system and add them to the data\n",
        "        \"\"\"           \n",
        "        ThreeD_array = make_3D_structure(to_list(df[str(i)]),20)\n",
        "        system = torch.tensor(ThreeD_array)\n",
        "\n",
        "        ran_numb = random.random()\n",
        "        if ran_numb >= 1 - training_fraction:\n",
        "          tensors_training[-1].append(system)\n",
        "        \n",
        "        elif ran_numb < validation_fraction:\n",
        "          tensors_validation[-1].append(system)\n",
        "        \n",
        "        else:\n",
        "          tensors_testing[-1].append(system)\n",
        "      class_val+=1\n",
        "    print(labels)\n",
        "\n",
        "    if str(folder) not in loaded_training.keys():   #Saving the models in a global dictionary for faster loading later\n",
        "      print(\"No pre-existing data \" + folder + \". Saving in dictionary\")\n",
        "      loaded_training[str(folder)]   = tensors_training\n",
        "      loaded_validation[str(folder)] = tensors_validation\n",
        "      loaded_testing[str(folder)]    = tensors_testing\n",
        "      loaded_labels[str(folder)]     = labels\n",
        "\n",
        "\n",
        "    \n",
        "  if class_skipping:    #Skipping every 'skip_amount' classes\n",
        "    new_labels = []\n",
        "    for i in range(len(labels)):\n",
        "      if i*(skip_amount+1) > len(labels)-1:\n",
        "        break\n",
        "      new_labels.append(labels[i*(skip_amount+1)])\n",
        "    labels = new_labels\n",
        "    print(labels)\n",
        "\n",
        "    new_tensors_training = []\n",
        "    for i in range(len(tensors_training)):\n",
        "      if i*(skip_amount+1) > len(tensors_training)-1:\n",
        "        break\n",
        "      new_tensors_training.append(tensors_training[i*(skip_amount+1)])\n",
        "    tensors_training = new_tensors_training\n",
        "\n",
        "    new_tensors_validation = []\n",
        "    for i in range(len(tensors_validation)):\n",
        "      if i*(skip_amount+1) > len(tensors_validation)-1:\n",
        "        break\n",
        "      new_tensors_validation.append(tensors_validation[i*(skip_amount+1)])\n",
        "    tensors_validation = new_tensors_validation\n",
        "\n",
        "    new_tensors_testing = []\n",
        "    for i in range(len(tensors_testing)):\n",
        "      if i*(skip_amount+1) > len(tensors_testing)-1:\n",
        "        break\n",
        "      new_tensors_testing.append(tensors_testing[i*(skip_amount+1)])\n",
        "    tensors_testing = new_tensors_testing\n",
        "\n",
        "  if binning:        #Bin each of the datasets\n",
        "    binned_labels = []\n",
        "    binned_tensors_training = []\n",
        "    binned_tensors_validation = []\n",
        "    binned_tensors_testing = []\n",
        "\n",
        "    binned_labels.append([])   \n",
        "    binned_tensors_training.append([])\n",
        "    binned_tensors_validation.append([])\n",
        "    binned_tensors_testing.append([])\n",
        "\n",
        "    print(len(labels)) \n",
        "    for i in range(len(labels)):       \n",
        "      for label in labels[i]:\n",
        "        binned_labels[-1].append(label)\n",
        "      if (i+1)%bin_size == 0:\n",
        "        binned_labels.append([])\n",
        "    if len(labels)%bin_size != 0:\n",
        "      del binned_labels[-1]\n",
        "    print(\"total bins (la): \", len(binned_labels))\n",
        "    labels = binned_labels\n",
        "\n",
        "    print(len(tensors_training)) \n",
        "    for i in range(len(tensors_training)):       \n",
        "      for tensor in tensors_training[i]:\n",
        "        binned_tensors_training[-1].append(tensor)\n",
        "      if (i+1)%bin_size == 0:\n",
        "        binned_tensors_training.append([])\n",
        "    if len(tensors_training)%bin_size != 0:\n",
        "      del binned_tensors_training[-1]\n",
        "    print(\"total bins (tr): \", len(binned_tensors_training))\n",
        "    tensors_training = binned_tensors_training\n",
        "\n",
        "    print(len(tensors_validation))\n",
        "    for i in range(len(tensors_validation)):\n",
        "      for tensor in tensors_validation[i]:\n",
        "        binned_tensors_validation[-1].append(tensor)\n",
        "      if (i+1)%bin_size == 0:\n",
        "        binned_tensors_validation.append([])\n",
        "    if len(tensors_validation)%bin_size != 0:\n",
        "      del binned_tensors_validation[-1]\n",
        "    print(\"total bins (va): \", len(binned_tensors_validation))\n",
        "    tensors_validation = binned_tensors_validation\n",
        "\n",
        "    print(len(tensors_testing))\n",
        "    for i in range(len(tensors_testing)):\n",
        "      for tensor in tensors_testing[i]:\n",
        "        binned_tensors_testing[-1].append(tensor)\n",
        "      if (i+1)%bin_size == 0:\n",
        "        binned_tensors_testing.append([])\n",
        "    if len(tensors_testing)%bin_size != 0:\n",
        "      del binned_tensors_testing[-1]\n",
        "    print(\"total bins (te): \", len(binned_tensors_testing))\n",
        "    tensors_testing = binned_tensors_testing\n",
        "\n",
        "\n",
        "  loader_training = ThreeDDataset(tensors_training, labels)\n",
        "  loader_validation = ThreeDDataset(tensors_validation, labels)\n",
        "  loader_testing = ThreeDDataset(tensors_testing, labels)\n",
        "  databunch = DataBunch.create(loader_training, loader_validation, loader_testing, bs=bs, num_workers=0)\n",
        "\n",
        "  return databunch"
      ],
      "execution_count": null,
      "outputs": []
    },
    {
      "cell_type": "markdown",
      "metadata": {
        "id": "mXOqlfwnvOVS"
      },
      "source": [
        "##Function that creates a learner from a dataset and choice of training or validation mode. Also contains the training function"
      ]
    },
    {
      "cell_type": "code",
      "metadata": {
        "id": "xPdsytzlpeKF"
      },
      "source": [
        "def create_learner(folder,d_type, show_model=False, batch_size=1, binning=False,bin_size=1, skip_amount=0, opt=optim.SGD):\r\n",
        "  databunch = prepare_datasets(folder, d_type, binning=binning, batch_size=batch_size, bin_size=bin_size, skip_amount=skip_amount)\r\n",
        "  global learn \r\n",
        "  learn = cnn_learner(databunch, models.resnet18, metrics=[error_rate,accuracy], loss_func=torch.nn.CrossEntropyLoss(), opt_func=opt, pretrained=False)\r\n",
        "  global c_model\r\n",
        "  c_model = 'resnet18-'      #Model\r\n",
        "  metric = 'metric=error_rate-'     #Metric\r\n",
        "  loss = 'loss=CrossEntropyLoss-' #Loss \r\n",
        "  optimizer = 'opt=SGD-'\r\n",
        "  twod_or_threed = 'CONV2D-'\r\n",
        "  c_model = twod_or_threed+c_model+metric+loss+optimizer\r\n",
        "\r\n",
        "\r\n",
        "    #Print the layer structure\r\n",
        "  for i in range(len(learn.model)):\r\n",
        "    #print(i, \"    \", learn.model[i])\r\n",
        "    for j in range(len(learn.model[i])):\r\n",
        "      #print(j, \"    \", learn.model[i][j])\r\n",
        "      pass\r\n",
        "\r\n",
        "  learn.model[0][0] = nn.Conv2d(20, 64, kernel_size=(7, 7), stride=(2, 2), padding=(3, 3), bias=False)\r\n",
        "  learn.model[1][8] = nn.Linear(in_features=512, out_features=n_labels, bias=True)\r\n",
        "\r\n",
        "  if show_model:\r\n",
        "    print(learn.model)\r\n",
        "\r\n",
        "  if d_type=='training':\r\n",
        "    learn.lr_find(start_lr=1e-4, end_lr=1, num_it=100, stop_div=False)\r\n",
        "    learn.recorder.plot()\r\n",
        "    learn.recorder.plot_lr()\r\n",
        "\r\n",
        "  c_model_t = c_model +'bs='+str(learn.recorder.train_dl.batch_size)+'-ntrain='+str(learn.recorder.train_dl.dl.dataset.__len__())\r\n",
        "  !mkdir /content/drive/MyDrive/ModelStages/{c_model_t}\r\n",
        "  learn.save('/content/drive/MyDrive/ModelStages/'\r\n",
        "                              +c_model\r\n",
        "                              +'bs='+str(learn.recorder.train_dl.batch_size)\r\n",
        "                              +'-ntrain='+str(learn.recorder.train_dl.dl.dataset.__len__())\r\n",
        "                              +'/epochs-0')"
      ],
      "execution_count": null,
      "outputs": []
    },
    {
      "cell_type": "markdown",
      "metadata": {
        "id": "D7MgG-ik0bO_"
      },
      "source": [
        "##Training Functions\r\n"
      ]
    },
    {
      "cell_type": "code",
      "metadata": {
        "id": "shn_kRnrWO7O"
      },
      "source": [
        "def train_max_epochs(epoch_goal, lr, mom):\r\n",
        "  n_epochs_total = 0\r\n",
        "  #learn.unfreeze()\r\n",
        "  validation_losses = []\r\n",
        "  training_losses = []\r\n",
        "  n_batches = len(learn.recorder.train_dl)\r\n",
        "  while n_epochs_total < epoch_goal:\r\n",
        "    n_epochs_total = load_latest_training(learn, c_model)\r\n",
        "    print(\"Best training so far: \", n_epochs_total)\r\n",
        "\r\n",
        "    learn.fit_one_cycle(epoch_chunk,max_lr=lr,moms=mom)\r\n",
        "    n_epochs_total += epoch_chunk\r\n",
        "\r\n",
        "    print('/content/drive/MyDrive/ModelStages/'+c_model+'/epochs-'+str(n_epochs_total))\r\n",
        "    learn.save('/content/drive/MyDrive/ModelStages/'\r\n",
        "    +c_model\r\n",
        "    +'bs='+str(learn.recorder.train_dl.batch_size)\r\n",
        "    +'-ntrain='+str(learn.recorder.train_dl.dl.dataset.__len__())\r\n",
        "    +'/epochs-'+str(n_epochs_total)\r\n",
        "    +'-max_lr='+str(lr)\r\n",
        "    +'-mom='+str(mom))\r\n",
        "    \r\n",
        "    for c_val_loss in learn.recorder.val_losses:\r\n",
        "      validation_losses.append(c_val_loss)\r\n",
        "    for i in range(1,epoch_chunk):\r\n",
        "      training_losses.append(learn.recorder.losses[i*n_batches-1].item())\r\n",
        "    print(learn.recorder.losses)\r\n",
        "    print(len(learn.recorder.losses))\r\n",
        "    print(\"losses: \", training_losses)\r\n",
        "    print(\"validation_losses: \", validation_losses)\r\n",
        "  learn.recorder.plot_metrics()\r\n",
        "  learn.recorder.plot_losses()\r\n",
        "  return training_losses, validation_losses"
      ],
      "execution_count": null,
      "outputs": []
    },
    {
      "cell_type": "code",
      "metadata": {
        "id": "iHYfjjq3WuiF"
      },
      "source": [
        "def load_latest_training(learn, c_model):\r\n",
        "  dir = '/content/drive/MyDrive/ModelStages/'+c_model+'bs='+str(learn.recorder.train_dl.batch_size)+'-ntrain='+str(learn.recorder.train_dl.dl.dataset.__len__())+'/'\r\n",
        "  training_files = !ls -l {dir}\r\n",
        "  training_files.reverse()\r\n",
        "  training_files.pop()\r\n",
        "\r\n",
        "  max_epoch_value = 0\r\n",
        "  max_epoch_ind = -1\r\n",
        "  if len(training_values)!=1:\r\n",
        "    for i in range(len(training_files)):\r\n",
        "      training_files[i] = training_files[i].rsplit(' ',1)[1]\r\n",
        "      if int(training_files[i].rsplit('-',-1)[1].rsplit('-',-1)[0]) > max_epoch_value:\r\n",
        "        max_epoch_value = int(training_files[i].rsplit('-',-1)[1].rsplit('-',-1)[0])\r\n",
        "        max_epoch_ind = i\r\n",
        "    learn.load(training_files[max_epoch_ind])\r\n",
        "  else:\r\n",
        "    learn.load()\r\n",
        "  #learn.load(dir+'epochs-'+str(max_epoch_value))\r\n",
        "  \r\n",
        "  return max_epoch_value"
      ],
      "execution_count": null,
      "outputs": []
    },
    {
      "cell_type": "markdown",
      "metadata": {
        "id": "j_RrTfIRX1tp"
      },
      "source": [
        "#Pre-load all available data"
      ]
    },
    {
      "cell_type": "code",
      "metadata": {
        "id": "fr-WO0AUXz9w"
      },
      "source": [
        ""
      ],
      "execution_count": null,
      "outputs": []
    },
    {
      "cell_type": "markdown",
      "metadata": {
        "id": "m4I8X_KUvDQk"
      },
      "source": [
        "#Main Loop"
      ]
    },
    {
      "cell_type": "code",
      "metadata": {
        "colab": {
          "base_uri": "https://localhost:8080/",
          "height": 990
        },
        "id": "tvjp3wi6vAHW",
        "outputId": "f7b6e205-35e7-4b0e-b1fd-2b53060bcd87"
      },
      "source": [
        "folder = 'raw_data_transfering_100_'\r\n",
        "d_type = d_type_opt[0]\r\n",
        "create_learner(folder,d_type, batch_size=20, binning=True,bin_size=2, skip_amount=0)"
      ],
      "execution_count": null,
      "outputs": [
        {
          "output_type": "stream",
          "text": [
            "Found pre-loaded data raw_data_transfering_100_training\n",
            "17\n",
            "total bins (la):  8\n",
            "17\n",
            "total bins (tr):  8\n",
            "17\n",
            "total bins (va):  8\n",
            "17\n",
            "total bins (te):  8\n",
            "data:  1029\n",
            "labels:  8   [0, 0, 0, 0, 0, 0, 0, 0, 0, 0, 0, 0, 0, 0, 0, 0, 0, 0, 0, 0, 0, 0, 0, 0, 0, 0, 0, 0, 0, 0, 0, 0, 0, 0, 0, 0, 0, 0, 0, 0, 0, 0, 0, 0, 0, 0, 0, 0, 0, 0, 0, 0, 0, 0, 0, 0, 0, 0, 0, 0, 0, 0, 0, 0, 0, 0, 0, 0, 0, 0, 0, 0, 0, 0, 0, 0, 0, 0, 0, 0, 0, 0, 0, 0, 0, 0, 0, 0, 0, 0, 0, 0, 0, 0, 0, 0, 0, 0, 0, 0, 0, 0, 0, 0, 0, 0, 0, 0, 0, 0, 0, 0, 0, 0, 0, 0, 0, 0, 0, 0, 0, 0, 0, 0, 0, 0, 0, 1, 1, 1, 1, 1, 1, 1, 1, 1, 1, 1, 1, 1, 1, 1, 1, 1, 1, 1, 1, 1, 1, 1, 1, 1, 1, 1, 1, 1, 1, 1, 1, 1, 1, 1, 1, 1, 1, 1, 1, 1, 1, 1, 1, 1, 1, 1, 1, 1, 1, 1, 1, 1, 1, 1, 1, 1, 1, 1, 1, 1, 1, 1, 1, 1, 1, 1, 1, 1, 1, 1, 1, 1, 1, 1, 1, 1, 1, 1, 1, 1, 1, 1, 1, 1, 1, 1, 1, 1, 1, 1, 1, 1, 1, 1, 1, 1, 1, 1, 1, 1, 1, 1, 1, 1, 1, 1, 1, 1, 1, 1, 1, 1, 1, 1, 1, 1, 1, 1, 1, 1, 1, 1, 1, 1, 1, 2, 2, 2, 2, 2, 2, 2, 2, 2, 2, 2, 2, 2, 2, 2, 2, 2, 2, 2, 2, 2, 2, 2, 2, 2, 2, 2, 2, 2, 2, 2, 2, 2, 2, 2, 2, 2, 2, 2, 2, 2, 2, 2, 2, 2, 2, 2, 2, 2, 2, 2, 2, 2, 2, 2, 2, 2, 2, 2, 2, 2, 2, 2, 2, 2, 2, 2, 2, 2, 2, 2, 2, 2, 2, 2, 2, 2, 2, 2, 2, 2, 2, 2, 2, 2, 2, 2, 2, 2, 2, 2, 2, 2, 2, 2, 2, 2, 2, 2, 2, 2, 2, 2, 2, 2, 2, 2, 2, 2, 2, 2, 2, 2, 2, 2, 2, 2, 2, 2, 2, 2, 2, 2, 2, 2, 2, 2, 2, 2, 2, 2, 2, 2, 2, 2, 2, 2, 2, 2, 2, 3, 3, 3, 3, 3, 3, 3, 3, 3, 3, 3, 3, 3, 3, 3, 3, 3, 3, 3, 3, 3, 3, 3, 3, 3, 3, 3, 3, 3, 3, 3, 3, 3, 3, 3, 3, 3, 3, 3, 3, 3, 3, 3, 3, 3, 3, 3, 3, 3, 3, 3, 3, 3, 3, 3, 3, 3, 3, 3, 3, 3, 3, 3, 3, 3, 3, 3, 3, 3, 3, 3, 3, 3, 3, 3, 3, 3, 3, 3, 3, 3, 3, 3, 3, 3, 3, 3, 3, 3, 3, 3, 3, 3, 3, 3, 3, 3, 3, 3, 3, 3, 3, 3, 3, 3, 3, 3, 3, 3, 3, 3, 3, 3, 3, 3, 3, 3, 3, 3, 3, 3, 3, 3, 3, 3, 3, 3, 3, 4, 4, 4, 4, 4, 4, 4, 4, 4, 4, 4, 4, 4, 4, 4, 4, 4, 4, 4, 4, 4, 4, 4, 4, 4, 4, 4, 4, 4, 4, 4, 4, 4, 4, 4, 4, 4, 4, 4, 4, 4, 4, 4, 4, 4, 4, 4, 4, 4, 4, 4, 4, 4, 4, 4, 4, 4, 4, 4, 4, 4, 4, 4, 4, 4, 4, 4, 4, 4, 4, 4, 4, 4, 4, 4, 4, 4, 4, 4, 4, 4, 4, 4, 4, 4, 4, 4, 4, 4, 4, 4, 4, 4, 4, 4, 4, 4, 4, 4, 4, 4, 4, 4, 4, 4, 4, 4, 4, 4, 4, 4, 4, 4, 4, 4, 4, 4, 4, 4, 4, 4, 4, 4, 4, 4, 4, 4, 4, 4, 4, 4, 4, 4, 5, 5, 5, 5, 5, 5, 5, 5, 5, 5, 5, 5, 5, 5, 5, 5, 5, 5, 5, 5, 5, 5, 5, 5, 5, 5, 5, 5, 5, 5, 5, 5, 5, 5, 5, 5, 5, 5, 5, 5, 5, 5, 5, 5, 5, 5, 5, 5, 5, 5, 5, 5, 5, 5, 5, 5, 5, 5, 5, 5, 5, 5, 5, 5, 5, 5, 5, 5, 5, 5, 5, 5, 5, 5, 5, 5, 5, 5, 5, 5, 5, 5, 5, 5, 5, 5, 5, 5, 5, 5, 5, 5, 5, 5, 5, 5, 5, 5, 5, 5, 5, 5, 5, 5, 5, 5, 5, 5, 5, 5, 5, 5, 5, 5, 5, 5, 5, 5, 5, 5, 5, 5, 5, 5, 5, 5, 5, 5, 5, 5, 6, 6, 6, 6, 6, 6, 6, 6, 6, 6, 6, 6, 6, 6, 6, 6, 6, 6, 6, 6, 6, 6, 6, 6, 6, 6, 6, 6, 6, 6, 6, 6, 6, 6, 6, 6, 6, 6, 6, 6, 6, 6, 6, 6, 6, 6, 6, 6, 6, 6, 6, 6, 6, 6, 6, 6, 6, 6, 6, 6, 6, 6, 6, 6, 6, 6, 6, 6, 6, 6, 6, 6, 6, 6, 6, 6, 6, 6, 6, 6, 6, 6, 6, 6, 6, 6, 6, 6, 6, 6, 6, 6, 6, 6, 6, 6, 6, 6, 6, 6, 6, 6, 6, 6, 6, 6, 6, 6, 6, 6, 6, 6, 6, 6, 6, 6, 6, 6, 6, 7, 7, 7, 7, 7, 7, 7, 7, 7, 7, 7, 7, 7, 7, 7, 7, 7, 7, 7, 7, 7, 7, 7, 7, 7, 7, 7, 7, 7, 7, 7, 7, 7, 7, 7, 7, 7, 7, 7, 7, 7, 7, 7, 7, 7, 7, 7, 7, 7, 7, 7, 7, 7, 7, 7, 7, 7, 7, 7, 7, 7, 7, 7, 7, 7, 7, 7, 7, 7, 7, 7, 7, 7, 7, 7, 7, 7, 7, 7, 7, 7, 7, 7, 7, 7, 7, 7, 7, 7, 7, 7, 7, 7, 7, 7, 7, 7, 7, 7, 7, 7, 7, 7, 7, 7, 7, 7, 7, 7, 7, 7, 7, 7, 7, 7, 7, 7, 7, 7, 7, 7, 7, 7, 7, 7, 7]\n",
            "data:  428\n",
            "labels:  8   [0, 0, 0, 0, 0, 0, 0, 0, 0, 0, 0, 0, 0, 0, 0, 0, 0, 0, 0, 0, 0, 0, 0, 0, 0, 0, 0, 0, 0, 0, 0, 0, 0, 0, 0, 0, 0, 0, 0, 0, 0, 0, 0, 0, 0, 0, 0, 0, 0, 0, 0, 0, 0, 0, 0, 0, 0, 0, 0, 1, 1, 1, 1, 1, 1, 1, 1, 1, 1, 1, 1, 1, 1, 1, 1, 1, 1, 1, 1, 1, 1, 1, 1, 1, 1, 1, 1, 1, 1, 1, 1, 1, 1, 1, 1, 1, 1, 1, 1, 1, 1, 1, 1, 1, 1, 1, 1, 1, 1, 1, 1, 1, 2, 2, 2, 2, 2, 2, 2, 2, 2, 2, 2, 2, 2, 2, 2, 2, 2, 2, 2, 2, 2, 2, 2, 2, 2, 2, 2, 2, 2, 2, 2, 2, 2, 2, 2, 2, 2, 2, 2, 2, 2, 2, 2, 2, 2, 3, 3, 3, 3, 3, 3, 3, 3, 3, 3, 3, 3, 3, 3, 3, 3, 3, 3, 3, 3, 3, 3, 3, 3, 3, 3, 3, 3, 3, 3, 3, 3, 3, 3, 3, 3, 3, 3, 3, 3, 3, 3, 3, 3, 3, 3, 3, 3, 3, 3, 3, 3, 3, 3, 3, 4, 4, 4, 4, 4, 4, 4, 4, 4, 4, 4, 4, 4, 4, 4, 4, 4, 4, 4, 4, 4, 4, 4, 4, 4, 4, 4, 4, 4, 4, 4, 4, 4, 4, 4, 4, 4, 4, 4, 4, 4, 4, 4, 4, 4, 4, 5, 5, 5, 5, 5, 5, 5, 5, 5, 5, 5, 5, 5, 5, 5, 5, 5, 5, 5, 5, 5, 5, 5, 5, 5, 5, 5, 5, 5, 5, 5, 5, 5, 5, 5, 5, 5, 5, 5, 5, 5, 5, 5, 5, 5, 5, 5, 5, 5, 6, 6, 6, 6, 6, 6, 6, 6, 6, 6, 6, 6, 6, 6, 6, 6, 6, 6, 6, 6, 6, 6, 6, 6, 6, 6, 6, 6, 6, 6, 6, 6, 6, 6, 6, 6, 6, 6, 6, 6, 6, 6, 6, 6, 6, 6, 6, 6, 6, 6, 6, 6, 6, 6, 6, 6, 6, 6, 6, 6, 6, 6, 6, 6, 6, 6, 7, 7, 7, 7, 7, 7, 7, 7, 7, 7, 7, 7, 7, 7, 7, 7, 7, 7, 7, 7, 7, 7, 7, 7, 7, 7, 7, 7, 7, 7, 7, 7, 7, 7, 7, 7, 7, 7, 7, 7, 7, 7, 7, 7, 7, 7, 7, 7, 7, 7, 7, 7, 7, 7, 7]\n",
            "data:  143\n",
            "labels:  8   [0, 0, 0, 0, 0, 0, 0, 0, 0, 0, 0, 0, 0, 0, 1, 1, 1, 1, 1, 1, 1, 1, 1, 1, 1, 1, 1, 1, 1, 1, 1, 1, 1, 1, 1, 2, 2, 2, 2, 2, 2, 2, 2, 2, 2, 2, 2, 2, 2, 2, 3, 3, 3, 3, 3, 3, 3, 3, 3, 3, 3, 3, 3, 3, 3, 3, 3, 4, 4, 4, 4, 4, 4, 4, 4, 4, 4, 4, 4, 4, 4, 4, 4, 4, 4, 4, 4, 4, 5, 5, 5, 5, 5, 5, 5, 5, 5, 5, 5, 5, 5, 5, 5, 5, 5, 5, 5, 5, 5, 6, 6, 6, 6, 6, 6, 6, 6, 6, 6, 6, 6, 6, 6, 6, 7, 7, 7, 7, 7, 7, 7, 7, 7, 7, 7, 7, 7, 7, 7, 7, 7, 7, 7]\n"
          ],
          "name": "stdout"
        },
        {
          "output_type": "display_data",
          "data": {
            "text/html": [
              "\n",
              "    <div>\n",
              "        <style>\n",
              "            /* Turns off some styling */\n",
              "            progress {\n",
              "                /* gets rid of default border in Firefox and Opera. */\n",
              "                border: none;\n",
              "                /* Needs to be in here for Safari polyfill so background images work as expected. */\n",
              "                background-size: auto;\n",
              "            }\n",
              "            .progress-bar-interrupted, .progress-bar-interrupted::-webkit-progress-bar {\n",
              "                background: #F44336;\n",
              "            }\n",
              "        </style>\n",
              "      <progress value='2' class='' max='3' style='width:300px; height:20px; vertical-align: middle;'></progress>\n",
              "      66.67% [2/3 00:34<00:17]\n",
              "    </div>\n",
              "    \n",
              "<table border=\"1\" class=\"dataframe\">\n",
              "  <thead>\n",
              "    <tr style=\"text-align: left;\">\n",
              "      <th>epoch</th>\n",
              "      <th>train_loss</th>\n",
              "      <th>valid_loss</th>\n",
              "      <th>error_rate</th>\n",
              "      <th>accuracy</th>\n",
              "      <th>time</th>\n",
              "    </tr>\n",
              "  </thead>\n",
              "  <tbody>\n",
              "    <tr>\n",
              "      <td>0</td>\n",
              "      <td>3.147756</td>\n",
              "      <td>#na#</td>\n",
              "      <td>00:18</td>\n",
              "    </tr>\n",
              "    <tr>\n",
              "      <td>1</td>\n",
              "      <td>3.091303</td>\n",
              "      <td>#na#</td>\n",
              "      <td>00:15</td>\n",
              "    </tr>\n",
              "  </tbody>\n",
              "</table><p>\n",
              "\n",
              "    <div>\n",
              "        <style>\n",
              "            /* Turns off some styling */\n",
              "            progress {\n",
              "                /* gets rid of default border in Firefox and Opera. */\n",
              "                border: none;\n",
              "                /* Needs to be in here for Safari polyfill so background images work as expected. */\n",
              "                background-size: auto;\n",
              "            }\n",
              "            .progress-bar-interrupted, .progress-bar-interrupted::-webkit-progress-bar {\n",
              "                background: #F44336;\n",
              "            }\n",
              "        </style>\n",
              "      <progress value='31' class='' max='34' style='width:300px; height:20px; vertical-align: middle;'></progress>\n",
              "      91.18% [31/34 00:13<00:01 3.0449]\n",
              "    </div>\n",
              "    "
            ],
            "text/plain": [
              "<IPython.core.display.HTML object>"
            ]
          },
          "metadata": {
            "tags": []
          }
        },
        {
          "output_type": "stream",
          "text": [
            "LR Finder is complete, type {learner_name}.recorder.plot() to see the graph.\n",
            "mkdir: cannot create directory ‘/content/drive/MyDrive/ModelStages/CONV2D-resnet18-metric=error_rate-loss=CrossEntropyLoss-opt=SGD-bs=30-ntrain=1029’: File exists\n"
          ],
          "name": "stdout"
        },
        {
          "output_type": "display_data",
          "data": {
            "image/png": "[encoded data removed]",
            "text/plain": [
              "<Figure size 432x288 with 1 Axes>"
            ]
          },
          "metadata": {
            "tags": [],
            "needs_background": "light"
          }
        },
        {
          "output_type": "display_data",
          "data": {
            "image/png": "[encoded data removed]",
            "text/plain": [
              "<Figure size 432x288 with 1 Axes>"
            ]
          },
          "metadata": {
            "tags": [],
            "needs_background": "light"
          }
        }
      ]
    },
    {
      "cell_type": "code",
      "metadata": {
        "id": "Nx9gYAi1sMPf",
        "colab": {
          "base_uri": "https://localhost:8080/",
          "height": 418
        },
        "outputId": "99208bbe-73e2-44c8-8072-3d373e0a5f26"
      },
      "source": [
        "train_max_epochs(6,1,0.9)"
      ],
      "execution_count": null,
      "outputs": [
        {
          "output_type": "stream",
          "text": [
            "Best training so far:  0\n"
          ],
          "name": "stdout"
        },
        {
          "output_type": "display_data",
          "data": {
            "text/html": [
              "\n",
              "    <div>\n",
              "        <style>\n",
              "            /* Turns off some styling */\n",
              "            progress {\n",
              "                /* gets rid of default border in Firefox and Opera. */\n",
              "                border: none;\n",
              "                /* Needs to be in here for Safari polyfill so background images work as expected. */\n",
              "                background-size: auto;\n",
              "            }\n",
              "            .progress-bar-interrupted, .progress-bar-interrupted::-webkit-progress-bar {\n",
              "                background: #F44336;\n",
              "            }\n",
              "        </style>\n",
              "      <progress value='0' class='' max='3' style='width:300px; height:20px; vertical-align: middle;'></progress>\n",
              "      0.00% [0/3 00:00<00:00]\n",
              "    </div>\n",
              "    \n",
              "<table border=\"1\" class=\"dataframe\">\n",
              "  <thead>\n",
              "    <tr style=\"text-align: left;\">\n",
              "      <th>epoch</th>\n",
              "      <th>train_loss</th>\n",
              "      <th>valid_loss</th>\n",
              "      <th>error_rate</th>\n",
              "      <th>accuracy</th>\n",
              "      <th>time</th>\n",
              "    </tr>\n",
              "  </thead>\n",
              "  <tbody>\n",
              "  </tbody>\n",
              "</table><p>\n",
              "\n",
              "    <div>\n",
              "        <style>\n",
              "            /* Turns off some styling */\n",
              "            progress {\n",
              "                /* gets rid of default border in Firefox and Opera. */\n",
              "                border: none;\n",
              "                /* Needs to be in here for Safari polyfill so background images work as expected. */\n",
              "                background-size: auto;\n",
              "            }\n",
              "            .progress-bar-interrupted, .progress-bar-interrupted::-webkit-progress-bar {\n",
              "                background: #F44336;\n",
              "            }\n",
              "        </style>\n",
              "      <progress value='11' class='' max='34' style='width:300px; height:20px; vertical-align: middle;'></progress>\n",
              "      32.35% [11/34 00:05<00:11 3.1319]\n",
              "    </div>\n",
              "    "
            ],
            "text/plain": [
              "<IPython.core.display.HTML object>"
            ]
          },
          "metadata": {
            "tags": []
          }
        },
        {
          "output_type": "error",
          "ename": "KeyboardInterrupt",
          "evalue": "ignored",
          "traceback": [
            "\u001b[0;31m---------------------------------------------------------------------------\u001b[0m",
            "\u001b[0;31mKeyboardInterrupt\u001b[0m                         Traceback (most recent call last)",
            "\u001b[0;32m<ipython-input-113-16224ac928bc>\u001b[0m in \u001b[0;36m<module>\u001b[0;34m()\u001b[0m\n\u001b[0;32m----> 1\u001b[0;31m \u001b[0mtrain_max_epochs\u001b[0m\u001b[0;34m(\u001b[0m\u001b[0;36m6\u001b[0m\u001b[0;34m,\u001b[0m\u001b[0;36m1\u001b[0m\u001b[0;34m,\u001b[0m\u001b[0;36m0.9\u001b[0m\u001b[0;34m)\u001b[0m\u001b[0;34m\u001b[0m\u001b[0;34m\u001b[0m\u001b[0m\n\u001b[0m",
            "\u001b[0;32m<ipython-input-90-a3f56e2ff6ee>\u001b[0m in \u001b[0;36mtrain_max_epochs\u001b[0;34m(epoch_goal, lr, mom)\u001b[0m\n\u001b[1;32m      9\u001b[0m     \u001b[0mprint\u001b[0m\u001b[0;34m(\u001b[0m\u001b[0;34m\"Best training so far: \"\u001b[0m\u001b[0;34m,\u001b[0m \u001b[0mn_epochs_total\u001b[0m\u001b[0;34m)\u001b[0m\u001b[0;34m\u001b[0m\u001b[0;34m\u001b[0m\u001b[0m\n\u001b[1;32m     10\u001b[0m \u001b[0;34m\u001b[0m\u001b[0m\n\u001b[0;32m---> 11\u001b[0;31m     \u001b[0mlearn\u001b[0m\u001b[0;34m.\u001b[0m\u001b[0mfit_one_cycle\u001b[0m\u001b[0;34m(\u001b[0m\u001b[0mepoch_chunk\u001b[0m\u001b[0;34m,\u001b[0m\u001b[0mmax_lr\u001b[0m\u001b[0;34m=\u001b[0m\u001b[0mlr\u001b[0m\u001b[0;34m,\u001b[0m\u001b[0mmoms\u001b[0m\u001b[0;34m=\u001b[0m\u001b[0mmom\u001b[0m\u001b[0;34m)\u001b[0m\u001b[0;34m\u001b[0m\u001b[0;34m\u001b[0m\u001b[0m\n\u001b[0m\u001b[1;32m     12\u001b[0m     \u001b[0mn_epochs_total\u001b[0m \u001b[0;34m+=\u001b[0m \u001b[0mepoch_chunk\u001b[0m\u001b[0;34m\u001b[0m\u001b[0;34m\u001b[0m\u001b[0m\n\u001b[1;32m     13\u001b[0m \u001b[0;34m\u001b[0m\u001b[0m\n",
            "\u001b[0;32m/usr/local/lib/python3.6/dist-packages/fastai/train.py\u001b[0m in \u001b[0;36mfit_one_cycle\u001b[0;34m(learn, cyc_len, max_lr, moms, div_factor, pct_start, final_div, wd, callbacks, tot_epochs, start_epoch)\u001b[0m\n\u001b[1;32m     21\u001b[0m     callbacks.append(OneCycleScheduler(learn, max_lr, moms=moms, div_factor=div_factor, pct_start=pct_start,\n\u001b[1;32m     22\u001b[0m                                        final_div=final_div, tot_epochs=tot_epochs, start_epoch=start_epoch))\n\u001b[0;32m---> 23\u001b[0;31m     \u001b[0mlearn\u001b[0m\u001b[0;34m.\u001b[0m\u001b[0mfit\u001b[0m\u001b[0;34m(\u001b[0m\u001b[0mcyc_len\u001b[0m\u001b[0;34m,\u001b[0m \u001b[0mmax_lr\u001b[0m\u001b[0;34m,\u001b[0m \u001b[0mwd\u001b[0m\u001b[0;34m=\u001b[0m\u001b[0mwd\u001b[0m\u001b[0;34m,\u001b[0m \u001b[0mcallbacks\u001b[0m\u001b[0;34m=\u001b[0m\u001b[0mcallbacks\u001b[0m\u001b[0;34m)\u001b[0m\u001b[0;34m\u001b[0m\u001b[0;34m\u001b[0m\u001b[0m\n\u001b[0m\u001b[1;32m     24\u001b[0m \u001b[0;34m\u001b[0m\u001b[0m\n\u001b[1;32m     25\u001b[0m def fit_fc(learn:Learner, tot_epochs:int=1, lr:float=defaults.lr,  moms:Tuple[float,float]=(0.95,0.85), start_pct:float=0.72,\n",
            "\u001b[0;32m/usr/local/lib/python3.6/dist-packages/fastai/basic_train.py\u001b[0m in \u001b[0;36mfit\u001b[0;34m(self, epochs, lr, wd, callbacks)\u001b[0m\n\u001b[1;32m    198\u001b[0m         \u001b[0;32melse\u001b[0m\u001b[0;34m:\u001b[0m \u001b[0mself\u001b[0m\u001b[0;34m.\u001b[0m\u001b[0mopt\u001b[0m\u001b[0;34m.\u001b[0m\u001b[0mlr\u001b[0m\u001b[0;34m,\u001b[0m\u001b[0mself\u001b[0m\u001b[0;34m.\u001b[0m\u001b[0mopt\u001b[0m\u001b[0;34m.\u001b[0m\u001b[0mwd\u001b[0m \u001b[0;34m=\u001b[0m \u001b[0mlr\u001b[0m\u001b[0;34m,\u001b[0m\u001b[0mwd\u001b[0m\u001b[0;34m\u001b[0m\u001b[0;34m\u001b[0m\u001b[0m\n\u001b[1;32m    199\u001b[0m         \u001b[0mcallbacks\u001b[0m \u001b[0;34m=\u001b[0m \u001b[0;34m[\u001b[0m\u001b[0mcb\u001b[0m\u001b[0;34m(\u001b[0m\u001b[0mself\u001b[0m\u001b[0;34m)\u001b[0m \u001b[0;32mfor\u001b[0m \u001b[0mcb\u001b[0m \u001b[0;32min\u001b[0m \u001b[0mself\u001b[0m\u001b[0;34m.\u001b[0m\u001b[0mcallback_fns\u001b[0m \u001b[0;34m+\u001b[0m \u001b[0mlistify\u001b[0m\u001b[0;34m(\u001b[0m\u001b[0mdefaults\u001b[0m\u001b[0;34m.\u001b[0m\u001b[0mextra_callback_fns\u001b[0m\u001b[0;34m)\u001b[0m\u001b[0;34m]\u001b[0m \u001b[0;34m+\u001b[0m \u001b[0mlistify\u001b[0m\u001b[0;34m(\u001b[0m\u001b[0mcallbacks\u001b[0m\u001b[0;34m)\u001b[0m\u001b[0;34m\u001b[0m\u001b[0;34m\u001b[0m\u001b[0m\n\u001b[0;32m--> 200\u001b[0;31m         \u001b[0mfit\u001b[0m\u001b[0;34m(\u001b[0m\u001b[0mepochs\u001b[0m\u001b[0;34m,\u001b[0m \u001b[0mself\u001b[0m\u001b[0;34m,\u001b[0m \u001b[0mmetrics\u001b[0m\u001b[0;34m=\u001b[0m\u001b[0mself\u001b[0m\u001b[0;34m.\u001b[0m\u001b[0mmetrics\u001b[0m\u001b[0;34m,\u001b[0m \u001b[0mcallbacks\u001b[0m\u001b[0;34m=\u001b[0m\u001b[0mself\u001b[0m\u001b[0;34m.\u001b[0m\u001b[0mcallbacks\u001b[0m\u001b[0;34m+\u001b[0m\u001b[0mcallbacks\u001b[0m\u001b[0;34m)\u001b[0m\u001b[0;34m\u001b[0m\u001b[0;34m\u001b[0m\u001b[0m\n\u001b[0m\u001b[1;32m    201\u001b[0m \u001b[0;34m\u001b[0m\u001b[0m\n\u001b[1;32m    202\u001b[0m     \u001b[0;32mdef\u001b[0m \u001b[0mcreate_opt\u001b[0m\u001b[0;34m(\u001b[0m\u001b[0mself\u001b[0m\u001b[0;34m,\u001b[0m \u001b[0mlr\u001b[0m\u001b[0;34m:\u001b[0m\u001b[0mFloats\u001b[0m\u001b[0;34m,\u001b[0m \u001b[0mwd\u001b[0m\u001b[0;34m:\u001b[0m\u001b[0mFloats\u001b[0m\u001b[0;34m=\u001b[0m\u001b[0;36m0.\u001b[0m\u001b[0;34m)\u001b[0m\u001b[0;34m->\u001b[0m\u001b[0;32mNone\u001b[0m\u001b[0;34m:\u001b[0m\u001b[0;34m\u001b[0m\u001b[0;34m\u001b[0m\u001b[0m\n",
            "\u001b[0;32m/usr/local/lib/python3.6/dist-packages/fastai/basic_train.py\u001b[0m in \u001b[0;36mfit\u001b[0;34m(epochs, learn, callbacks, metrics)\u001b[0m\n\u001b[1;32m     99\u001b[0m             \u001b[0;32mfor\u001b[0m \u001b[0mxb\u001b[0m\u001b[0;34m,\u001b[0m\u001b[0myb\u001b[0m \u001b[0;32min\u001b[0m \u001b[0mprogress_bar\u001b[0m\u001b[0;34m(\u001b[0m\u001b[0mlearn\u001b[0m\u001b[0;34m.\u001b[0m\u001b[0mdata\u001b[0m\u001b[0;34m.\u001b[0m\u001b[0mtrain_dl\u001b[0m\u001b[0;34m,\u001b[0m \u001b[0mparent\u001b[0m\u001b[0;34m=\u001b[0m\u001b[0mpbar\u001b[0m\u001b[0;34m)\u001b[0m\u001b[0;34m:\u001b[0m\u001b[0;34m\u001b[0m\u001b[0;34m\u001b[0m\u001b[0m\n\u001b[1;32m    100\u001b[0m                 \u001b[0mxb\u001b[0m\u001b[0;34m,\u001b[0m \u001b[0myb\u001b[0m \u001b[0;34m=\u001b[0m \u001b[0mcb_handler\u001b[0m\u001b[0;34m.\u001b[0m\u001b[0mon_batch_begin\u001b[0m\u001b[0;34m(\u001b[0m\u001b[0mxb\u001b[0m\u001b[0;34m,\u001b[0m \u001b[0myb\u001b[0m\u001b[0;34m)\u001b[0m\u001b[0;34m\u001b[0m\u001b[0;34m\u001b[0m\u001b[0m\n\u001b[0;32m--> 101\u001b[0;31m                 \u001b[0mloss\u001b[0m \u001b[0;34m=\u001b[0m \u001b[0mloss_batch\u001b[0m\u001b[0;34m(\u001b[0m\u001b[0mlearn\u001b[0m\u001b[0;34m.\u001b[0m\u001b[0mmodel\u001b[0m\u001b[0;34m,\u001b[0m \u001b[0mxb\u001b[0m\u001b[0;34m,\u001b[0m \u001b[0myb\u001b[0m\u001b[0;34m,\u001b[0m \u001b[0mlearn\u001b[0m\u001b[0;34m.\u001b[0m\u001b[0mloss_func\u001b[0m\u001b[0;34m,\u001b[0m \u001b[0mlearn\u001b[0m\u001b[0;34m.\u001b[0m\u001b[0mopt\u001b[0m\u001b[0;34m,\u001b[0m \u001b[0mcb_handler\u001b[0m\u001b[0;34m)\u001b[0m\u001b[0;34m\u001b[0m\u001b[0;34m\u001b[0m\u001b[0m\n\u001b[0m\u001b[1;32m    102\u001b[0m                 \u001b[0;32mif\u001b[0m \u001b[0mcb_handler\u001b[0m\u001b[0;34m.\u001b[0m\u001b[0mon_batch_end\u001b[0m\u001b[0;34m(\u001b[0m\u001b[0mloss\u001b[0m\u001b[0;34m)\u001b[0m\u001b[0;34m:\u001b[0m \u001b[0;32mbreak\u001b[0m\u001b[0;34m\u001b[0m\u001b[0;34m\u001b[0m\u001b[0m\n\u001b[1;32m    103\u001b[0m \u001b[0;34m\u001b[0m\u001b[0m\n",
            "\u001b[0;32m/usr/local/lib/python3.6/dist-packages/fastai/basic_train.py\u001b[0m in \u001b[0;36mloss_batch\u001b[0;34m(model, xb, yb, loss_func, opt, cb_handler)\u001b[0m\n\u001b[1;32m     32\u001b[0m     \u001b[0;32mif\u001b[0m \u001b[0mopt\u001b[0m \u001b[0;32mis\u001b[0m \u001b[0;32mnot\u001b[0m \u001b[0;32mNone\u001b[0m\u001b[0;34m:\u001b[0m\u001b[0;34m\u001b[0m\u001b[0;34m\u001b[0m\u001b[0m\n\u001b[1;32m     33\u001b[0m         \u001b[0mloss\u001b[0m\u001b[0;34m,\u001b[0m\u001b[0mskip_bwd\u001b[0m \u001b[0;34m=\u001b[0m \u001b[0mcb_handler\u001b[0m\u001b[0;34m.\u001b[0m\u001b[0mon_backward_begin\u001b[0m\u001b[0;34m(\u001b[0m\u001b[0mloss\u001b[0m\u001b[0;34m)\u001b[0m\u001b[0;34m\u001b[0m\u001b[0;34m\u001b[0m\u001b[0m\n\u001b[0;32m---> 34\u001b[0;31m         \u001b[0;32mif\u001b[0m \u001b[0;32mnot\u001b[0m \u001b[0mskip_bwd\u001b[0m\u001b[0;34m:\u001b[0m                     \u001b[0mloss\u001b[0m\u001b[0;34m.\u001b[0m\u001b[0mbackward\u001b[0m\u001b[0;34m(\u001b[0m\u001b[0;34m)\u001b[0m\u001b[0;34m\u001b[0m\u001b[0;34m\u001b[0m\u001b[0m\n\u001b[0m\u001b[1;32m     35\u001b[0m         \u001b[0;32mif\u001b[0m \u001b[0;32mnot\u001b[0m \u001b[0mcb_handler\u001b[0m\u001b[0;34m.\u001b[0m\u001b[0mon_backward_end\u001b[0m\u001b[0;34m(\u001b[0m\u001b[0;34m)\u001b[0m\u001b[0;34m:\u001b[0m \u001b[0mopt\u001b[0m\u001b[0;34m.\u001b[0m\u001b[0mstep\u001b[0m\u001b[0;34m(\u001b[0m\u001b[0;34m)\u001b[0m\u001b[0;34m\u001b[0m\u001b[0;34m\u001b[0m\u001b[0m\n\u001b[1;32m     36\u001b[0m         \u001b[0;32mif\u001b[0m \u001b[0;32mnot\u001b[0m \u001b[0mcb_handler\u001b[0m\u001b[0;34m.\u001b[0m\u001b[0mon_step_end\u001b[0m\u001b[0;34m(\u001b[0m\u001b[0;34m)\u001b[0m\u001b[0;34m:\u001b[0m     \u001b[0mopt\u001b[0m\u001b[0;34m.\u001b[0m\u001b[0mzero_grad\u001b[0m\u001b[0;34m(\u001b[0m\u001b[0;34m)\u001b[0m\u001b[0;34m\u001b[0m\u001b[0;34m\u001b[0m\u001b[0m\n",
            "\u001b[0;32m/usr/local/lib/python3.6/dist-packages/torch/tensor.py\u001b[0m in \u001b[0;36mbackward\u001b[0;34m(self, gradient, retain_graph, create_graph)\u001b[0m\n\u001b[1;32m    219\u001b[0m                 \u001b[0mretain_graph\u001b[0m\u001b[0;34m=\u001b[0m\u001b[0mretain_graph\u001b[0m\u001b[0;34m,\u001b[0m\u001b[0;34m\u001b[0m\u001b[0;34m\u001b[0m\u001b[0m\n\u001b[1;32m    220\u001b[0m                 create_graph=create_graph)\n\u001b[0;32m--> 221\u001b[0;31m         \u001b[0mtorch\u001b[0m\u001b[0;34m.\u001b[0m\u001b[0mautograd\u001b[0m\u001b[0;34m.\u001b[0m\u001b[0mbackward\u001b[0m\u001b[0;34m(\u001b[0m\u001b[0mself\u001b[0m\u001b[0;34m,\u001b[0m \u001b[0mgradient\u001b[0m\u001b[0;34m,\u001b[0m \u001b[0mretain_graph\u001b[0m\u001b[0;34m,\u001b[0m \u001b[0mcreate_graph\u001b[0m\u001b[0;34m)\u001b[0m\u001b[0;34m\u001b[0m\u001b[0;34m\u001b[0m\u001b[0m\n\u001b[0m\u001b[1;32m    222\u001b[0m \u001b[0;34m\u001b[0m\u001b[0m\n\u001b[1;32m    223\u001b[0m     \u001b[0;32mdef\u001b[0m \u001b[0mregister_hook\u001b[0m\u001b[0;34m(\u001b[0m\u001b[0mself\u001b[0m\u001b[0;34m,\u001b[0m \u001b[0mhook\u001b[0m\u001b[0;34m)\u001b[0m\u001b[0;34m:\u001b[0m\u001b[0;34m\u001b[0m\u001b[0;34m\u001b[0m\u001b[0m\n",
            "\u001b[0;32m/usr/local/lib/python3.6/dist-packages/torch/autograd/__init__.py\u001b[0m in \u001b[0;36mbackward\u001b[0;34m(tensors, grad_tensors, retain_graph, create_graph, grad_variables)\u001b[0m\n\u001b[1;32m    130\u001b[0m     Variable._execution_engine.run_backward(\n\u001b[1;32m    131\u001b[0m         \u001b[0mtensors\u001b[0m\u001b[0;34m,\u001b[0m \u001b[0mgrad_tensors_\u001b[0m\u001b[0;34m,\u001b[0m \u001b[0mretain_graph\u001b[0m\u001b[0;34m,\u001b[0m \u001b[0mcreate_graph\u001b[0m\u001b[0;34m,\u001b[0m\u001b[0;34m\u001b[0m\u001b[0;34m\u001b[0m\u001b[0m\n\u001b[0;32m--> 132\u001b[0;31m         allow_unreachable=True)  # allow_unreachable flag\n\u001b[0m\u001b[1;32m    133\u001b[0m \u001b[0;34m\u001b[0m\u001b[0m\n\u001b[1;32m    134\u001b[0m \u001b[0;34m\u001b[0m\u001b[0m\n",
            "\u001b[0;31mKeyboardInterrupt\u001b[0m: "
          ]
        }
      ]
    },
    {
      "cell_type": "markdown",
      "metadata": {
        "id": "s2iP569WpeKc"
      },
      "source": [
        "# Interpretation"
      ]
    },
    {
      "cell_type": "code",
      "metadata": {
        "id": "tOXsaUPdpeKd"
      },
      "source": [
        "def show_confs(c_model):\r\n",
        "  dir = '/content/drive/MyDrive/ModelStages/'+c_model\r\n",
        "  epochs = !ls -l {dir}\r\n",
        "  epochs.reverse()\r\n",
        "  epochs.pop()\r\n",
        "\r\n",
        "  max_epoch_value = 0\r\n",
        "  for i in range(len(epochs)):\r\n",
        "    epochs[i] = epochs[i].rsplit(' ',1)[1]\r\n",
        "    epochs[i] = epochs[i].rsplit('.',1)[0]\r\n",
        "  print(epochs)\r\n",
        "\r\n",
        "  for epoch in epochs:\r\n",
        "    learn.load('/content/drive/MyDrive/ModelStages/'+c_model+'/'+epoch);\r\n",
        "    preds,y,losses = learn.get_preds(with_loss=True)\r\n",
        "    interp = ClassificationInterpretation(learn,preds,y,losses)\r\n",
        "    interp.plot_confusion_matrix(figsize=(7,7))"
      ],
      "execution_count": null,
      "outputs": []
    },
    {
      "cell_type": "code",
      "metadata": {
        "id": "ynclH65EOwUu"
      },
      "source": [
        "#show_confs(c_model)\r\n",
        "\r\n",
        "#learn.load('/content/drive/MyDrive/ModelStages/'+c_model+'/epochs-10');\r\n",
        "learn.load('/content/drive/MyDrive/ModelStages/'+'CONV2D-resnet18_error_rate_loss=default'+'/epochs-210');\r\n",
        "preds,y,losses = learn.get_preds(with_loss=True)\r\n",
        "interp = ClassificationInterpretation(learn,preds,y,losses)\r\n",
        "interp.plot_confusion_matrix(figsize=(7,7))"
      ],
      "execution_count": null,
      "outputs": []
    },
    {
      "cell_type": "markdown",
      "metadata": {
        "id": "edNsxJUdm5gj"
      },
      "source": [
        "#GridSearch testing area"
      ]
    },
    {
      "cell_type": "markdown",
      "metadata": {
        "id": "fdXDS-clMNXq"
      },
      "source": [
        "##Online grid search"
      ]
    },
    {
      "cell_type": "code",
      "metadata": {
        "colab": {
          "base_uri": "https://localhost:8080/"
        },
        "id": "VnOUBnSHm4Nt",
        "outputId": "f1c3f673-aa03-4cfa-bc80-aeb138575540"
      },
      "source": [
        "from sklearn.model_selection import GridSearchCV\r\n",
        "from torch import nn\r\n",
        "import numpy as np\r\n",
        "from sklearn.datasets import make_classification\r\n",
        "!pip install --user skorch\r\n",
        "from skorch import NeuralNetClassifier\r\n",
        "\r\n",
        "class MyModule(nn.Module):\r\n",
        "    def __init__(self, num_units=10, nonlin=nn.ReLU()):\r\n",
        "        super(MyModule, self).__init__()\r\n",
        "\r\n",
        "        self.dense0 = nn.Linear(20, num_units)\r\n",
        "        self.nonlin = nonlin\r\n",
        "        self.dropout = nn.Dropout(0.5)\r\n",
        "        self.dense1 = nn.Linear(num_units, num_units)\r\n",
        "        self.output = nn.Linear(num_units, 2)\r\n",
        "        self.softmax = nn.Softmax(dim=-1)\r\n",
        "\r\n",
        "    def forward(self, X, **kwargs):\r\n",
        "        X = self.nonlin(self.dense0(X))\r\n",
        "        X = self.dropout(X)\r\n",
        "        X = self.nonlin(self.dense1(X))\r\n",
        "        X = self.softmax(self.output(X))\r\n",
        "        return X\r\n",
        "\r\n",
        "\r\n",
        "net = NeuralNetClassifier(\r\n",
        "    MyModule,\r\n",
        "    max_epochs=10,\r\n",
        "    lr=0.1,\r\n",
        "    # Shuffle training data on each epoch\r\n",
        "    iterator_train__shuffle=True,\r\n",
        ")\r\n",
        "\r\n",
        "\r\n",
        "net.set_params(train_split=False, verbose=0)\r\n",
        "params = {\r\n",
        "    'lr': [0.01, 0.02],\r\n",
        "    'max_epochs': [10, 20],\r\n",
        "    'module__num_units': [10, 20],\r\n",
        "}\r\n",
        "\r\n",
        "\r\n",
        "X, y = make_classification(1000, 20, n_informative=10, random_state=0)\r\n",
        "X = X.astype(np.float32)\r\n",
        "y = y.astype(np.int64)\r\n",
        "\r\n",
        "gs = GridSearchCV(net, params, refit=False, cv=3, scoring='accuracy', verbose=2)\r\n",
        "gs.fit(X, y)\r\n",
        "print(\"best score: {:.3f}, best params: {}\".format(gs.best_score_, gs.best_params_))"
      ],
      "execution_count": null,
      "outputs": [
        {
          "output_type": "stream",
          "text": [
            "Requirement already satisfied: skorch in /root/.local/lib/python3.6/site-packages (0.9.0)\n",
            "Requirement already satisfied: tabulate>=0.7.7 in /usr/local/lib/python3.6/dist-packages (from skorch) (0.8.7)\n",
            "Requirement already satisfied: numpy>=1.13.3 in /usr/local/lib/python3.6/dist-packages (from skorch) (1.19.5)\n",
            "Requirement already satisfied: scipy>=1.1.0 in /usr/local/lib/python3.6/dist-packages (from skorch) (1.4.1)\n",
            "Requirement already satisfied: scikit-learn>=0.19.1 in /usr/local/lib/python3.6/dist-packages (from skorch) (0.22.2.post1)\n",
            "Requirement already satisfied: tqdm>=4.14.0 in /usr/local/lib/python3.6/dist-packages (from skorch) (4.41.1)\n",
            "Requirement already satisfied: joblib>=0.11 in /usr/local/lib/python3.6/dist-packages (from scikit-learn>=0.19.1->skorch) (1.0.0)\n",
            "Fitting 3 folds for each of 8 candidates, totalling 24 fits\n",
            "[CV] lr=0.01, max_epochs=10, module__num_units=10 ....................\n"
          ],
          "name": "stdout"
        },
        {
          "output_type": "stream",
          "text": [
            "[Parallel(n_jobs=1)]: Using backend SequentialBackend with 1 concurrent workers.\n"
          ],
          "name": "stderr"
        },
        {
          "output_type": "stream",
          "text": [
            "[CV] ..... lr=0.01, max_epochs=10, module__num_units=10, total=   0.3s\n",
            "[CV] lr=0.01, max_epochs=10, module__num_units=10 ....................\n",
            "[CV] ..... lr=0.01, max_epochs=10, module__num_units=10, total=   0.2s\n",
            "[CV] lr=0.01, max_epochs=10, module__num_units=10 ....................\n"
          ],
          "name": "stdout"
        },
        {
          "output_type": "stream",
          "text": [
            "[Parallel(n_jobs=1)]: Done   1 out of   1 | elapsed:    0.4s remaining:    0.0s\n"
          ],
          "name": "stderr"
        },
        {
          "output_type": "stream",
          "text": [
            "[CV] ..... lr=0.01, max_epochs=10, module__num_units=10, total=   0.2s\n",
            "[CV] lr=0.01, max_epochs=10, module__num_units=20 ....................\n",
            "[CV] ..... lr=0.01, max_epochs=10, module__num_units=20, total=   0.2s\n",
            "[CV] lr=0.01, max_epochs=10, module__num_units=20 ....................\n",
            "[CV] ..... lr=0.01, max_epochs=10, module__num_units=20, total=   0.2s\n",
            "[CV] lr=0.01, max_epochs=10, module__num_units=20 ....................\n",
            "[CV] ..... lr=0.01, max_epochs=10, module__num_units=20, total=   0.2s\n",
            "[CV] lr=0.01, max_epochs=20, module__num_units=10 ....................\n",
            "[CV] ..... lr=0.01, max_epochs=20, module__num_units=10, total=   0.3s\n",
            "[CV] lr=0.01, max_epochs=20, module__num_units=10 ....................\n",
            "[CV] ..... lr=0.01, max_epochs=20, module__num_units=10, total=   0.3s\n",
            "[CV] lr=0.01, max_epochs=20, module__num_units=10 ....................\n",
            "[CV] ..... lr=0.01, max_epochs=20, module__num_units=10, total=   0.3s\n",
            "[CV] lr=0.01, max_epochs=20, module__num_units=20 ....................\n",
            "[CV] ..... lr=0.01, max_epochs=20, module__num_units=20, total=   0.3s\n",
            "[CV] lr=0.01, max_epochs=20, module__num_units=20 ....................\n",
            "[CV] ..... lr=0.01, max_epochs=20, module__num_units=20, total=   0.3s\n",
            "[CV] lr=0.01, max_epochs=20, module__num_units=20 ....................\n",
            "[CV] ..... lr=0.01, max_epochs=20, module__num_units=20, total=   0.3s\n",
            "[CV] lr=0.02, max_epochs=10, module__num_units=10 ....................\n",
            "[CV] ..... lr=0.02, max_epochs=10, module__num_units=10, total=   0.1s\n",
            "[CV] lr=0.02, max_epochs=10, module__num_units=10 ....................\n",
            "[CV] ..... lr=0.02, max_epochs=10, module__num_units=10, total=   0.2s\n",
            "[CV] lr=0.02, max_epochs=10, module__num_units=10 ....................\n",
            "[CV] ..... lr=0.02, max_epochs=10, module__num_units=10, total=   0.1s\n",
            "[CV] lr=0.02, max_epochs=10, module__num_units=20 ....................\n",
            "[CV] ..... lr=0.02, max_epochs=10, module__num_units=20, total=   0.1s\n",
            "[CV] lr=0.02, max_epochs=10, module__num_units=20 ....................\n",
            "[CV] ..... lr=0.02, max_epochs=10, module__num_units=20, total=   0.1s\n",
            "[CV] lr=0.02, max_epochs=10, module__num_units=20 ....................\n",
            "[CV] ..... lr=0.02, max_epochs=10, module__num_units=20, total=   0.2s\n",
            "[CV] lr=0.02, max_epochs=20, module__num_units=10 ....................\n",
            "[CV] ..... lr=0.02, max_epochs=20, module__num_units=10, total=   0.3s\n",
            "[CV] lr=0.02, max_epochs=20, module__num_units=10 ....................\n",
            "[CV] ..... lr=0.02, max_epochs=20, module__num_units=10, total=   0.3s\n",
            "[CV] lr=0.02, max_epochs=20, module__num_units=10 ....................\n",
            "[CV] ..... lr=0.02, max_epochs=20, module__num_units=10, total=   0.3s\n",
            "[CV] lr=0.02, max_epochs=20, module__num_units=20 ....................\n",
            "[CV] ..... lr=0.02, max_epochs=20, module__num_units=20, total=   0.3s\n",
            "[CV] lr=0.02, max_epochs=20, module__num_units=20 ....................\n",
            "[CV] ..... lr=0.02, max_epochs=20, module__num_units=20, total=   0.3s\n",
            "[CV] lr=0.02, max_epochs=20, module__num_units=20 ....................\n",
            "[CV] ..... lr=0.02, max_epochs=20, module__num_units=20, total=   0.3s\n",
            "best score: 0.668, best params: {'lr': 0.02, 'max_epochs': 10, 'module__num_units': 20}\n"
          ],
          "name": "stdout"
        },
        {
          "output_type": "stream",
          "text": [
            "[Parallel(n_jobs=1)]: Done  24 out of  24 | elapsed:    5.8s finished\n"
          ],
          "name": "stderr"
        }
      ]
    },
    {
      "cell_type": "markdown",
      "metadata": {
        "id": "YRFtaJpnL-vu"
      },
      "source": [
        "##Our own grid search algorithm"
      ]
    },
    {
      "cell_type": "code",
      "metadata": {
        "id": "pvxIGCtFU-lO"
      },
      "source": [
        "def train_with_parameters(batch_size, opt, mom, lr):\r\n",
        "  folder = 'raw_data_transfering_100_'\r\n",
        "  d_type = d_type_opt[0]\r\n",
        "\r\n",
        "  create_learner(folder,d_type, batch_size=batch_size, binning=False,bin_size=2, skip_amount=0, opt=opt)\r\n",
        "  training_losses,validation_losses = train_max_epochs(1,lr,mom)\r\n",
        "  return training_losses,validation_losses"
      ],
      "execution_count": null,
      "outputs": []
    },
    {
      "cell_type": "code",
      "metadata": {
        "colab": {
          "base_uri": "https://localhost:8080/",
          "height": 1000
        },
        "id": "hWk2jSmKME5N",
        "outputId": "b50cc960-f4ed-4737-cd3c-722b5fb10e06"
      },
      "source": [
        "parameter_lims = {}\r\n",
        "parameter_lims['bs']  = [20,30,40]\r\n",
        "parameter_lims['opt'] = [optim.SGD]\r\n",
        "parameter_lims['mom'] = [0,0.5,0.9]\r\n",
        "lr = 0.01\r\n",
        "\r\n",
        "for bs_val in parameter_lims['bs']:\r\n",
        "  for opt_val in parameter_lims['opt']:\r\n",
        "    for mom_val in parameter_lims['mom']:\r\n",
        "      train_losses,valid_losses = train_with_parameters(bs_val, opt_val, mom_val, lr)\r\n",
        "      print(\"train_loss=\", train_losses)\r\n",
        "      print(\"valid_loss=\", valid_losses)"
      ],
      "execution_count": null,
      "outputs": [
        {
          "output_type": "stream",
          "text": [
            "Found pre-loaded data raw_data_transfering_100_training\n",
            "data:  1116\n",
            "labels:  17   [0, 0, 0, 0, 0, 0, 0, 0, 0, 0, 0, 0, 0, 0, 0, 0, 0, 0, 0, 0, 0, 0, 0, 0, 0, 0, 0, 0, 0, 0, 0, 0, 0, 0, 0, 0, 0, 0, 0, 0, 0, 0, 0, 0, 0, 0, 0, 0, 0, 0, 0, 0, 0, 0, 0, 0, 0, 0, 0, 0, 1, 1, 1, 1, 1, 1, 1, 1, 1, 1, 1, 1, 1, 1, 1, 1, 1, 1, 1, 1, 1, 1, 1, 1, 1, 1, 1, 1, 1, 1, 1, 1, 1, 1, 1, 1, 1, 1, 1, 1, 1, 1, 1, 1, 1, 1, 1, 1, 1, 1, 1, 1, 1, 1, 1, 1, 1, 1, 1, 1, 1, 1, 1, 1, 1, 1, 2, 2, 2, 2, 2, 2, 2, 2, 2, 2, 2, 2, 2, 2, 2, 2, 2, 2, 2, 2, 2, 2, 2, 2, 2, 2, 2, 2, 2, 2, 2, 2, 2, 2, 2, 2, 2, 2, 2, 2, 2, 2, 2, 2, 2, 2, 2, 2, 2, 2, 2, 2, 2, 2, 2, 2, 2, 2, 2, 2, 2, 2, 2, 2, 2, 2, 2, 3, 3, 3, 3, 3, 3, 3, 3, 3, 3, 3, 3, 3, 3, 3, 3, 3, 3, 3, 3, 3, 3, 3, 3, 3, 3, 3, 3, 3, 3, 3, 3, 3, 3, 3, 3, 3, 3, 3, 3, 3, 3, 3, 3, 3, 3, 3, 3, 3, 3, 3, 3, 3, 3, 3, 3, 3, 3, 3, 3, 3, 3, 3, 3, 3, 3, 3, 3, 3, 3, 3, 4, 4, 4, 4, 4, 4, 4, 4, 4, 4, 4, 4, 4, 4, 4, 4, 4, 4, 4, 4, 4, 4, 4, 4, 4, 4, 4, 4, 4, 4, 4, 4, 4, 4, 4, 4, 4, 4, 4, 4, 4, 4, 4, 4, 4, 4, 4, 4, 4, 4, 4, 4, 4, 4, 4, 4, 4, 4, 4, 4, 4, 4, 4, 4, 4, 4, 4, 4, 4, 5, 5, 5, 5, 5, 5, 5, 5, 5, 5, 5, 5, 5, 5, 5, 5, 5, 5, 5, 5, 5, 5, 5, 5, 5, 5, 5, 5, 5, 5, 5, 5, 5, 5, 5, 5, 5, 5, 5, 5, 5, 5, 5, 5, 5, 5, 5, 5, 5, 5, 5, 5, 5, 5, 5, 5, 5, 5, 5, 5, 5, 5, 5, 5, 5, 5, 5, 5, 5, 5, 5, 6, 6, 6, 6, 6, 6, 6, 6, 6, 6, 6, 6, 6, 6, 6, 6, 6, 6, 6, 6, 6, 6, 6, 6, 6, 6, 6, 6, 6, 6, 6, 6, 6, 6, 6, 6, 6, 6, 6, 6, 6, 6, 6, 6, 6, 6, 6, 6, 6, 6, 6, 6, 6, 6, 6, 6, 6, 6, 6, 6, 6, 6, 6, 6, 6, 6, 6, 7, 7, 7, 7, 7, 7, 7, 7, 7, 7, 7, 7, 7, 7, 7, 7, 7, 7, 7, 7, 7, 7, 7, 7, 7, 7, 7, 7, 7, 7, 7, 7, 7, 7, 7, 7, 7, 7, 7, 7, 7, 7, 7, 7, 7, 7, 7, 7, 7, 7, 7, 7, 7, 7, 7, 7, 7, 8, 8, 8, 8, 8, 8, 8, 8, 8, 8, 8, 8, 8, 8, 8, 8, 8, 8, 8, 8, 8, 8, 8, 8, 8, 8, 8, 8, 8, 8, 8, 8, 8, 8, 8, 8, 8, 8, 8, 8, 8, 8, 8, 8, 8, 8, 8, 8, 8, 8, 8, 8, 8, 8, 8, 8, 8, 8, 8, 8, 8, 8, 8, 9, 9, 9, 9, 9, 9, 9, 9, 9, 9, 9, 9, 9, 9, 9, 9, 9, 9, 9, 9, 9, 9, 9, 9, 9, 9, 9, 9, 9, 9, 9, 9, 9, 9, 9, 9, 9, 9, 9, 9, 9, 9, 9, 9, 9, 9, 9, 9, 9, 9, 9, 9, 9, 9, 9, 9, 9, 9, 10, 10, 10, 10, 10, 10, 10, 10, 10, 10, 10, 10, 10, 10, 10, 10, 10, 10, 10, 10, 10, 10, 10, 10, 10, 10, 10, 10, 10, 10, 10, 10, 10, 10, 10, 10, 10, 10, 10, 10, 10, 10, 10, 10, 10, 10, 10, 10, 10, 10, 10, 10, 10, 10, 10, 10, 10, 10, 10, 10, 10, 10, 10, 10, 10, 10, 10, 10, 10, 11, 11, 11, 11, 11, 11, 11, 11, 11, 11, 11, 11, 11, 11, 11, 11, 11, 11, 11, 11, 11, 11, 11, 11, 11, 11, 11, 11, 11, 11, 11, 11, 11, 11, 11, 11, 11, 11, 11, 11, 11, 11, 11, 11, 11, 11, 11, 11, 11, 11, 11, 11, 11, 11, 11, 11, 11, 11, 11, 11, 11, 11, 11, 11, 12, 12, 12, 12, 12, 12, 12, 12, 12, 12, 12, 12, 12, 12, 12, 12, 12, 12, 12, 12, 12, 12, 12, 12, 12, 12, 12, 12, 12, 12, 12, 12, 12, 12, 12, 12, 12, 12, 12, 12, 12, 12, 12, 12, 12, 12, 12, 12, 12, 12, 12, 12, 12, 12, 12, 12, 12, 12, 12, 12, 12, 12, 12, 12, 12, 12, 12, 12, 12, 12, 12, 13, 13, 13, 13, 13, 13, 13, 13, 13, 13, 13, 13, 13, 13, 13, 13, 13, 13, 13, 13, 13, 13, 13, 13, 13, 13, 13, 13, 13, 13, 13, 13, 13, 13, 13, 13, 13, 13, 13, 13, 13, 13, 13, 13, 13, 13, 13, 13, 13, 13, 13, 13, 13, 13, 13, 13, 13, 13, 13, 14, 14, 14, 14, 14, 14, 14, 14, 14, 14, 14, 14, 14, 14, 14, 14, 14, 14, 14, 14, 14, 14, 14, 14, 14, 14, 14, 14, 14, 14, 14, 14, 14, 14, 14, 14, 14, 14, 14, 14, 14, 14, 14, 14, 14, 14, 14, 14, 14, 14, 14, 14, 14, 14, 14, 14, 14, 14, 14, 14, 14, 14, 14, 14, 14, 14, 15, 15, 15, 15, 15, 15, 15, 15, 15, 15, 15, 15, 15, 15, 15, 15, 15, 15, 15, 15, 15, 15, 15, 15, 15, 15, 15, 15, 15, 15, 15, 15, 15, 15, 15, 15, 15, 15, 15, 15, 15, 15, 15, 15, 15, 15, 15, 15, 15, 15, 15, 15, 15, 15, 15, 15, 15, 15, 15, 15, 15, 15, 15, 15, 15, 15, 16, 16, 16, 16, 16, 16, 16, 16, 16, 16, 16, 16, 16, 16, 16, 16, 16, 16, 16, 16, 16, 16, 16, 16, 16, 16, 16, 16, 16, 16, 16, 16, 16, 16, 16, 16, 16, 16, 16, 16, 16, 16, 16, 16, 16, 16, 16, 16, 16, 16, 16, 16, 16, 16, 16, 16, 16, 16, 16, 16, 16, 16, 16, 16, 16, 16, 16, 16, 16, 16, 16, 16]\n",
            "data:  411\n",
            "labels:  17   [0, 0, 0, 0, 0, 0, 0, 0, 0, 0, 0, 0, 0, 0, 0, 0, 0, 0, 0, 0, 0, 0, 0, 0, 0, 0, 0, 0, 1, 1, 1, 1, 1, 1, 1, 1, 1, 1, 1, 1, 1, 1, 1, 1, 1, 1, 1, 1, 1, 1, 1, 1, 1, 1, 1, 2, 2, 2, 2, 2, 2, 2, 2, 2, 2, 2, 2, 2, 2, 2, 2, 2, 2, 2, 2, 2, 2, 3, 3, 3, 3, 3, 3, 3, 3, 3, 3, 3, 3, 3, 3, 3, 3, 3, 3, 4, 4, 4, 4, 4, 4, 4, 4, 4, 4, 4, 4, 4, 4, 4, 4, 4, 4, 4, 4, 4, 4, 4, 4, 5, 5, 5, 5, 5, 5, 5, 5, 5, 5, 5, 5, 5, 5, 5, 5, 5, 5, 5, 5, 6, 6, 6, 6, 6, 6, 6, 6, 6, 6, 6, 6, 6, 6, 6, 6, 6, 6, 6, 6, 6, 7, 7, 7, 7, 7, 7, 7, 7, 7, 7, 7, 7, 7, 7, 7, 7, 7, 7, 7, 7, 7, 7, 7, 7, 7, 7, 7, 7, 7, 8, 8, 8, 8, 8, 8, 8, 8, 8, 8, 8, 8, 8, 8, 8, 8, 8, 8, 8, 8, 8, 8, 8, 8, 8, 9, 9, 9, 9, 9, 9, 9, 9, 9, 9, 9, 9, 9, 9, 9, 9, 9, 9, 9, 9, 9, 9, 9, 9, 9, 9, 9, 9, 9, 9, 9, 10, 10, 10, 10, 10, 10, 10, 10, 10, 10, 10, 10, 10, 10, 10, 10, 10, 10, 10, 10, 10, 10, 11, 11, 11, 11, 11, 11, 11, 11, 11, 11, 11, 11, 11, 11, 11, 11, 11, 11, 11, 11, 11, 11, 11, 11, 11, 11, 11, 11, 11, 12, 12, 12, 12, 12, 12, 12, 12, 12, 12, 12, 12, 12, 12, 12, 12, 12, 12, 12, 12, 13, 13, 13, 13, 13, 13, 13, 13, 13, 13, 13, 13, 13, 13, 13, 13, 13, 13, 13, 13, 13, 13, 13, 13, 13, 13, 13, 13, 13, 13, 13, 13, 14, 14, 14, 14, 14, 14, 14, 14, 14, 14, 14, 14, 14, 14, 14, 14, 14, 14, 14, 14, 15, 15, 15, 15, 15, 15, 15, 15, 15, 15, 15, 15, 15, 15, 15, 15, 15, 15, 15, 15, 15, 15, 15, 15, 16, 16, 16, 16, 16, 16, 16, 16, 16, 16, 16, 16, 16, 16, 16, 16, 16, 16, 16]\n",
            "data:  173\n",
            "labels:  17   [0, 0, 0, 0, 0, 0, 0, 0, 0, 0, 0, 0, 1, 1, 1, 1, 1, 1, 1, 2, 2, 2, 2, 2, 2, 2, 2, 2, 2, 2, 3, 3, 3, 3, 3, 3, 3, 3, 3, 3, 3, 4, 4, 4, 4, 4, 4, 4, 5, 5, 5, 5, 5, 5, 5, 5, 5, 6, 6, 6, 6, 6, 6, 6, 6, 6, 6, 6, 6, 7, 7, 7, 7, 7, 7, 7, 7, 7, 7, 7, 7, 7, 7, 8, 8, 8, 8, 8, 8, 8, 8, 8, 8, 8, 8, 9, 9, 9, 9, 9, 9, 9, 9, 9, 9, 9, 10, 10, 10, 10, 10, 10, 10, 10, 10, 11, 11, 11, 11, 11, 11, 11, 12, 12, 12, 12, 12, 12, 12, 12, 12, 13, 13, 13, 13, 13, 13, 13, 13, 13, 14, 14, 14, 14, 14, 14, 14, 14, 14, 14, 14, 14, 14, 14, 15, 15, 15, 15, 15, 15, 15, 15, 15, 15, 16, 16, 16, 16, 16, 16, 16, 16, 16]\n"
          ],
          "name": "stdout"
        },
        {
          "output_type": "display_data",
          "data": {
            "text/html": [
              "\n",
              "    <div>\n",
              "        <style>\n",
              "            /* Turns off some styling */\n",
              "            progress {\n",
              "                /* gets rid of default border in Firefox and Opera. */\n",
              "                border: none;\n",
              "                /* Needs to be in here for Safari polyfill so background images work as expected. */\n",
              "                background-size: auto;\n",
              "            }\n",
              "            .progress-bar-interrupted, .progress-bar-interrupted::-webkit-progress-bar {\n",
              "                background: #F44336;\n",
              "            }\n",
              "        </style>\n",
              "      <progress value='2' class='' max='3' style='width:300px; height:20px; vertical-align: middle;'></progress>\n",
              "      66.67% [2/3 00:38<00:19]\n",
              "    </div>\n",
              "    \n",
              "<table border=\"1\" class=\"dataframe\">\n",
              "  <thead>\n",
              "    <tr style=\"text-align: left;\">\n",
              "      <th>epoch</th>\n",
              "      <th>train_loss</th>\n",
              "      <th>valid_loss</th>\n",
              "      <th>error_rate</th>\n",
              "      <th>accuracy</th>\n",
              "      <th>time</th>\n",
              "    </tr>\n",
              "  </thead>\n",
              "  <tbody>\n",
              "    <tr>\n",
              "      <td>0</td>\n",
              "      <td>3.150861</td>\n",
              "      <td>#na#</td>\n",
              "      <td>00:20</td>\n",
              "    </tr>\n",
              "    <tr>\n",
              "      <td>1</td>\n",
              "      <td>3.152089</td>\n",
              "      <td>#na#</td>\n",
              "      <td>00:17</td>\n",
              "    </tr>\n",
              "  </tbody>\n",
              "</table><p>\n",
              "\n",
              "    <div>\n",
              "        <style>\n",
              "            /* Turns off some styling */\n",
              "            progress {\n",
              "                /* gets rid of default border in Firefox and Opera. */\n",
              "                border: none;\n",
              "                /* Needs to be in here for Safari polyfill so background images work as expected. */\n",
              "                background-size: auto;\n",
              "            }\n",
              "            .progress-bar-interrupted, .progress-bar-interrupted::-webkit-progress-bar {\n",
              "                background: #F44336;\n",
              "            }\n",
              "        </style>\n",
              "      <progress value='11' class='' max='44' style='width:300px; height:20px; vertical-align: middle;'></progress>\n",
              "      25.00% [11/44 00:04<00:13 3.1496]\n",
              "    </div>\n",
              "    "
            ],
            "text/plain": [
              "<IPython.core.display.HTML object>"
            ]
          },
          "metadata": {
            "tags": []
          }
        },
        {
          "output_type": "stream",
          "text": [
            "LR Finder is complete, type {learner_name}.recorder.plot() to see the graph.\n",
            "mkdir: cannot create directory ‘/content/drive/MyDrive/ModelStages/CONV2D-resnet18-metric=error_rate-loss=CrossEntropyLoss-opt=SGD-bs=25-ntrain=1116’: File exists\n"
          ],
          "name": "stdout"
        },
        {
          "output_type": "error",
          "ename": "ValueError",
          "evalue": "ignored",
          "traceback": [
            "\u001b[0;31m---------------------------------------------------------------------------\u001b[0m",
            "\u001b[0;31mValueError\u001b[0m                                Traceback (most recent call last)",
            "\u001b[0;32m<ipython-input-172-b2f47cc82d09>\u001b[0m in \u001b[0;36m<module>\u001b[0;34m()\u001b[0m\n\u001b[1;32m      8\u001b[0m   \u001b[0;32mfor\u001b[0m \u001b[0mopt_val\u001b[0m \u001b[0;32min\u001b[0m \u001b[0mparameter_lims\u001b[0m\u001b[0;34m[\u001b[0m\u001b[0;34m'opt'\u001b[0m\u001b[0;34m]\u001b[0m\u001b[0;34m:\u001b[0m\u001b[0;34m\u001b[0m\u001b[0;34m\u001b[0m\u001b[0m\n\u001b[1;32m      9\u001b[0m     \u001b[0;32mfor\u001b[0m \u001b[0mmom_val\u001b[0m \u001b[0;32min\u001b[0m \u001b[0mparameter_lims\u001b[0m\u001b[0;34m[\u001b[0m\u001b[0;34m'mom'\u001b[0m\u001b[0;34m]\u001b[0m\u001b[0;34m:\u001b[0m\u001b[0;34m\u001b[0m\u001b[0;34m\u001b[0m\u001b[0m\n\u001b[0;32m---> 10\u001b[0;31m       \u001b[0mtrain_losses\u001b[0m\u001b[0;34m,\u001b[0m\u001b[0mvalid_losses\u001b[0m \u001b[0;34m=\u001b[0m \u001b[0mtrain_with_parameters\u001b[0m\u001b[0;34m(\u001b[0m\u001b[0mbs_val\u001b[0m\u001b[0;34m,\u001b[0m \u001b[0mopt_val\u001b[0m\u001b[0;34m,\u001b[0m \u001b[0mmom_val\u001b[0m\u001b[0;34m,\u001b[0m \u001b[0mlr\u001b[0m\u001b[0;34m)\u001b[0m\u001b[0;34m\u001b[0m\u001b[0;34m\u001b[0m\u001b[0m\n\u001b[0m\u001b[1;32m     11\u001b[0m       \u001b[0mprint\u001b[0m\u001b[0;34m(\u001b[0m\u001b[0;34m\"train_loss=\"\u001b[0m\u001b[0;34m,\u001b[0m \u001b[0mtrain_losses\u001b[0m\u001b[0;34m)\u001b[0m\u001b[0;34m\u001b[0m\u001b[0;34m\u001b[0m\u001b[0m\n\u001b[1;32m     12\u001b[0m       \u001b[0mprint\u001b[0m\u001b[0;34m(\u001b[0m\u001b[0;34m\"valid_loss=\"\u001b[0m\u001b[0;34m,\u001b[0m \u001b[0mvalid_losses\u001b[0m\u001b[0;34m)\u001b[0m\u001b[0;34m\u001b[0m\u001b[0;34m\u001b[0m\u001b[0m\n",
            "\u001b[0;32m<ipython-input-169-c3f195ccbbf9>\u001b[0m in \u001b[0;36mtrain_with_parameters\u001b[0;34m(batch_size, opt, mom, lr)\u001b[0m\n\u001b[1;32m      4\u001b[0m \u001b[0;34m\u001b[0m\u001b[0m\n\u001b[1;32m      5\u001b[0m   \u001b[0mcreate_learner\u001b[0m\u001b[0;34m(\u001b[0m\u001b[0mfolder\u001b[0m\u001b[0;34m,\u001b[0m\u001b[0md_type\u001b[0m\u001b[0;34m,\u001b[0m \u001b[0mbatch_size\u001b[0m\u001b[0;34m=\u001b[0m\u001b[0mbatch_size\u001b[0m\u001b[0;34m,\u001b[0m \u001b[0mbinning\u001b[0m\u001b[0;34m=\u001b[0m\u001b[0;32mFalse\u001b[0m\u001b[0;34m,\u001b[0m\u001b[0mbin_size\u001b[0m\u001b[0;34m=\u001b[0m\u001b[0;36m2\u001b[0m\u001b[0;34m,\u001b[0m \u001b[0mskip_amount\u001b[0m\u001b[0;34m=\u001b[0m\u001b[0;36m0\u001b[0m\u001b[0;34m,\u001b[0m \u001b[0mopt\u001b[0m\u001b[0;34m=\u001b[0m\u001b[0mopt\u001b[0m\u001b[0;34m)\u001b[0m\u001b[0;34m\u001b[0m\u001b[0;34m\u001b[0m\u001b[0m\n\u001b[0;32m----> 6\u001b[0;31m   \u001b[0mtraining_losses\u001b[0m\u001b[0;34m,\u001b[0m\u001b[0mvalidation_losses\u001b[0m \u001b[0;34m=\u001b[0m \u001b[0mtrain_max_epochs\u001b[0m\u001b[0;34m(\u001b[0m\u001b[0;36m1\u001b[0m\u001b[0;34m,\u001b[0m\u001b[0mlr\u001b[0m\u001b[0;34m,\u001b[0m\u001b[0mmom\u001b[0m\u001b[0;34m)\u001b[0m\u001b[0;34m\u001b[0m\u001b[0;34m\u001b[0m\u001b[0m\n\u001b[0m\u001b[1;32m      7\u001b[0m   \u001b[0;32mreturn\u001b[0m \u001b[0mtraining_losses\u001b[0m\u001b[0;34m,\u001b[0m\u001b[0mvalidation_losses\u001b[0m\u001b[0;34m\u001b[0m\u001b[0;34m\u001b[0m\u001b[0m\n",
            "\u001b[0;32m<ipython-input-159-ef23dcde3d1f>\u001b[0m in \u001b[0;36mtrain_max_epochs\u001b[0;34m(epoch_goal, lr, mom)\u001b[0m\n\u001b[1;32m      6\u001b[0m   \u001b[0mn_batches\u001b[0m \u001b[0;34m=\u001b[0m \u001b[0mlen\u001b[0m\u001b[0;34m(\u001b[0m\u001b[0mlearn\u001b[0m\u001b[0;34m.\u001b[0m\u001b[0mrecorder\u001b[0m\u001b[0;34m.\u001b[0m\u001b[0mtrain_dl\u001b[0m\u001b[0;34m)\u001b[0m\u001b[0;34m\u001b[0m\u001b[0;34m\u001b[0m\u001b[0m\n\u001b[1;32m      7\u001b[0m   \u001b[0;32mwhile\u001b[0m \u001b[0mn_epochs_total\u001b[0m \u001b[0;34m<\u001b[0m \u001b[0mepoch_goal\u001b[0m\u001b[0;34m:\u001b[0m\u001b[0;34m\u001b[0m\u001b[0;34m\u001b[0m\u001b[0m\n\u001b[0;32m----> 8\u001b[0;31m     \u001b[0mn_epochs_total\u001b[0m \u001b[0;34m=\u001b[0m \u001b[0mload_latest_training\u001b[0m\u001b[0;34m(\u001b[0m\u001b[0mlearn\u001b[0m\u001b[0;34m,\u001b[0m \u001b[0mc_model\u001b[0m\u001b[0;34m)\u001b[0m\u001b[0;34m\u001b[0m\u001b[0;34m\u001b[0m\u001b[0m\n\u001b[0m\u001b[1;32m      9\u001b[0m     \u001b[0mprint\u001b[0m\u001b[0;34m(\u001b[0m\u001b[0;34m\"Best training so far: \"\u001b[0m\u001b[0;34m,\u001b[0m \u001b[0mn_epochs_total\u001b[0m\u001b[0;34m)\u001b[0m\u001b[0;34m\u001b[0m\u001b[0;34m\u001b[0m\u001b[0m\n\u001b[1;32m     10\u001b[0m \u001b[0;34m\u001b[0m\u001b[0m\n",
            "\u001b[0;32m<ipython-input-171-4decc79e2269>\u001b[0m in \u001b[0;36mload_latest_training\u001b[0;34m(learn, c_model)\u001b[0m\n\u001b[1;32m      8\u001b[0m   \u001b[0;32mfor\u001b[0m \u001b[0mi\u001b[0m \u001b[0;32min\u001b[0m \u001b[0mrange\u001b[0m\u001b[0;34m(\u001b[0m\u001b[0mlen\u001b[0m\u001b[0;34m(\u001b[0m\u001b[0mtraining_files\u001b[0m\u001b[0;34m)\u001b[0m\u001b[0;34m)\u001b[0m\u001b[0;34m:\u001b[0m\u001b[0;34m\u001b[0m\u001b[0;34m\u001b[0m\u001b[0m\n\u001b[1;32m      9\u001b[0m     \u001b[0mtraining_files\u001b[0m\u001b[0;34m[\u001b[0m\u001b[0mi\u001b[0m\u001b[0;34m]\u001b[0m \u001b[0;34m=\u001b[0m \u001b[0mtraining_files\u001b[0m\u001b[0;34m[\u001b[0m\u001b[0mi\u001b[0m\u001b[0;34m]\u001b[0m\u001b[0;34m.\u001b[0m\u001b[0mrsplit\u001b[0m\u001b[0;34m(\u001b[0m\u001b[0;34m' '\u001b[0m\u001b[0;34m,\u001b[0m\u001b[0;36m1\u001b[0m\u001b[0;34m)\u001b[0m\u001b[0;34m[\u001b[0m\u001b[0;36m1\u001b[0m\u001b[0;34m]\u001b[0m\u001b[0;34m\u001b[0m\u001b[0;34m\u001b[0m\u001b[0m\n\u001b[0;32m---> 10\u001b[0;31m     \u001b[0;32mif\u001b[0m \u001b[0mint\u001b[0m\u001b[0;34m(\u001b[0m\u001b[0mtraining_files\u001b[0m\u001b[0;34m[\u001b[0m\u001b[0mi\u001b[0m\u001b[0;34m]\u001b[0m\u001b[0;34m.\u001b[0m\u001b[0mrsplit\u001b[0m\u001b[0;34m(\u001b[0m\u001b[0;34m'-'\u001b[0m\u001b[0;34m,\u001b[0m\u001b[0;34m-\u001b[0m\u001b[0;36m1\u001b[0m\u001b[0;34m)\u001b[0m\u001b[0;34m[\u001b[0m\u001b[0;36m1\u001b[0m\u001b[0;34m]\u001b[0m\u001b[0;34m.\u001b[0m\u001b[0mrsplit\u001b[0m\u001b[0;34m(\u001b[0m\u001b[0;34m'-'\u001b[0m\u001b[0;34m,\u001b[0m\u001b[0;34m-\u001b[0m\u001b[0;36m1\u001b[0m\u001b[0;34m)\u001b[0m\u001b[0;34m[\u001b[0m\u001b[0;36m0\u001b[0m\u001b[0;34m]\u001b[0m\u001b[0;34m)\u001b[0m \u001b[0;34m>\u001b[0m \u001b[0mmax_epoch_value\u001b[0m\u001b[0;34m:\u001b[0m\u001b[0;34m\u001b[0m\u001b[0;34m\u001b[0m\u001b[0m\n\u001b[0m\u001b[1;32m     11\u001b[0m       \u001b[0mmax_epoch_value\u001b[0m \u001b[0;34m=\u001b[0m \u001b[0mint\u001b[0m\u001b[0;34m(\u001b[0m\u001b[0mtraining_files\u001b[0m\u001b[0;34m[\u001b[0m\u001b[0mi\u001b[0m\u001b[0;34m]\u001b[0m\u001b[0;34m.\u001b[0m\u001b[0mrsplit\u001b[0m\u001b[0;34m(\u001b[0m\u001b[0;34m'-'\u001b[0m\u001b[0;34m,\u001b[0m\u001b[0;36m1\u001b[0m\u001b[0;34m)\u001b[0m\u001b[0;34m[\u001b[0m\u001b[0;36m1\u001b[0m\u001b[0;34m]\u001b[0m\u001b[0;34m.\u001b[0m\u001b[0mrsplit\u001b[0m\u001b[0;34m(\u001b[0m\u001b[0;34m'.'\u001b[0m\u001b[0;34m,\u001b[0m\u001b[0;36m1\u001b[0m\u001b[0;34m)\u001b[0m\u001b[0;34m[\u001b[0m\u001b[0;36m0\u001b[0m\u001b[0;34m]\u001b[0m\u001b[0;34m)\u001b[0m\u001b[0;34m\u001b[0m\u001b[0;34m\u001b[0m\u001b[0m\n\u001b[1;32m     12\u001b[0m   \u001b[0mlearn\u001b[0m\u001b[0;34m.\u001b[0m\u001b[0mload\u001b[0m\u001b[0;34m(\u001b[0m\u001b[0mdir\u001b[0m\u001b[0;34m+\u001b[0m\u001b[0;34m'epochs-'\u001b[0m\u001b[0;34m+\u001b[0m\u001b[0mstr\u001b[0m\u001b[0;34m(\u001b[0m\u001b[0mmax_epoch_value\u001b[0m\u001b[0;34m)\u001b[0m\u001b[0;34m)\u001b[0m\u001b[0;34m\u001b[0m\u001b[0;34m\u001b[0m\u001b[0m\n",
            "\u001b[0;31mValueError\u001b[0m: invalid literal for int() with base 10: '0.pth'"
          ]
        },
        {
          "output_type": "display_data",
          "data": {
            "image/png": "[encoded data removed]",
            "text/plain": [
              "<Figure size 432x288 with 1 Axes>"
            ]
          },
          "metadata": {
            "tags": [],
            "needs_background": "light"
          }
        },
        {
          "output_type": "display_data",
          "data": {
            "image/png": "[encoded data removed]",
            "text/plain": [
              "<Figure size 432x288 with 1 Axes>"
            ]
          },
          "metadata": {
            "tags": [],
            "needs_background": "light"
          }
        }
      ]
    }
  ]
}