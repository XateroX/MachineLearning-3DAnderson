{
  "nbformat": 4,
  "nbformat_minor": 0,
  "metadata": {
    "kernelspec": {
      "display_name": "Python 3",
      "language": "python",
      "name": "python3"
    },
    "language_info": {
      "codemirror_mode": {
        "name": "ipython",
        "version": 3
      },
      "file_extension": ".py",
      "mimetype": "text/x-python",
      "name": "python",
      "nbconvert_exporter": "python",
      "pygments_lexer": "ipython3",
      "version": "3.7.0"
    },
    "colab": {
      "name": "GColab_AM_Train_3D_FastAI_ResNet.ipynb",
      "provenance": [],
      "collapsed_sections": [
        "_902jQztpeJ7",
        "h-pqPbXCzjOP",
        "0p08baNGpeKB",
        "b4JNeT1F0Tg0",
        "D7MgG-ik0bO_",
        "Z4VMQWV5gDeh",
        "mXOqlfwnvOVS",
        "oIpl6phs0vLg",
        "m4I8X_KUvDQk",
        "bKKA-3NSpeKN"
      ],
      "toc_visible": true
    }
  },
  "cells": [
    {
      "cell_type": "markdown",
      "metadata": {
        "id": "L2GhE2tUpeJ2"
      },
      "source": [
        "# Image recognition of Anderson states"
      ]
    },
    {
      "cell_type": "markdown",
      "metadata": {
        "id": "_902jQztpeJ7"
      },
      "source": [
        "## Preliminaries"
      ]
    },
    {
      "cell_type": "code",
      "metadata": {
        "id": "lKzjTI5lpeJ9"
      },
      "source": [
        "%reload_ext autoreload\n",
        "%autoreload 2\n",
        "%matplotlib inline"
      ],
      "execution_count": 1,
      "outputs": []
    },
    {
      "cell_type": "code",
      "metadata": {
        "scrolled": true,
        "id": "BZCnS3VZpeJ-",
        "colab": {
          "base_uri": "https://localhost:8080/"
        },
        "outputId": "2357f6b3-2671-4e3a-cd70-4ea293fa2a4b"
      },
      "source": [
        "import torch\n",
        "import torch.nn\n",
        "torch.__version__\n",
        "from torch.utils.data import Dataset, DataLoader\n",
        "#from torchvision import transforms, utils\n",
        "#!pip install torch=='1.7.0'\n",
        "#!pip install torchvision=='0.8.1'\n",
        "import torch\n",
        "import torchvision\n",
        "print(torchvision.__version__)\n",
        "print(torch.__version__)"
      ],
      "execution_count": 2,
      "outputs": [
        {
          "output_type": "stream",
          "text": [
            "0.8.1+cu101\n",
            "1.7.0+cu101\n"
          ],
          "name": "stdout"
        }
      ]
    },
    {
      "cell_type": "code",
      "metadata": {
        "id": "3xWHU6aoazUo"
      },
      "source": [
        "import random\r\n",
        "import math"
      ],
      "execution_count": 3,
      "outputs": []
    },
    {
      "cell_type": "code",
      "metadata": {
        "colab": {
          "base_uri": "https://localhost:8080/"
        },
        "id": "8L1ptKV1lydV",
        "outputId": "9306f227-f389-4e15-bbd8-16f9596d63ed"
      },
      "source": [
        "#!pip install fastai==1.0.61\r\n",
        "import fastai\r\n",
        "from fastai.collab import *\r\n",
        "#!pip install --upgrade fastai\r\n",
        "#!pip uninstall fastai -y\r\n",
        "print(fastai.__version__)\r\n",
        "from fastai.vision import *\r\n"
      ],
      "execution_count": 4,
      "outputs": [
        {
          "output_type": "stream",
          "text": [
            "1.0.61\n"
          ],
          "name": "stdout"
        }
      ]
    },
    {
      "cell_type": "code",
      "metadata": {
        "colab": {
          "base_uri": "https://localhost:8080/"
        },
        "id": "Bx87JLJOWBI-",
        "outputId": "f69c0647-c69a-40f4-b99a-446fe31212a2"
      },
      "source": [
        "from google.colab import drive\n",
        "drive.mount('/content/drive', force_remount=True)"
      ],
      "execution_count": 5,
      "outputs": [
        {
          "output_type": "stream",
          "text": [
            "Mounted at /content/drive\n"
          ],
          "name": "stdout"
        }
      ]
    },
    {
      "cell_type": "markdown",
      "metadata": {
        "id": "h-pqPbXCzjOP"
      },
      "source": [
        "##Functions and definition of parameters\r\n"
      ]
    },
    {
      "cell_type": "code",
      "metadata": {
        "id": "y3keJI43Yb6M"
      },
      "source": [
        "def get_files(folder):\r\n",
        "  dir = '/content/drive/MyDrive/csvdata/'+folder+'/'\r\n",
        "  N = 1    #Desired number of input systems per class\r\n",
        "  files = !ls -l {dir}\r\n",
        "  print(files)\r\n",
        "  files.reverse()\r\n",
        "  files.pop()\r\n",
        "  for i in range(len(files)):\r\n",
        "    files[i] = files[i].rsplit(' ',1)[1]\r\n",
        "    print(files[i])\r\n",
        "  return dir,files"
      ],
      "execution_count": 6,
      "outputs": []
    },
    {
      "cell_type": "code",
      "metadata": {
        "id": "0QQfPQJbpeKA"
      },
      "source": [
        "d_type_opt = ('training', 'validation')\n",
        "\n",
        "#bs = 64\n",
        "bs = 64  # uncomment this line if you run out of memory even after clicking Kernel->Restart\n",
        "epoch_chunk = 15\n",
        "t_f_default = 0.6\n",
        "v_f_default = 0.3\n",
        "training_fraction   = t_f_default\n",
        "validation_fraction = v_f_default"
      ],
      "execution_count": 7,
      "outputs": []
    },
    {
      "cell_type": "code",
      "metadata": {
        "id": "SAFNQ9PiXeDr"
      },
      "source": [
        "def to_list(list):\r\n",
        "  py_list = []\r\n",
        "  for i in list:\r\n",
        "    py_list.append(float(i))\r\n",
        "  return py_list"
      ],
      "execution_count": 8,
      "outputs": []
    },
    {
      "cell_type": "markdown",
      "metadata": {
        "id": "0p08baNGpeKB"
      },
      "source": [
        "## Reading in the image data"
      ]
    },
    {
      "cell_type": "code",
      "metadata": {
        "id": "N9wWj7fM8Gp1",
        "colab": {
          "base_uri": "https://localhost:8080/",
          "height": 0
        },
        "cellView": "code",
        "outputId": "3a54af2e-c155-48b6-ee39-e80a85867268"
      },
      "source": [
        "\"\"\"\n",
        "\n",
        "#@title Default title text\n",
        "import os\n",
        "\n",
        "data   = []\n",
        "labels = []\n",
        "\n",
        "datasrc = '/home/epp/phupqr/PX319MLPhases/MachineLearning-Anderson/raw_system_data_refs' #Source of the locations of the data\n",
        "\n",
        "disorder_systems      = []\n",
        "disorder_class_labels = []\n",
        "\n",
        "for disorder_class_folder in os.scandir(datasrc):                #Go through each of the disorder folders...\n",
        "    print(disorder_class_folder.path)\n",
        "    disorder_class = disorder_class_folder.path.rsplit('_',1)[1]\n",
        "    print(disorder_class)\n",
        "    disorder_systems.append([])\n",
        "    disorder_class_labels.append(disorder_class)\n",
        "    \n",
        "    for file in os.scandir(disorder_class_folder.path):          #...find the file in each folder...\n",
        "        #print(file)                                             #...\n",
        "        the_file = open(file.path, 'r')                          #...open the file to read the locations of the data...\n",
        "        \n",
        "        number_of_data = 0\n",
        "        for line in the_file:                                    #...for each... \n",
        "            \n",
        "            if (number_of_data < 1):                           #...gather a certain amount of data...\n",
        "                print(\" \")\n",
        "                number_of_data += 1\n",
        "\n",
        "                #print(line)\n",
        "                line = line.rsplit('\\n',1)[0]\n",
        "                raw_data = open(line,'r')\n",
        "                system = make_3D_structure(raw_data, 20)\n",
        "                #print(system)\n",
        "                disorder_systems[-1].append(system)\n",
        "                print(\"added system to \" + disorder_class_labels[-1])\n",
        "     \n",
        "\"\"\""
      ],
      "execution_count": 9,
      "outputs": [
        {
          "output_type": "execute_result",
          "data": {
            "application/vnd.google.colaboratory.intrinsic+json": {
              "type": "string"
            },
            "text/plain": [
              "'\\n\\n#@title Default title text\\nimport os\\n\\ndata   = []\\nlabels = []\\n\\ndatasrc = \\'/home/epp/phupqr/PX319MLPhases/MachineLearning-Anderson/raw_system_data_refs\\' #Source of the locations of the data\\n\\ndisorder_systems      = []\\ndisorder_class_labels = []\\n\\nfor disorder_class_folder in os.scandir(datasrc):                #Go through each of the disorder folders...\\n    print(disorder_class_folder.path)\\n    disorder_class = disorder_class_folder.path.rsplit(\\'_\\',1)[1]\\n    print(disorder_class)\\n    disorder_systems.append([])\\n    disorder_class_labels.append(disorder_class)\\n    \\n    for file in os.scandir(disorder_class_folder.path):          #...find the file in each folder...\\n        #print(file)                                             #...\\n        the_file = open(file.path, \\'r\\')                          #...open the file to read the locations of the data...\\n        \\n        number_of_data = 0\\n        for line in the_file:                                    #...for each... \\n            \\n            if (number_of_data < 1):                           #...gather a certain amount of data...\\n                print(\" \")\\n                number_of_data += 1\\n\\n                #print(line)\\n                line = line.rsplit(\\'\\n\\',1)[0]\\n                raw_data = open(line,\\'r\\')\\n                system = make_3D_structure(raw_data, 20)\\n                #print(system)\\n                disorder_systems[-1].append(system)\\n                print(\"added system to \" + disorder_class_labels[-1])\\n     \\n'"
            ]
          },
          "metadata": {
            "tags": []
          },
          "execution_count": 9
        }
      ]
    },
    {
      "cell_type": "code",
      "metadata": {
        "id": "j5PsG75M8Kb5"
      },
      "source": [
        "def make_3D_structure(file, system_size):\r\n",
        "    col = 0\r\n",
        "    row = 0\r\n",
        "    lay = 0\r\n",
        "    \r\n",
        "    system = []\r\n",
        "    for i in range(system_size):\r\n",
        "        system.append([])\r\n",
        "        for j in range(system_size):\r\n",
        "            system[-1].append([])\r\n",
        "            for j in range(system_size):\r\n",
        "                system[-1][-1].append([])\r\n",
        "    #print(len(system))\r\n",
        "    #print(len(system[0]))\r\n",
        "    #print(len(system[0][0]))\r\n",
        "    \r\n",
        "    for line in file:\r\n",
        "        if col == system_size:\r\n",
        "            col = 0\r\n",
        "            row += 1\r\n",
        "        if row == system_size:\r\n",
        "            row = 0\r\n",
        "            lay += 1\r\n",
        "        system[col][row][lay] = float(line)\r\n",
        "        #print(float(line))\r\n",
        "        col += 1\r\n",
        "    return system\r\n",
        "        "
      ],
      "execution_count": 10,
      "outputs": []
    },
    {
      "cell_type": "markdown",
      "metadata": {
        "id": "b4JNeT1F0Tg0"
      },
      "source": [
        "##Object definitions"
      ]
    },
    {
      "cell_type": "markdown",
      "metadata": {
        "id": "M5sO9ug8f111"
      },
      "source": [
        "**Definition of our custom Dataset and label_list class for confusion matrix**"
      ]
    },
    {
      "cell_type": "code",
      "metadata": {
        "id": "HrP-ik6upeKD"
      },
      "source": [
        "class label_list():\n",
        "  def __init__(self, data, label_names):\n",
        "    self.classes = label_names\n",
        "    self.items = data\n",
        "  def get(self,i):\n",
        "    return self.items[i]\n",
        "  def len(self):\n",
        "    return len(self.classes)\n",
        "\n",
        "class ThreeDDataset(Dataset):\n",
        "    def __init__(self, x, y):\n",
        "        self.x = []\n",
        "        self.y = []\n",
        "        class_ind = 0\n",
        "        for dis_class in x:\n",
        "          for item in dis_class:\n",
        "            self.x.append(item)\n",
        "            self.y.append(class_ind)\n",
        "          class_ind+=1\n",
        "        self.y = label_list(self.y, y)\n",
        "        print(\"data: \", len(self.x))\n",
        "        print(\"labels: \", self.y.len(), \" \", self.y.items)\n",
        "        self.c = len(self.y.classes)\n",
        "\n",
        "        t = True\n",
        "        for dis_class in self.x:\n",
        "          t = t and len(dis_class)==0\n",
        "        self.is_empty=t\n",
        "    \n",
        "    def __len__(self):\n",
        "        return len(self.x)\n",
        "    \n",
        "    def __getitem__(self, i):\n",
        "        return self.x[i],self.y.get(i)\n",
        "        "
      ],
      "execution_count": 22,
      "outputs": []
    },
    {
      "cell_type": "markdown",
      "metadata": {
        "id": "eC9aWxpqf98Z"
      },
      "source": [
        "**Definition of our custom Neural Network Model**"
      ]
    },
    {
      "cell_type": "code",
      "metadata": {
        "id": "x0HvC38sfz-x"
      },
      "source": [
        "class NNet(nn.Module):\r\n",
        "    def __init__(self, num_classes=10):\r\n",
        "        super(ConvNet, self).__init__()\r\n",
        "        self.layer1 = nn.Sequential(\r\n",
        "            nn.Conv2d(20, 16, kernel_size=5, stride=1, padding=2),\r\n",
        "            nn.BatchNorm2d(16),\r\n",
        "            nn.ReLU(),\r\n",
        "            nn.MaxPool2d(kernel_size=2, stride=2))\r\n",
        "        self.layer2 = nn.Sequential(\r\n",
        "            nn.Conv2d(16, 32, kernel_size=5, stride=1, padding=2),\r\n",
        "            nn.BatchNorm2d(32),\r\n",
        "            nn.ReLU(),\r\n",
        "            nn.MaxPool2d(kernel_size=2, stride=2))\r\n",
        "        self.fc = nn.Linear(7 * 7 * 32, num_classes)\r\n",
        "\r\n",
        "    def forward(self, x):\r\n",
        "        out = self.layer1(x)\r\n",
        "        out = self.layer2(out)\r\n",
        "        out = out.reshape(out.size(0), -1)\r\n",
        "        out = self.fc(out)\r\n",
        "        return out\r\n"
      ],
      "execution_count": 23,
      "outputs": []
    },
    {
      "cell_type": "markdown",
      "metadata": {
        "id": "D7MgG-ik0bO_"
      },
      "source": [
        "##Training Functions\r\n"
      ]
    },
    {
      "cell_type": "code",
      "metadata": {
        "id": "iHYfjjq3WuiF"
      },
      "source": [
        "def load_latest_training(learn, c_model):\r\n",
        "  dir = '/content/drive/MyDrive/ModelStages/'+c_model+'/'\r\n",
        "  training_files = !ls -l {dir}\r\n",
        "  training_files.reverse()\r\n",
        "  training_files.pop()\r\n",
        "\r\n",
        "  max_epoch_value = 0\r\n",
        "  for i in range(len(training_files)):\r\n",
        "    training_files[i] = training_files[i].rsplit(' ',1)[1]\r\n",
        "    if int(training_files[i].rsplit('-',1)[1].rsplit('.',1)[0]) > max_epoch_value:\r\n",
        "      max_epoch_value = int(training_files[i].rsplit('-',1)[1].rsplit('.',1)[0])\r\n",
        "  learn.load(dir+'epochs-'+str(max_epoch_value))\r\n",
        "  return max_epoch_value"
      ],
      "execution_count": 24,
      "outputs": []
    },
    {
      "cell_type": "markdown",
      "metadata": {
        "id": "Z4VMQWV5gDeh"
      },
      "source": [
        "#Primary code that loads data and sends it to correct object"
      ]
    },
    {
      "cell_type": "code",
      "metadata": {
        "id": "Pik8R2VDpeKE"
      },
      "source": [
        "import pandas as pd\n",
        "import io\n",
        "\n",
        "\n",
        "def prepare_datasets(folder,d_type):\n",
        "  folder = folder + d_type\n",
        "  if d_type=='validation':\n",
        "    training_fraction  =0.1\n",
        "    validation_fraction=0.99\n",
        "  elif d_type=='training':\n",
        "    training_fraction  =t_f_default\n",
        "    validation_fraction=v_f_default\n",
        "\n",
        "\n",
        "  dir = '/content/drive/MyDrive/csvdata/'+folder+'/'\n",
        "  files = !ls -l {dir}\n",
        "  files.reverse()\n",
        "  files.pop()\n",
        "  for i in range(len(files)):\n",
        "    files[i] = files[i].rsplit(' ',1)[1]\n",
        "\n",
        "\n",
        "  tensors_training   = []  #Each list in this list is a seperate label list\n",
        "  tensors_validation = []  #\n",
        "  tensors_testing    = []  #\n",
        "  global n_labels\n",
        "  n_labels = len(files)    #Defined by the number of data csv files\n",
        "  print(\"Number of classes: \", n_labels)\n",
        "\n",
        "  labels = []\n",
        "  class_val = 0\n",
        "  for class_file in files:\n",
        "    \"\"\"\n",
        "    Add new class to the tensors list, read the systems one by one out \n",
        "    of the data file then add that data to the correct class list in tensors\n",
        "    and add the name of the disorder class to the labels list   \n",
        "    \"\"\"\n",
        "    tensors_training.append([])\n",
        "    tensors_validation.append([])\n",
        "    tensors_testing.append([])\n",
        "    print(class_file)\n",
        "    disorder_class = class_file.rsplit('-',1)[0]\n",
        "    disorder_class = disorder_class.rsplit('W',1)[1]\n",
        "    labels.append(disorder_class)\n",
        "\n",
        "    with open(dir+class_file, 'r') as f:\n",
        "      df = pd.read_csv(f)\n",
        "\n",
        "    for i in range(len(df.transpose())-1):         \n",
        "      \"\"\"\n",
        "      Go through each system and add them to the data\n",
        "      \"\"\"           \n",
        "      ThreeD_array = make_3D_structure(to_list(df[str(i)]),20)\n",
        "      system = torch.tensor(ThreeD_array)\n",
        "\n",
        "      ran_numb = random.random()\n",
        "      if ran_numb >= 1 - training_fraction:\n",
        "        tensors_training[-1].append(system)\n",
        "      \n",
        "      elif ran_numb < validation_fraction:\n",
        "        tensors_validation[-1].append(system)\n",
        "      \n",
        "      else:\n",
        "        tensors_testing[-1].append(system)\n",
        "    class_val+=1\n",
        "  print(labels)\n",
        "\n",
        "  loader_training = ThreeDDataset(tensors_training, labels)\n",
        "  loader_validation = ThreeDDataset(tensors_validation, labels)\n",
        "  loader_testing = ThreeDDataset(tensors_testing, labels)\n",
        "  databunch = DataBunch.create(loader_training, loader_validation, loader_testing, bs=bs, num_workers=1)\n",
        "  return databunch"
      ],
      "execution_count": 27,
      "outputs": []
    },
    {
      "cell_type": "markdown",
      "metadata": {
        "id": "mXOqlfwnvOVS"
      },
      "source": [
        "#Function that creates a learner from a dataset and choice of training or validation mode"
      ]
    },
    {
      "cell_type": "code",
      "metadata": {
        "id": "xPdsytzlpeKF"
      },
      "source": [
        "def create_learner(folder,d_type):\r\n",
        "  databunch = prepare_datasets(folder, d_type)\r\n",
        "  global learn \r\n",
        "  learn = cnn_learner(databunch, models.resnet18, metrics=error_rate, loss_func=torch.nn.CrossEntropyLoss(), pretrained=False)\r\n",
        "  global c_model\r\n",
        "  c_model = 'resnet18-'      #Model\r\n",
        "  metric = 'metric=error_rate-'     #Metric\r\n",
        "  loss = 'loss=CrossEntropyLoss' #Loss \r\n",
        "  c_model = c_model+metric+loss\r\n",
        "  !mkdir /content/drive/MyDrive/ModelStages/{c_model}\r\n",
        "\r\n",
        "    #Print the layer structure\r\n",
        "  for i in range(len(learn.model)):\r\n",
        "    #print(i, \"    \", learn.model[i])\r\n",
        "    for j in range(len(learn.model[i])):\r\n",
        "      #print(j, \"    \", learn.model[i][j])\r\n",
        "      pass\r\n",
        "\r\n",
        "  learn.model[0][0] = nn.Conv2d(20, 64, kernel_size=(7, 7), stride=(2, 2), padding=(3, 3), bias=False)\r\n",
        "  learn.model[1][8] = nn.Linear(in_features=512, out_features=n_labels, bias=True)\r\n",
        "\r\n",
        "  learn.save('/content/drive/MyDrive/ModelStages/'+c_model+'/epochs-0')\r\n",
        "\r\n",
        "  if d_type=='training':\r\n",
        "    learn.lr_find(start_lr=0.0001, end_lr=1, num_it=100, stop_div=False)\r\n",
        "    learn.recorder.plot()\r\n",
        "    learn.recorder.plot_lr()"
      ],
      "execution_count": 28,
      "outputs": []
    },
    {
      "cell_type": "markdown",
      "metadata": {
        "id": "oIpl6phs0vLg"
      },
      "source": [
        "#**Training Loop**"
      ]
    },
    {
      "cell_type": "code",
      "metadata": {
        "id": "shn_kRnrWO7O"
      },
      "source": [
        "def train_max_epochs(epoch_goal, lr):\r\n",
        "  n_epochs_total = 0\r\n",
        "  learn.unfreeze()\r\n",
        "  while n_epochs_total < epoch_goal:\r\n",
        "    n_epochs_total = load_latest_training(learn, c_model)\r\n",
        "    print(\"Best training so far: \", n_epochs_total)\r\n",
        "    #learn.recorder.plot_losses()\r\n",
        "    learn.fit_one_cycle(epoch_chunk,lr)\r\n",
        "    n_epochs_total += epoch_chunk\r\n",
        "\r\n",
        "    print('/content/drive/MyDrive/ModelStages/'+c_model+'/epochs-'+str(n_epochs_total))\r\n",
        "    learn.save('/content/drive/MyDrive/ModelStages/'+c_model+'/epochs-'+str(n_epochs_total))"
      ],
      "execution_count": 29,
      "outputs": []
    },
    {
      "cell_type": "markdown",
      "metadata": {
        "id": "m4I8X_KUvDQk"
      },
      "source": [
        "#Main Loop"
      ]
    },
    {
      "cell_type": "code",
      "metadata": {
        "colab": {
          "base_uri": "https://localhost:8080/"
        },
        "id": "tvjp3wi6vAHW",
        "outputId": "b17d3a93-2839-49e0-bab4-62ed789a4170"
      },
      "source": [
        "folder = 'raw_data_transfering_100_'\r\n",
        "d_type = d_type_opt[1]\r\n",
        "create_learner(folder,d_type)"
      ],
      "execution_count": 56,
      "outputs": [
        {
          "output_type": "stream",
          "text": [
            "Number of classes:  17\n",
            "W18.0-100data.csv\n",
            "W17.75-100data.csv\n",
            "W17.5-100data.csv\n",
            "W17.25-100data.csv\n",
            "W17.0-100data.csv\n",
            "W16.8-100data.csv\n",
            "W16.7-100data.csv\n",
            "W16.6-100data.csv\n",
            "W16.5-100data.csv\n",
            "W16.4-100data.csv\n",
            "W16.3-100data.csv\n",
            "W16.2-100data.csv\n",
            "W16.0-100data.csv\n",
            "W15.75-100data.csv\n",
            "W15.5-100data.csv\n",
            "W15.25-100data.csv\n",
            "W15.0-100data.csv\n",
            "['18.0', '17.75', '17.5', '17.25', '17.0', '16.8', '16.7', '16.6', '16.5', '16.4', '16.3', '16.2', '16.0', '15.75', '15.5', '15.25', '15.0']\n",
            "data:  186\n",
            "labels:  17   [0, 0, 0, 0, 0, 0, 0, 0, 0, 0, 0, 0, 0, 0, 0, 0, 0, 0, 0, 0, 1, 1, 1, 1, 1, 1, 1, 1, 1, 1, 1, 1, 1, 1, 2, 2, 2, 2, 2, 2, 2, 2, 2, 2, 2, 2, 2, 3, 3, 3, 3, 3, 4, 4, 4, 4, 4, 4, 5, 5, 5, 5, 5, 5, 5, 5, 5, 6, 6, 6, 6, 6, 6, 6, 6, 6, 7, 7, 7, 7, 7, 7, 7, 7, 7, 7, 7, 7, 7, 7, 7, 7, 8, 8, 8, 8, 8, 8, 8, 8, 8, 8, 8, 8, 8, 9, 9, 9, 9, 9, 9, 9, 9, 9, 9, 9, 10, 10, 10, 10, 10, 10, 10, 10, 11, 11, 11, 11, 11, 11, 11, 11, 11, 12, 12, 12, 12, 12, 12, 12, 12, 12, 13, 13, 13, 13, 13, 13, 13, 13, 13, 13, 13, 13, 14, 14, 14, 14, 14, 14, 14, 14, 14, 14, 14, 15, 15, 15, 15, 15, 15, 15, 15, 15, 15, 16, 16, 16, 16, 16, 16, 16, 16, 16, 16, 16]\n",
            "data:  1514\n",
            "labels:  17   [0, 0, 0, 0, 0, 0, 0, 0, 0, 0, 0, 0, 0, 0, 0, 0, 0, 0, 0, 0, 0, 0, 0, 0, 0, 0, 0, 0, 0, 0, 0, 0, 0, 0, 0, 0, 0, 0, 0, 0, 0, 0, 0, 0, 0, 0, 0, 0, 0, 0, 0, 0, 0, 0, 0, 0, 0, 0, 0, 0, 0, 0, 0, 0, 0, 0, 0, 0, 0, 0, 0, 0, 0, 0, 0, 0, 0, 0, 0, 0, 1, 1, 1, 1, 1, 1, 1, 1, 1, 1, 1, 1, 1, 1, 1, 1, 1, 1, 1, 1, 1, 1, 1, 1, 1, 1, 1, 1, 1, 1, 1, 1, 1, 1, 1, 1, 1, 1, 1, 1, 1, 1, 1, 1, 1, 1, 1, 1, 1, 1, 1, 1, 1, 1, 1, 1, 1, 1, 1, 1, 1, 1, 1, 1, 1, 1, 1, 1, 1, 1, 1, 1, 1, 1, 1, 1, 1, 1, 1, 1, 1, 1, 1, 1, 1, 1, 2, 2, 2, 2, 2, 2, 2, 2, 2, 2, 2, 2, 2, 2, 2, 2, 2, 2, 2, 2, 2, 2, 2, 2, 2, 2, 2, 2, 2, 2, 2, 2, 2, 2, 2, 2, 2, 2, 2, 2, 2, 2, 2, 2, 2, 2, 2, 2, 2, 2, 2, 2, 2, 2, 2, 2, 2, 2, 2, 2, 2, 2, 2, 2, 2, 2, 2, 2, 2, 2, 2, 2, 2, 2, 2, 2, 2, 2, 2, 2, 2, 2, 2, 2, 2, 2, 2, 3, 3, 3, 3, 3, 3, 3, 3, 3, 3, 3, 3, 3, 3, 3, 3, 3, 3, 3, 3, 3, 3, 3, 3, 3, 3, 3, 3, 3, 3, 3, 3, 3, 3, 3, 3, 3, 3, 3, 3, 3, 3, 3, 3, 3, 3, 3, 3, 3, 3, 3, 3, 3, 3, 3, 3, 3, 3, 3, 3, 3, 3, 3, 3, 3, 3, 3, 3, 3, 3, 3, 3, 3, 3, 3, 3, 3, 3, 3, 3, 3, 3, 3, 3, 3, 3, 3, 3, 3, 3, 3, 3, 3, 3, 3, 4, 4, 4, 4, 4, 4, 4, 4, 4, 4, 4, 4, 4, 4, 4, 4, 4, 4, 4, 4, 4, 4, 4, 4, 4, 4, 4, 4, 4, 4, 4, 4, 4, 4, 4, 4, 4, 4, 4, 4, 4, 4, 4, 4, 4, 4, 4, 4, 4, 4, 4, 4, 4, 4, 4, 4, 4, 4, 4, 4, 4, 4, 4, 4, 4, 4, 4, 4, 4, 4, 4, 4, 4, 4, 4, 4, 4, 4, 4, 4, 4, 4, 4, 4, 4, 4, 4, 4, 4, 4, 4, 4, 4, 4, 5, 5, 5, 5, 5, 5, 5, 5, 5, 5, 5, 5, 5, 5, 5, 5, 5, 5, 5, 5, 5, 5, 5, 5, 5, 5, 5, 5, 5, 5, 5, 5, 5, 5, 5, 5, 5, 5, 5, 5, 5, 5, 5, 5, 5, 5, 5, 5, 5, 5, 5, 5, 5, 5, 5, 5, 5, 5, 5, 5, 5, 5, 5, 5, 5, 5, 5, 5, 5, 5, 5, 5, 5, 5, 5, 5, 5, 5, 5, 5, 5, 5, 5, 5, 5, 5, 5, 5, 5, 5, 5, 6, 6, 6, 6, 6, 6, 6, 6, 6, 6, 6, 6, 6, 6, 6, 6, 6, 6, 6, 6, 6, 6, 6, 6, 6, 6, 6, 6, 6, 6, 6, 6, 6, 6, 6, 6, 6, 6, 6, 6, 6, 6, 6, 6, 6, 6, 6, 6, 6, 6, 6, 6, 6, 6, 6, 6, 6, 6, 6, 6, 6, 6, 6, 6, 6, 6, 6, 6, 6, 6, 6, 6, 6, 6, 6, 6, 6, 6, 6, 6, 6, 6, 6, 6, 6, 6, 6, 6, 6, 6, 6, 7, 7, 7, 7, 7, 7, 7, 7, 7, 7, 7, 7, 7, 7, 7, 7, 7, 7, 7, 7, 7, 7, 7, 7, 7, 7, 7, 7, 7, 7, 7, 7, 7, 7, 7, 7, 7, 7, 7, 7, 7, 7, 7, 7, 7, 7, 7, 7, 7, 7, 7, 7, 7, 7, 7, 7, 7, 7, 7, 7, 7, 7, 7, 7, 7, 7, 7, 7, 7, 7, 7, 7, 7, 7, 7, 7, 7, 7, 7, 7, 7, 7, 7, 7, 8, 8, 8, 8, 8, 8, 8, 8, 8, 8, 8, 8, 8, 8, 8, 8, 8, 8, 8, 8, 8, 8, 8, 8, 8, 8, 8, 8, 8, 8, 8, 8, 8, 8, 8, 8, 8, 8, 8, 8, 8, 8, 8, 8, 8, 8, 8, 8, 8, 8, 8, 8, 8, 8, 8, 8, 8, 8, 8, 8, 8, 8, 8, 8, 8, 8, 8, 8, 8, 8, 8, 8, 8, 8, 8, 8, 8, 8, 8, 8, 8, 8, 8, 8, 8, 8, 8, 9, 9, 9, 9, 9, 9, 9, 9, 9, 9, 9, 9, 9, 9, 9, 9, 9, 9, 9, 9, 9, 9, 9, 9, 9, 9, 9, 9, 9, 9, 9, 9, 9, 9, 9, 9, 9, 9, 9, 9, 9, 9, 9, 9, 9, 9, 9, 9, 9, 9, 9, 9, 9, 9, 9, 9, 9, 9, 9, 9, 9, 9, 9, 9, 9, 9, 9, 9, 9, 9, 9, 9, 9, 9, 9, 9, 9, 9, 9, 9, 9, 9, 9, 9, 9, 9, 9, 9, 9, 10, 10, 10, 10, 10, 10, 10, 10, 10, 10, 10, 10, 10, 10, 10, 10, 10, 10, 10, 10, 10, 10, 10, 10, 10, 10, 10, 10, 10, 10, 10, 10, 10, 10, 10, 10, 10, 10, 10, 10, 10, 10, 10, 10, 10, 10, 10, 10, 10, 10, 10, 10, 10, 10, 10, 10, 10, 10, 10, 10, 10, 10, 10, 10, 10, 10, 10, 10, 10, 10, 10, 10, 10, 10, 10, 10, 10, 10, 10, 10, 10, 10, 10, 10, 10, 10, 10, 10, 10, 10, 10, 10, 11, 11, 11, 11, 11, 11, 11, 11, 11, 11, 11, 11, 11, 11, 11, 11, 11, 11, 11, 11, 11, 11, 11, 11, 11, 11, 11, 11, 11, 11, 11, 11, 11, 11, 11, 11, 11, 11, 11, 11, 11, 11, 11, 11, 11, 11, 11, 11, 11, 11, 11, 11, 11, 11, 11, 11, 11, 11, 11, 11, 11, 11, 11, 11, 11, 11, 11, 11, 11, 11, 11, 11, 11, 11, 11, 11, 11, 11, 11, 11, 11, 11, 11, 11, 11, 11, 11, 11, 11, 11, 11, 12, 12, 12, 12, 12, 12, 12, 12, 12, 12, 12, 12, 12, 12, 12, 12, 12, 12, 12, 12, 12, 12, 12, 12, 12, 12, 12, 12, 12, 12, 12, 12, 12, 12, 12, 12, 12, 12, 12, 12, 12, 12, 12, 12, 12, 12, 12, 12, 12, 12, 12, 12, 12, 12, 12, 12, 12, 12, 12, 12, 12, 12, 12, 12, 12, 12, 12, 12, 12, 12, 12, 12, 12, 12, 12, 12, 12, 12, 12, 12, 12, 12, 12, 12, 12, 12, 12, 12, 12, 12, 12, 13, 13, 13, 13, 13, 13, 13, 13, 13, 13, 13, 13, 13, 13, 13, 13, 13, 13, 13, 13, 13, 13, 13, 13, 13, 13, 13, 13, 13, 13, 13, 13, 13, 13, 13, 13, 13, 13, 13, 13, 13, 13, 13, 13, 13, 13, 13, 13, 13, 13, 13, 13, 13, 13, 13, 13, 13, 13, 13, 13, 13, 13, 13, 13, 13, 13, 13, 13, 13, 13, 13, 13, 13, 13, 13, 13, 13, 13, 13, 13, 13, 13, 13, 13, 13, 13, 13, 13, 14, 14, 14, 14, 14, 14, 14, 14, 14, 14, 14, 14, 14, 14, 14, 14, 14, 14, 14, 14, 14, 14, 14, 14, 14, 14, 14, 14, 14, 14, 14, 14, 14, 14, 14, 14, 14, 14, 14, 14, 14, 14, 14, 14, 14, 14, 14, 14, 14, 14, 14, 14, 14, 14, 14, 14, 14, 14, 14, 14, 14, 14, 14, 14, 14, 14, 14, 14, 14, 14, 14, 14, 14, 14, 14, 14, 14, 14, 14, 14, 14, 14, 14, 14, 14, 14, 14, 14, 14, 15, 15, 15, 15, 15, 15, 15, 15, 15, 15, 15, 15, 15, 15, 15, 15, 15, 15, 15, 15, 15, 15, 15, 15, 15, 15, 15, 15, 15, 15, 15, 15, 15, 15, 15, 15, 15, 15, 15, 15, 15, 15, 15, 15, 15, 15, 15, 15, 15, 15, 15, 15, 15, 15, 15, 15, 15, 15, 15, 15, 15, 15, 15, 15, 15, 15, 15, 15, 15, 15, 15, 15, 15, 15, 15, 15, 15, 15, 15, 15, 15, 15, 15, 15, 15, 15, 15, 15, 15, 15, 16, 16, 16, 16, 16, 16, 16, 16, 16, 16, 16, 16, 16, 16, 16, 16, 16, 16, 16, 16, 16, 16, 16, 16, 16, 16, 16, 16, 16, 16, 16, 16, 16, 16, 16, 16, 16, 16, 16, 16, 16, 16, 16, 16, 16, 16, 16, 16, 16, 16, 16, 16, 16, 16, 16, 16, 16, 16, 16, 16, 16, 16, 16, 16, 16, 16, 16, 16, 16, 16, 16, 16, 16, 16, 16, 16, 16, 16, 16, 16, 16, 16, 16, 16, 16, 16, 16, 16, 16]\n",
            "data:  0\n",
            "labels:  17   []\n",
            "mkdir: cannot create directory ‘/content/drive/MyDrive/ModelStages/resnet18-metric=error_rate-loss=CrossEntropyLoss’: File exists\n"
          ],
          "name": "stdout"
        }
      ]
    },
    {
      "cell_type": "code",
      "metadata": {
        "id": "Nx9gYAi1sMPf",
        "colab": {
          "base_uri": "https://localhost:8080/",
          "height": 1000
        },
        "outputId": "5784d7d8-6e53-4fe2-9948-d572cdfdb541"
      },
      "source": [
        "train_max_epochs(200,0.14)"
      ],
      "execution_count": null,
      "outputs": [
        {
          "output_type": "stream",
          "text": [
            "Best training so far:  15\n"
          ],
          "name": "stdout"
        },
        {
          "output_type": "display_data",
          "data": {
            "text/html": [
              "<table border=\"1\" class=\"dataframe\">\n",
              "  <thead>\n",
              "    <tr style=\"text-align: left;\">\n",
              "      <th>epoch</th>\n",
              "      <th>train_loss</th>\n",
              "      <th>valid_loss</th>\n",
              "      <th>error_rate</th>\n",
              "      <th>time</th>\n",
              "    </tr>\n",
              "  </thead>\n",
              "  <tbody>\n",
              "    <tr>\n",
              "      <td>0</td>\n",
              "      <td>2.837571</td>\n",
              "      <td>2.928148</td>\n",
              "      <td>0.934348</td>\n",
              "      <td>02:30</td>\n",
              "    </tr>\n",
              "    <tr>\n",
              "      <td>1</td>\n",
              "      <td>2.820536</td>\n",
              "      <td>2.956514</td>\n",
              "      <td>0.932826</td>\n",
              "      <td>02:38</td>\n",
              "    </tr>\n",
              "    <tr>\n",
              "      <td>2</td>\n",
              "      <td>2.828799</td>\n",
              "      <td>3.063221</td>\n",
              "      <td>0.910561</td>\n",
              "      <td>02:32</td>\n",
              "    </tr>\n",
              "    <tr>\n",
              "      <td>3</td>\n",
              "      <td>2.857069</td>\n",
              "      <td>3.167551</td>\n",
              "      <td>0.936441</td>\n",
              "      <td>02:34</td>\n",
              "    </tr>\n",
              "    <tr>\n",
              "      <td>4</td>\n",
              "      <td>2.869398</td>\n",
              "      <td>2.839968</td>\n",
              "      <td>0.914177</td>\n",
              "      <td>02:45</td>\n",
              "    </tr>\n",
              "    <tr>\n",
              "      <td>5</td>\n",
              "      <td>2.840270</td>\n",
              "      <td>2.852616</td>\n",
              "      <td>0.934539</td>\n",
              "      <td>02:37</td>\n",
              "    </tr>\n",
              "    <tr>\n",
              "      <td>6</td>\n",
              "      <td>2.824873</td>\n",
              "      <td>2.811313</td>\n",
              "      <td>0.917983</td>\n",
              "      <td>02:38</td>\n",
              "    </tr>\n",
              "    <tr>\n",
              "      <td>7</td>\n",
              "      <td>2.800418</td>\n",
              "      <td>2.848315</td>\n",
              "      <td>0.914177</td>\n",
              "      <td>02:38</td>\n",
              "    </tr>\n",
              "    <tr>\n",
              "      <td>8</td>\n",
              "      <td>2.779971</td>\n",
              "      <td>2.940488</td>\n",
              "      <td>0.930542</td>\n",
              "      <td>02:45</td>\n",
              "    </tr>\n",
              "    <tr>\n",
              "      <td>9</td>\n",
              "      <td>2.756997</td>\n",
              "      <td>2.767769</td>\n",
              "      <td>0.900476</td>\n",
              "      <td>02:50</td>\n",
              "    </tr>\n",
              "    <tr>\n",
              "      <td>10</td>\n",
              "      <td>2.703956</td>\n",
              "      <td>2.747038</td>\n",
              "      <td>0.905233</td>\n",
              "      <td>02:43</td>\n",
              "    </tr>\n",
              "    <tr>\n",
              "      <td>11</td>\n",
              "      <td>2.712005</td>\n",
              "      <td>2.753240</td>\n",
              "      <td>0.907897</td>\n",
              "      <td>02:47</td>\n",
              "    </tr>\n",
              "    <tr>\n",
              "      <td>12</td>\n",
              "      <td>2.679375</td>\n",
              "      <td>2.752319</td>\n",
              "      <td>0.899905</td>\n",
              "      <td>02:50</td>\n",
              "    </tr>\n",
              "    <tr>\n",
              "      <td>13</td>\n",
              "      <td>2.645702</td>\n",
              "      <td>2.759409</td>\n",
              "      <td>0.911513</td>\n",
              "      <td>02:45</td>\n",
              "    </tr>\n",
              "    <tr>\n",
              "      <td>14</td>\n",
              "      <td>2.635455</td>\n",
              "      <td>2.763037</td>\n",
              "      <td>0.909610</td>\n",
              "      <td>02:45</td>\n",
              "    </tr>\n",
              "  </tbody>\n",
              "</table>"
            ],
            "text/plain": [
              "<IPython.core.display.HTML object>"
            ]
          },
          "metadata": {
            "tags": []
          }
        },
        {
          "output_type": "stream",
          "text": [
            "/content/drive/MyDrive/ModelStages/resnet18-metric=error_rate-loss=CrossEntropyLoss/epochs-30\n",
            "Best training so far:  30\n"
          ],
          "name": "stdout"
        },
        {
          "output_type": "display_data",
          "data": {
            "text/html": [
              "<table border=\"1\" class=\"dataframe\">\n",
              "  <thead>\n",
              "    <tr style=\"text-align: left;\">\n",
              "      <th>epoch</th>\n",
              "      <th>train_loss</th>\n",
              "      <th>valid_loss</th>\n",
              "      <th>error_rate</th>\n",
              "      <th>time</th>\n",
              "    </tr>\n",
              "  </thead>\n",
              "  <tbody>\n",
              "    <tr>\n",
              "      <td>0</td>\n",
              "      <td>2.635380</td>\n",
              "      <td>2.768878</td>\n",
              "      <td>0.908468</td>\n",
              "      <td>02:41</td>\n",
              "    </tr>\n",
              "    <tr>\n",
              "      <td>1</td>\n",
              "      <td>2.656994</td>\n",
              "      <td>2.893491</td>\n",
              "      <td>0.917793</td>\n",
              "      <td>02:38</td>\n",
              "    </tr>\n",
              "    <tr>\n",
              "      <td>2</td>\n",
              "      <td>2.711905</td>\n",
              "      <td>3.015774</td>\n",
              "      <td>0.932255</td>\n",
              "      <td>02:47</td>\n",
              "    </tr>\n",
              "    <tr>\n",
              "      <td>3</td>\n",
              "      <td>2.753263</td>\n",
              "      <td>2.856055</td>\n",
              "      <td>0.928069</td>\n",
              "      <td>02:40</td>\n",
              "    </tr>\n",
              "    <tr>\n",
              "      <td>4</td>\n",
              "      <td>2.778516</td>\n",
              "      <td>3.278732</td>\n",
              "      <td>0.941770</td>\n",
              "      <td>02:43</td>\n",
              "    </tr>\n",
              "    <tr>\n",
              "      <td>5</td>\n",
              "      <td>2.767573</td>\n",
              "      <td>3.007708</td>\n",
              "      <td>0.928639</td>\n",
              "      <td>02:41</td>\n",
              "    </tr>\n",
              "    <tr>\n",
              "      <td>6</td>\n",
              "      <td>2.784122</td>\n",
              "      <td>2.797158</td>\n",
              "      <td>0.908278</td>\n",
              "      <td>02:41</td>\n",
              "    </tr>\n",
              "    <tr>\n",
              "      <td>7</td>\n",
              "      <td>2.758751</td>\n",
              "      <td>2.798726</td>\n",
              "      <td>0.922740</td>\n",
              "      <td>02:43</td>\n",
              "    </tr>\n",
              "    <tr>\n",
              "      <td>8</td>\n",
              "      <td>2.750421</td>\n",
              "      <td>2.902411</td>\n",
              "      <td>0.909039</td>\n",
              "      <td>02:43</td>\n",
              "    </tr>\n",
              "    <tr>\n",
              "      <td>9</td>\n",
              "      <td>2.701524</td>\n",
              "      <td>2.780541</td>\n",
              "      <td>0.910181</td>\n",
              "      <td>02:45</td>\n",
              "    </tr>\n",
              "    <tr>\n",
              "      <td>10</td>\n",
              "      <td>2.660517</td>\n",
              "      <td>2.773688</td>\n",
              "      <td>0.905804</td>\n",
              "      <td>02:41</td>\n",
              "    </tr>\n",
              "    <tr>\n",
              "      <td>11</td>\n",
              "      <td>2.593948</td>\n",
              "      <td>2.810811</td>\n",
              "      <td>0.910752</td>\n",
              "      <td>02:44</td>\n",
              "    </tr>\n",
              "    <tr>\n",
              "      <td>12</td>\n",
              "      <td>2.532595</td>\n",
              "      <td>2.824410</td>\n",
              "      <td>0.903520</td>\n",
              "      <td>02:42</td>\n",
              "    </tr>\n",
              "    <tr>\n",
              "      <td>13</td>\n",
              "      <td>2.495919</td>\n",
              "      <td>2.843796</td>\n",
              "      <td>0.904091</td>\n",
              "      <td>02:42</td>\n",
              "    </tr>\n",
              "    <tr>\n",
              "      <td>14</td>\n",
              "      <td>2.455369</td>\n",
              "      <td>3.575510</td>\n",
              "      <td>0.898763</td>\n",
              "      <td>02:45</td>\n",
              "    </tr>\n",
              "  </tbody>\n",
              "</table>"
            ],
            "text/plain": [
              "<IPython.core.display.HTML object>"
            ]
          },
          "metadata": {
            "tags": []
          }
        },
        {
          "output_type": "stream",
          "text": [
            "/content/drive/MyDrive/ModelStages/resnet18-metric=error_rate-loss=CrossEntropyLoss/epochs-45\n",
            "Best training so far:  45\n"
          ],
          "name": "stdout"
        },
        {
          "output_type": "display_data",
          "data": {
            "text/html": [
              "<table border=\"1\" class=\"dataframe\">\n",
              "  <thead>\n",
              "    <tr style=\"text-align: left;\">\n",
              "      <th>epoch</th>\n",
              "      <th>train_loss</th>\n",
              "      <th>valid_loss</th>\n",
              "      <th>error_rate</th>\n",
              "      <th>time</th>\n",
              "    </tr>\n",
              "  </thead>\n",
              "  <tbody>\n",
              "    <tr>\n",
              "      <td>0</td>\n",
              "      <td>2.477829</td>\n",
              "      <td>2.862602</td>\n",
              "      <td>0.907707</td>\n",
              "      <td>02:43</td>\n",
              "    </tr>\n",
              "    <tr>\n",
              "      <td>1</td>\n",
              "      <td>2.535157</td>\n",
              "      <td>2.864888</td>\n",
              "      <td>0.905233</td>\n",
              "      <td>02:47</td>\n",
              "    </tr>\n",
              "    <tr>\n",
              "      <td>2</td>\n",
              "      <td>2.678735</td>\n",
              "      <td>2.835944</td>\n",
              "      <td>0.909229</td>\n",
              "      <td>02:49</td>\n",
              "    </tr>\n",
              "    <tr>\n",
              "      <td>3</td>\n",
              "      <td>2.745816</td>\n",
              "      <td>2.831154</td>\n",
              "      <td>0.921028</td>\n",
              "      <td>02:45</td>\n",
              "    </tr>\n",
              "    <tr>\n",
              "      <td>4</td>\n",
              "      <td>2.752958</td>\n",
              "      <td>3.837649</td>\n",
              "      <td>0.912274</td>\n",
              "      <td>02:50</td>\n",
              "    </tr>\n",
              "    <tr>\n",
              "      <td>5</td>\n",
              "      <td>2.823629</td>\n",
              "      <td>2.780285</td>\n",
              "      <td>0.911323</td>\n",
              "      <td>02:53</td>\n",
              "    </tr>\n",
              "    <tr>\n",
              "      <td>6</td>\n",
              "      <td>2.807106</td>\n",
              "      <td>3.314886</td>\n",
              "      <td>0.905994</td>\n",
              "      <td>02:58</td>\n",
              "    </tr>\n",
              "    <tr>\n",
              "      <td>7</td>\n",
              "      <td>2.790648</td>\n",
              "      <td>2.796452</td>\n",
              "      <td>0.912464</td>\n",
              "      <td>02:55</td>\n",
              "    </tr>\n",
              "    <tr>\n",
              "      <td>8</td>\n",
              "      <td>2.766787</td>\n",
              "      <td>5.535236</td>\n",
              "      <td>0.913035</td>\n",
              "      <td>03:00</td>\n",
              "    </tr>\n",
              "    <tr>\n",
              "      <td>9</td>\n",
              "      <td>2.743201</td>\n",
              "      <td>2.759552</td>\n",
              "      <td>0.914177</td>\n",
              "      <td>03:00</td>\n",
              "    </tr>\n",
              "    <tr>\n",
              "      <td>10</td>\n",
              "      <td>2.705637</td>\n",
              "      <td>2.826433</td>\n",
              "      <td>0.910561</td>\n",
              "      <td>03:01</td>\n",
              "    </tr>\n",
              "    <tr>\n",
              "      <td>11</td>\n",
              "      <td>2.685159</td>\n",
              "      <td>2.749754</td>\n",
              "      <td>0.903711</td>\n",
              "      <td>03:01</td>\n",
              "    </tr>\n",
              "    <tr>\n",
              "      <td>12</td>\n",
              "      <td>2.651237</td>\n",
              "      <td>2.912139</td>\n",
              "      <td>0.907326</td>\n",
              "      <td>03:03</td>\n",
              "    </tr>\n",
              "    <tr>\n",
              "      <td>13</td>\n",
              "      <td>2.599700</td>\n",
              "      <td>2.922467</td>\n",
              "      <td>0.900476</td>\n",
              "      <td>03:07</td>\n",
              "    </tr>\n",
              "    <tr>\n",
              "      <td>14</td>\n",
              "      <td>2.578760</td>\n",
              "      <td>2.962647</td>\n",
              "      <td>0.899905</td>\n",
              "      <td>03:15</td>\n",
              "    </tr>\n",
              "  </tbody>\n",
              "</table>"
            ],
            "text/plain": [
              "<IPython.core.display.HTML object>"
            ]
          },
          "metadata": {
            "tags": []
          }
        },
        {
          "output_type": "stream",
          "text": [
            "/content/drive/MyDrive/ModelStages/resnet18-metric=error_rate-loss=CrossEntropyLoss/epochs-60\n",
            "Best training so far:  60\n"
          ],
          "name": "stdout"
        },
        {
          "output_type": "display_data",
          "data": {
            "text/html": [
              "\n",
              "    <div>\n",
              "        <style>\n",
              "            /* Turns off some styling */\n",
              "            progress {\n",
              "                /* gets rid of default border in Firefox and Opera. */\n",
              "                border: none;\n",
              "                /* Needs to be in here for Safari polyfill so background images work as expected. */\n",
              "                background-size: auto;\n",
              "            }\n",
              "            .progress-bar-interrupted, .progress-bar-interrupted::-webkit-progress-bar {\n",
              "                background: #F44336;\n",
              "            }\n",
              "        </style>\n",
              "      <progress value='2' class='' max='15' style='width:300px; height:20px; vertical-align: middle;'></progress>\n",
              "      13.33% [2/15 06:25<41:45]\n",
              "    </div>\n",
              "    \n",
              "<table border=\"1\" class=\"dataframe\">\n",
              "  <thead>\n",
              "    <tr style=\"text-align: left;\">\n",
              "      <th>epoch</th>\n",
              "      <th>train_loss</th>\n",
              "      <th>valid_loss</th>\n",
              "      <th>error_rate</th>\n",
              "      <th>time</th>\n",
              "    </tr>\n",
              "  </thead>\n",
              "  <tbody>\n",
              "    <tr>\n",
              "      <td>0</td>\n",
              "      <td>2.597217</td>\n",
              "      <td>2.814954</td>\n",
              "      <td>0.908658</td>\n",
              "      <td>03:12</td>\n",
              "    </tr>\n",
              "    <tr>\n",
              "      <td>1</td>\n",
              "      <td>2.644378</td>\n",
              "      <td>2.823701</td>\n",
              "      <td>0.909610</td>\n",
              "      <td>03:12</td>\n",
              "    </tr>\n",
              "  </tbody>\n",
              "</table><p>\n",
              "\n",
              "    <div>\n",
              "        <style>\n",
              "            /* Turns off some styling */\n",
              "            progress {\n",
              "                /* gets rid of default border in Firefox and Opera. */\n",
              "                border: none;\n",
              "                /* Needs to be in here for Safari polyfill so background images work as expected. */\n",
              "                background-size: auto;\n",
              "            }\n",
              "            .progress-bar-interrupted, .progress-bar-interrupted::-webkit-progress-bar {\n",
              "                background: #F44336;\n",
              "            }\n",
              "        </style>\n",
              "      <progress value='88' class='' max='157' style='width:300px; height:20px; vertical-align: middle;'></progress>\n",
              "      56.05% [88/157 01:40<01:19 2.6616]\n",
              "    </div>\n",
              "    "
            ],
            "text/plain": [
              "<IPython.core.display.HTML object>"
            ]
          },
          "metadata": {
            "tags": []
          }
        }
      ]
    },
    {
      "cell_type": "markdown",
      "metadata": {
        "id": "s2iP569WpeKc"
      },
      "source": [
        "## Interpretation"
      ]
    },
    {
      "cell_type": "code",
      "metadata": {
        "id": "tOXsaUPdpeKd"
      },
      "source": [
        "learn.load('/content/drive/MyDrive/ModelStages/'+c_model+'/epochs-45');\r\n",
        "learn.load('/content/drive/MyDrive/ModelStages/'+'resnet18_error_rate_loss=CrossEntropyLoss'+'/epochs-45');"
      ],
      "execution_count": 57,
      "outputs": []
    },
    {
      "cell_type": "code",
      "metadata": {
        "id": "XCR9JMB9peKd",
        "colab": {
          "base_uri": "https://localhost:8080/",
          "height": 17
        },
        "outputId": "7461b2ef-6f38-4411-aa24-4a1283de8e96"
      },
      "source": [
        "preds,y,losses = learn.get_preds(with_loss=True)\r\n",
        "interp = ClassificationInterpretation(learn,preds,y,losses)"
      ],
      "execution_count": 58,
      "outputs": [
        {
          "output_type": "display_data",
          "data": {
            "text/html": [
              ""
            ],
            "text/plain": [
              "<IPython.core.display.HTML object>"
            ]
          },
          "metadata": {
            "tags": []
          }
        }
      ]
    },
    {
      "cell_type": "code",
      "metadata": {
        "id": "baBrBABvpeKd",
        "colab": {
          "base_uri": "https://localhost:8080/",
          "height": 743
        },
        "outputId": "9329442f-2bff-4ad2-ef3f-a8b23980da68"
      },
      "source": [
        "interp.plot_confusion_matrix(figsize=(10,10))\r\n",
        "#print('loss = ' + str(round(1-sum(interp.confusion_matrix().diagonal())/interp.confusion_matrix().sum(),6)))"
      ],
      "execution_count": 59,
      "outputs": [
        {
          "output_type": "display_data",
          "data": {
            "image/png": "[encoded data removed]",
            "text/plain": [
              "<Figure size 720x720 with 1 Axes>"
            ]
          },
          "metadata": {
            "tags": [],
            "needs_background": "light"
          }
        }
      ]
    },
    {
      "cell_type": "markdown",
      "metadata": {
        "id": "bKKA-3NSpeKN"
      },
      "source": [
        "## Heatmap"
      ]
    },
    {
      "cell_type": "code",
      "metadata": {
        "id": "iHZe4iNXpeKO"
      },
      "source": [
        "idx=0\n",
        "x,y = loader.valid_ds[idx]\n",
        "x.show()\n",
        "data.valid_ds.y[idx]"
      ],
      "execution_count": null,
      "outputs": []
    },
    {
      "cell_type": "code",
      "metadata": {
        "id": "AXPQJ22EpeKP"
      },
      "source": [
        "m = learn.model.eval();"
      ],
      "execution_count": null,
      "outputs": []
    },
    {
      "cell_type": "code",
      "metadata": {
        "id": "81o3t7U2peKQ"
      },
      "source": [
        "xb,_ = data.one_item(x)\n",
        "xb_im = Image(data.denorm(xb)[0])\n",
        "xb = xb.cuda()"
      ],
      "execution_count": null,
      "outputs": []
    },
    {
      "cell_type": "code",
      "metadata": {
        "id": "czToEiH3peKQ"
      },
      "source": [
        "from fastai.callbacks.hooks import *"
      ],
      "execution_count": null,
      "outputs": []
    },
    {
      "cell_type": "code",
      "metadata": {
        "id": "jq35wV0upeKR"
      },
      "source": [
        "def hooked_backward(cat=y):\n",
        "    with hook_output(m[0]) as hook_a: \n",
        "        with hook_output(m[0], grad=True) as hook_g:\n",
        "            preds = m(xb)\n",
        "            preds[0,int(cat)].backward()\n",
        "    return hook_a,hook_g"
      ],
      "execution_count": null,
      "outputs": []
    },
    {
      "cell_type": "code",
      "metadata": {
        "id": "ozTPGNaOpeKS"
      },
      "source": [
        "hook_a,hook_g = hooked_backward()"
      ],
      "execution_count": null,
      "outputs": []
    },
    {
      "cell_type": "code",
      "metadata": {
        "id": "WePWvFMnpeKS"
      },
      "source": [
        "acts  = hook_a.stored[0].cpu()\n",
        "acts.shape"
      ],
      "execution_count": null,
      "outputs": []
    },
    {
      "cell_type": "code",
      "metadata": {
        "id": "px4IUkp0peKT"
      },
      "source": [
        "avg_acts = acts.mean(0)\n",
        "avg_acts.shape"
      ],
      "execution_count": null,
      "outputs": []
    },
    {
      "cell_type": "code",
      "metadata": {
        "id": "fFyklJqypeKT"
      },
      "source": [
        "def show_heatmap(hm):\n",
        "    _,ax = plt.subplots()\n",
        "    xb_im.show(ax)\n",
        "    ax.imshow(hm, alpha=0.6, extent=(0,256,256,0),\n",
        "              interpolation='bilinear', cmap='magma');"
      ],
      "execution_count": null,
      "outputs": []
    },
    {
      "cell_type": "code",
      "metadata": {
        "id": "wWkwWe9opeKU"
      },
      "source": [
        "show_heatmap(avg_acts)"
      ],
      "execution_count": null,
      "outputs": []
    },
    {
      "cell_type": "code",
      "metadata": {
        "id": "Val8XHzJpeKa"
      },
      "source": [
        "learn.load('/content/drive/MyDrive/ModelStages/resnet50/epochs-210');\n",
        "learn.unfreeze();\n",
        "#learn.lr_find()\n",
        "#learn.recorder.plot()"
      ],
      "execution_count": null,
      "outputs": []
    },
    {
      "cell_type": "code",
      "metadata": {
        "id": "ivmJgYaSpeKb",
        "colab": {
          "base_uri": "https://localhost:8080/",
          "height": 76
        },
        "outputId": "17a9be17-da15-4903-f976-753f0bcb27c6"
      },
      "source": [
        "learn.fit_one_cycle(1, lr)"
      ],
      "execution_count": null,
      "outputs": [
        {
          "output_type": "display_data",
          "data": {
            "text/html": [
              "<table border=\"1\" class=\"dataframe\">\n",
              "  <thead>\n",
              "    <tr style=\"text-align: left;\">\n",
              "      <th>epoch</th>\n",
              "      <th>train_loss</th>\n",
              "      <th>valid_loss</th>\n",
              "      <th>error_rate</th>\n",
              "      <th>time</th>\n",
              "    </tr>\n",
              "  </thead>\n",
              "  <tbody>\n",
              "    <tr>\n",
              "      <td>0</td>\n",
              "      <td>-143.659195</td>\n",
              "      <td>-184.509506</td>\n",
              "      <td>0.279570</td>\n",
              "      <td>00:51</td>\n",
              "    </tr>\n",
              "  </tbody>\n",
              "</table>"
            ],
            "text/plain": [
              "<IPython.core.display.HTML object>"
            ]
          },
          "metadata": {
            "tags": []
          }
        }
      ]
    },
    {
      "cell_type": "code",
      "metadata": {
        "id": "TF5XjzXLpeKc"
      },
      "source": [
        "learn.save('/content/drive/MyDrive/ModelStages/resnet50/test_run');"
      ],
      "execution_count": null,
      "outputs": []
    }
  ]
}