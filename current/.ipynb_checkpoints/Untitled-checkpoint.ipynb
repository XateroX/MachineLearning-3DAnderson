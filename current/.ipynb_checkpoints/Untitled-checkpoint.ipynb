{
 "cells": [
  {
   "cell_type": "code",
   "execution_count": null,
   "id": "lasting-boating",
   "metadata": {},
   "outputs": [],
   "source": [
    "datasrc = '~/PX319MLPhases/MachineLearning-Anderson/raw_system_data_refs/'\n",
    "for disorder_class_folder in os.scandir(datasrc):\n",
    "    refs_text_file = os.scandir(datasrc + disorder_class_folder)[0]\n",
    "    file = open()\n",
    "    if image_name[0] == 'L':\n",
    "        pixel_num = float(image_name.rsplit('s', 1)[1])\n",
    "        size_num = 0\n",
    "        size_bool = re.search('L(.+?)-', image_name)\n",
    "        if size_bool:\n",
    "            size_num = int(size_bool.group(1))\n",
    "        pixel_dens = pixel_num/size_num\n",
    "        pixel_density.append(pixel_dens)\n",
    "        image_categories.append(image_name)\n",
    "print(image_categories)\n",
    "print(pixel_density)"
   ]
  }
 ],
 "metadata": {
  "kernelspec": {
   "display_name": "Python 3",
   "language": "python",
   "name": "python3"
  },
  "language_info": {
   "codemirror_mode": {
    "name": "ipython",
    "version": 3
   },
   "file_extension": ".py",
   "mimetype": "text/x-python",
   "name": "python",
   "nbconvert_exporter": "python",
   "pygments_lexer": "ipython3",
   "version": "3.7.0"
  }
 },
 "nbformat": 4,
 "nbformat_minor": 5
}
